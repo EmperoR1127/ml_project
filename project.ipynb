{
  "nbformat": 4,
  "nbformat_minor": 0,
  "metadata": {
    "colab": {
      "name": "project.ipynb",
      "provenance": [],
      "collapsed_sections": [
        "RzSJA1Fa0ZLD",
        "4XBPDWNA0SK-",
        "5VGv6kw1j2f2",
        "ToG_GdIPEfsC",
        "BSTmBtNGuXZy"
      ],
      "include_colab_link": true
    },
    "kernelspec": {
      "name": "python3",
      "display_name": "Python 3"
    }
  },
  "cells": [
    {
      "cell_type": "markdown",
      "metadata": {
        "id": "view-in-github",
        "colab_type": "text"
      },
      "source": [
        "<a href=\"https://colab.research.google.com/github/EmperoR1127/ml_project/blob/emperor/project.ipynb\" target=\"_parent\"><img src=\"https://colab.research.google.com/assets/colab-badge.svg\" alt=\"Open In Colab\"/></a>"
      ]
    },
    {
      "cell_type": "code",
      "metadata": {
        "id": "G_TbqKhLg9Yf",
        "colab_type": "code",
        "outputId": "5991a3a6-a0e5-4489-b761-43d4ee074aab",
        "colab": {
          "base_uri": "https://localhost:8080/",
          "height": 125
        }
      },
      "source": [
        "from google.colab import drive\n",
        "drive.mount('/content/drive')"
      ],
      "execution_count": 2,
      "outputs": [
        {
          "output_type": "stream",
          "text": [
            "Go to this URL in a browser: https://accounts.google.com/o/oauth2/auth?client_id=947318989803-6bn6qk8qdgf4n4g3pfee6491hc0brc4i.apps.googleusercontent.com&redirect_uri=urn%3aietf%3awg%3aoauth%3a2.0%3aoob&response_type=code&scope=email%20https%3a%2f%2fwww.googleapis.com%2fauth%2fdocs.test%20https%3a%2f%2fwww.googleapis.com%2fauth%2fdrive%20https%3a%2f%2fwww.googleapis.com%2fauth%2fdrive.photos.readonly%20https%3a%2f%2fwww.googleapis.com%2fauth%2fpeopleapi.readonly\n",
            "\n",
            "Enter your authorization code:\n",
            "··········\n",
            "Mounted at /content/drive\n"
          ],
          "name": "stdout"
        }
      ]
    },
    {
      "cell_type": "markdown",
      "metadata": {
        "id": "ZLSkIfDHdYjk",
        "colab_type": "text"
      },
      "source": [
        "# Env setup"
      ]
    },
    {
      "cell_type": "markdown",
      "metadata": {
        "id": "E3blYPMzdrPA",
        "colab_type": "text"
      },
      "source": [
        "### Import packages"
      ]
    },
    {
      "cell_type": "code",
      "metadata": {
        "id": "L6GJppz9hBv5",
        "colab_type": "code",
        "colab": {}
      },
      "source": [
        "# To support both python 2 and python 3\n",
        "from __future__ import division, print_function, unicode_literals\n",
        "\n",
        "# Common imports\n",
        "import numpy as np\n",
        "import os\n",
        "from scipy.io import arff\n",
        "import pandas as pd\n",
        "\n",
        "# to make this notebook's output stable across runs\n",
        "np.random.seed(42)\n",
        "\n",
        "# To plot pretty figures\n",
        "%matplotlib inline\n",
        "import matplotlib as mpl\n",
        "import matplotlib.pyplot as plt\n",
        "mpl.rc('axes', labelsize=14)\n",
        "mpl.rc('xtick', labelsize=12)\n",
        "mpl.rc('ytick', labelsize=12)\n",
        "\n",
        "# Project root directory\n",
        "PROJECT_ROOT_DIR = \"/content/drive/My Drive/\"\n",
        "\n",
        "def save_fig(fig_id, tight_layout=True):\n",
        "    path = os.path.join(PROJECT_ROOT_DIR, \"Images\", fig_id + \".png\")\n",
        "    print(\"Saving figure\", fig_id)\n",
        "    if tight_layout:\n",
        "        plt.tight_layout()\n",
        "    plt.savefig(path, format='png', dpi=300)"
      ],
      "execution_count": 0,
      "outputs": []
    },
    {
      "cell_type": "markdown",
      "metadata": {
        "id": "jtfXsBeWdkzQ",
        "colab_type": "text"
      },
      "source": [
        "### Load the dataset"
      ]
    },
    {
      "cell_type": "code",
      "metadata": {
        "id": "cOO7V1uePIVN",
        "colab_type": "code",
        "outputId": "7be8e959-031e-4cd5-cd7f-653568edcf41",
        "colab": {
          "base_uri": "https://localhost:8080/",
          "height": 72
        }
      },
      "source": [
        "#load the dataset\n",
        "path = PROJECT_ROOT_DIR + \"Data/H-1B_Disclosure_RAW_Data.csv\"\n",
        "df = pd.read_csv(path, encoding='utf-8')\n",
        "processed_data = df.copy()"
      ],
      "execution_count": 20,
      "outputs": [
        {
          "output_type": "stream",
          "text": [
            "/usr/local/lib/python3.6/dist-packages/IPython/core/interactiveshell.py:2718: DtypeWarning: Columns (15) have mixed types. Specify dtype option on import or set low_memory=False.\n",
            "  interactivity=interactivity, compiler=compiler, result=result)\n"
          ],
          "name": "stderr"
        }
      ]
    },
    {
      "cell_type": "markdown",
      "metadata": {
        "id": "zlltPJJUAauj",
        "colab_type": "text"
      },
      "source": [
        "#Feature Engineering"
      ]
    },
    {
      "cell_type": "markdown",
      "metadata": {
        "id": "RzSJA1Fa0ZLD",
        "colab_type": "text"
      },
      "source": [
        "###Drop correlated columns and create new columns"
      ]
    },
    {
      "cell_type": "code",
      "metadata": {
        "id": "IVgedKr4jm9U",
        "colab_type": "code",
        "colab": {}
      },
      "source": [
        "processed_data = processed_data.drop([\"CASE_NUMBER\", \"VISA_CLASS\", \n",
        "                                        \"EMPLOYER_NAME\", \"EMPLOYER_STATE\",\"EMPLOYER_POSTAL_CODE\", \n",
        "                                        \"EMPLOYER_CITY\", \"EMPLOYER_BUSINESS_DBA\", \n",
        "                                        \"EMPLOYER_COUNTRY\", \"EMPLOYER_PROVINCE\", \"EMPLOYER_ADDRESS\", \n",
        "                                        \"EMPLOYER_PHONE\", \"EMPLOYER_PHONE_EXT\", \n",
        "                                        \"AGENT_ATTORNEY_NAME\", \"AGENT_ATTORNEY_CITY\", \"AGENT_ATTORNEY_STATE\",\n",
        "                                        \"JOB_TITLE\", \"SOC_NAME\",\n",
        "                                        \"PW_SOURCE\", \"PW_SOURCE_YEAR\", \"PW_SOURCE_OTHER\", \"WAGE_RATE_OF_PAY_FROM\",\n",
        "                                        \"WAGE_RATE_OF_PAY_TO\", \"WAGE_UNIT_OF_PAY\",\n",
        "                                        \"WORKSITE_CITY\", \"WORKSITE_COUNTY\", \"WORKSITE_POSTAL_CODE\", \n",
        "                                        \"ORIGINAL_CERT_DATE\", \"PUBLIC_DISCLOSURE_LOCATION\"], axis=1)\n",
        "#format EMPLOYMENT_START_DATE and EMPLOYMENT_END_DATE\n",
        "processed_data['CASE_SUBMITTED'] = pd.to_datetime(processed_data['CASE_SUBMITTED'],infer_datetime_format=True,errors='coerce')\n",
        "processed_data['DECISION_DATE'] = pd.to_datetime(processed_data['DECISION_DATE'],infer_datetime_format=True,errors='coerce')\n",
        "processed_data['EMPLOYMENT_START_DATE'] = pd.to_datetime(processed_data['EMPLOYMENT_START_DATE'],infer_datetime_format=True,errors='coerce')\n",
        "processed_data['EMPLOYMENT_END_DATE'] = pd.to_datetime(processed_data['EMPLOYMENT_END_DATE'],infer_datetime_format=True,errors='coerce')\n",
        "#drop NaT rows because we can't \"guess\" the specific date\n",
        "processed_data = processed_data[processed_data.CASE_SUBMITTED != 'NaT']\n",
        "processed_data = processed_data[processed_data.DECISION_DATE != 'NaT']\n",
        "processed_data = processed_data[processed_data.EMPLOYMENT_START_DATE != 'NaT']\n",
        "processed_data = processed_data[processed_data.EMPLOYMENT_END_DATE != 'NaT']\n",
        "#add one column as EMP_PERIOD, and drop EMPLOYMENT_START_DATE and EMPLOYMENT_END_DATE\n",
        "processed_data['EMP_PERIOD'] = processed_data['EMPLOYMENT_END_DATE'] - processed_data['EMPLOYMENT_START_DATE']\n",
        "processed_data['EMP_PERIOD'] = processed_data['EMP_PERIOD']/np.timedelta64(1,'Y')\n",
        "#train_set = train_set[train_set.EMP_PERIOD != '-']\n",
        "processed_data['EMP_PERIOD'] = processed_data['EMP_PERIOD'].astype(float)\n",
        "#add one column as PROCESS_TIME, indicating processing time of visa application\n",
        "processed_data['PROCESS_TIME'] = processed_data['DECISION_DATE'] - processed_data['CASE_SUBMITTED']\n",
        "processed_data['PROCESS_TIME'] = processed_data['PROCESS_TIME'].map(lambda x: str(x)[:1])\n",
        "processed_data['PROCESS_TIME'] = processed_data['PROCESS_TIME'].astype(float)\n",
        "processed_data = processed_data.drop([\"EMPLOYMENT_START_DATE\", \"EMPLOYMENT_END_DATE\"], axis=1)\n",
        "processed_data = processed_data.drop([\"CASE_SUBMITTED\", \"DECISION_DATE\"], axis=1)\n",
        "\n",
        "#concatenate the first 2 digit of column SOC_CODE and NAIC_CODE\n",
        "processed_data['SOC_CODE'] = processed_data['SOC_CODE'].map(lambda x: str(x)[:2])\n",
        "processed_data['NAICS_CODE'] = processed_data['NAICS_CODE'].map(lambda x: str(x)[:2])\n",
        "#remove impurity in the column\n",
        "processed_data = processed_data[processed_data.PW_UNIT_OF_PAY != 'N']\n",
        "processed_data = processed_data[processed_data.PREVAILING_WAGE != 'N']\n",
        "#according to google, there are 2080 working hours per year\n",
        "pw_unit_column = {\"Year\":1, \"Hour\":2080, \"Month\":12, \"Week\":52, \"Bi-Weekly\":26}\n",
        "processed_data['PW_UNIT_OF_PAY'] = processed_data['PW_UNIT_OF_PAY'].replace(pw_unit_column)\n",
        "#remove ',' in the column value\n",
        "processed_data['PREVAILING_WAGE'] = processed_data['PREVAILING_WAGE'].astype('str')\n",
        "processed_data['PREVAILING_WAGE'] = processed_data.PREVAILING_WAGE.str.replace(',','')\n",
        "processed_data['PREVAILING_WAGE'] = processed_data['PREVAILING_WAGE'].astype('float')\n",
        "#add one column as ANNUAL_SALARY\n",
        "processed_data['ANNUAL_SALARY'] = processed_data['PREVAILING_WAGE'] * processed_data['PW_UNIT_OF_PAY']\n",
        "processed_data = processed_data.drop([\"PREVAILING_WAGE\", \"PW_UNIT_OF_PAY\"], axis=1)\n"
      ],
      "execution_count": 0,
      "outputs": []
    },
    {
      "cell_type": "markdown",
      "metadata": {
        "id": "4XBPDWNA0SK-",
        "colab_type": "text"
      },
      "source": [
        "### Deal with noise, missing values, numerical and categorical data"
      ]
    },
    {
      "cell_type": "code",
      "metadata": {
        "id": "yRGugNHkGECf",
        "colab_type": "code",
        "outputId": "44934473-f262-439b-f6d2-18e90170099e",
        "colab": {
          "base_uri": "https://localhost:8080/",
          "height": 72
        }
      },
      "source": [
        "from sklearn.pipeline import Pipeline\n",
        "from sklearn.impute import SimpleImputer\n",
        "from sklearn.preprocessing import StandardScaler\n",
        "from sklearn.preprocessing import OneHotEncoder\n",
        "from sklearn.preprocessing import LabelEncoder\n",
        "from sklearn.compose import ColumnTransformer\n",
        "original_set = processed_data.drop([\"CASE_STATUS\"], axis=1)\n",
        "original_labels = processed_data[[\"CASE_STATUS\"]].copy()\n",
        "original_set_num = original_set.drop([\"AGENT_REPRESENTING_EMPLOYER\", \"SOC_CODE\", \"NAICS_CODE\",\n",
        "                                \"FULL_TIME_POSITION\", \"PW_WAGE_LEVEL\", \"H1B_DEPENDENT\", \"WILLFUL_VIOLATOR\",\n",
        "                                \"SUPPORT_H1B\", \"LABOR_CON_AGREE\", \"WORKSITE_STATE\"], axis=1)\n",
        "original_set_cat = original_set.drop([\"TOTAL_WORKERS\",\"NEW_EMPLOYMENT\",\"CONTINUED_EMPLOYMENT\",\n",
        "                                \"CHANGE_PREVIOUS_EMPLOYMENT\", \"NEW_CONCURRENT_EMP\", \"CHANGE_EMPLOYER\",\n",
        "                                \"AMENDED_PETITION\", \"EMP_PERIOD\", \"PROCESS_TIME\",\n",
        "                                \"ANNUAL_SALARY\"], axis=1)\n",
        "#build the pipeline\n",
        "num_pipeline = Pipeline([('imputer', SimpleImputer(strategy=\"median\")),('std_scaler', StandardScaler()),])\n",
        "cat_pipeline = Pipeline([('imputer', SimpleImputer(strategy=\"most_frequent\")),('cat', OneHotEncoder()),])\n",
        "full_pipeline = ColumnTransformer([(\"num\", num_pipeline, list(original_set_num)),(\"cat\", cat_pipeline, list(original_set_cat)),])\n",
        "\n",
        "#prepare the data\n",
        "original_set = full_pipeline.fit_transform(original_set)\n",
        "\n",
        "#prepare the target\n",
        "encoder = LabelEncoder()\n",
        "original_labels = encoder.fit_transform(original_labels)\n",
        "\n",
        "#get columns after encoding\n",
        "def get_feature_names(columnTransformer):\n",
        "    output_features = []\n",
        "    for name, pipe, features in columnTransformer.transformers_:\n",
        "        if name!='remainder':\n",
        "            for i in pipe:\n",
        "                trans_features = []\n",
        "                if hasattr(i,'categories_'):\n",
        "                    trans_features.extend(i.get_feature_names(features))\n",
        "                else:\n",
        "                    trans_features = features\n",
        "            output_features.extend(trans_features)\n",
        "    return output_features\n",
        "column_names = get_feature_names(full_pipeline)"
      ],
      "execution_count": 22,
      "outputs": [
        {
          "output_type": "stream",
          "text": [
            "/usr/local/lib/python3.6/dist-packages/sklearn/preprocessing/label.py:235: DataConversionWarning: A column-vector y was passed when a 1d array was expected. Please change the shape of y to (n_samples, ), for example using ravel().\n",
            "  y = column_or_1d(y, warn=True)\n"
          ],
          "name": "stderr"
        }
      ]
    },
    {
      "cell_type": "code",
      "metadata": {
        "id": "wFnoIJULI1Cs",
        "colab_type": "code",
        "outputId": "b441fb8d-56e4-41a9-dfc5-9a84ee459dd3",
        "colab": {
          "base_uri": "https://localhost:8080/",
          "height": 34
        }
      },
      "source": [
        "original_set.shape"
      ],
      "execution_count": 23,
      "outputs": [
        {
          "output_type": "execute_result",
          "data": {
            "text/plain": [
              "(20327, 122)"
            ]
          },
          "metadata": {
            "tags": []
          },
          "execution_count": 23
        }
      ]
    },
    {
      "cell_type": "markdown",
      "metadata": {
        "id": "5VGv6kw1j2f2",
        "colab_type": "text"
      },
      "source": [
        "### Feature selection"
      ]
    },
    {
      "cell_type": "code",
      "metadata": {
        "id": "Dwyk8nCc1zn2",
        "colab_type": "code",
        "colab": {}
      },
      "source": [
        "#get feature names after feature selection\n",
        "def get_feature_names(X, col = column_names):\n",
        "  try:\n",
        "    mask = X.get_support() #list of booleans\n",
        "  except AttributeError:\n",
        "    mask = X.support_  #Boruta has different attributes from scikit-learn API\n",
        "  new_features = [] # The list of your K best features\n",
        "  for bool, feature in zip(mask, col):\n",
        "    if bool:\n",
        "      new_features.append(feature)\n",
        "  return new_features"
      ],
      "execution_count": 0,
      "outputs": []
    },
    {
      "cell_type": "markdown",
      "metadata": {
        "id": "Ff-ed4Sp2LDQ",
        "colab_type": "text"
      },
      "source": [
        "Boruta feature selection method"
      ]
    },
    {
      "cell_type": "code",
      "metadata": {
        "id": "6yNuS8Id7ygE",
        "colab_type": "code",
        "outputId": "69e4e7e2-fa7d-4026-ebb2-046cf4128fc5",
        "colab": {
          "base_uri": "https://localhost:8080/",
          "height": 195
        }
      },
      "source": [
        "!pip install Boruta"
      ],
      "execution_count": 25,
      "outputs": [
        {
          "output_type": "stream",
          "text": [
            "Collecting Boruta\n",
            "\u001b[?25l  Downloading https://files.pythonhosted.org/packages/b2/11/583f4eac99d802c79af9217e1eff56027742a69e6c866b295cce6a5a8fc2/Boruta-0.3-py3-none-any.whl (56kB)\n",
            "\r\u001b[K     |█████▉                          | 10kB 16.1MB/s eta 0:00:01\r\u001b[K     |███████████▋                    | 20kB 1.7MB/s eta 0:00:01\r\u001b[K     |█████████████████▍              | 30kB 2.5MB/s eta 0:00:01\r\u001b[K     |███████████████████████▏        | 40kB 1.7MB/s eta 0:00:01\r\u001b[K     |█████████████████████████████   | 51kB 2.1MB/s eta 0:00:01\r\u001b[K     |████████████████████████████████| 61kB 1.9MB/s \n",
            "\u001b[?25hRequirement already satisfied: scipy>=0.17.0 in /usr/local/lib/python3.6/dist-packages (from Boruta) (1.3.2)\n",
            "Requirement already satisfied: numpy>=1.10.4 in /usr/local/lib/python3.6/dist-packages (from Boruta) (1.17.4)\n",
            "Requirement already satisfied: scikit-learn>=0.17.1 in /usr/local/lib/python3.6/dist-packages (from Boruta) (0.21.3)\n",
            "Requirement already satisfied: joblib>=0.11 in /usr/local/lib/python3.6/dist-packages (from scikit-learn>=0.17.1->Boruta) (0.14.0)\n",
            "Installing collected packages: Boruta\n",
            "Successfully installed Boruta-0.3\n"
          ],
          "name": "stdout"
        }
      ]
    },
    {
      "cell_type": "code",
      "metadata": {
        "id": "CuKN5c2-53z8",
        "colab_type": "code",
        "outputId": "d96c27fb-ea9b-482c-b5b2-347ce11ec286",
        "colab": {
          "base_uri": "https://localhost:8080/",
          "height": 52
        }
      },
      "source": [
        "from sklearn.ensemble import RandomForestClassifier\n",
        "from boruta import BorutaPy\n",
        "#Boruta feature selection\n",
        "rf = RandomForestClassifier(n_jobs=-1, class_weight='balanced', max_depth=5)\n",
        "\n",
        "feat_selector = BorutaPy(rf, n_estimators='auto', random_state=1)\n",
        "feat_selector.fit(original_set.toarray(), original_labels)\n",
        "boruta_set = feat_selector.transform(original_set)\n",
        "print(\"Dataset with \" + str(original_set.shape[1]) + \" features is reduced to \" + str(boruta_set.shape[1])\n",
        "      + \" features after applying Boruta feature selection technique\")\n",
        "print(get_feature_names(feat_selector))"
      ],
      "execution_count": 26,
      "outputs": [
        {
          "output_type": "stream",
          "text": [
            "Dataset with 122 features is reduced to 5 features after applying Boruta feature selection technique\n",
            "['PROCESS_TIME', 'ANNUAL_SALARY', 'SOC_CODE_15', 'H1B_DEPENDENT_N', 'H1B_DEPENDENT_Y']\n"
          ],
          "name": "stdout"
        }
      ]
    },
    {
      "cell_type": "markdown",
      "metadata": {
        "id": "y2sagoqX2T20",
        "colab_type": "text"
      },
      "source": [
        "L1-based and tree-based feature selection method"
      ]
    },
    {
      "cell_type": "code",
      "metadata": {
        "id": "tVoI2E6c6Tvg",
        "colab_type": "code",
        "outputId": "6bc18037-6929-4ff6-a1ce-0bfb7f305932",
        "colab": {
          "base_uri": "https://localhost:8080/",
          "height": 142
        }
      },
      "source": [
        "from sklearn.feature_selection import SelectFromModel\n",
        "from sklearn.svm import LinearSVC\n",
        "from sklearn.ensemble import ExtraTreesClassifier\n",
        "#L1-based feature selection\n",
        "lsvc = LinearSVC(C=0.01, penalty=\"l1\", dual=False, max_iter = 2000).fit(original_set, original_labels)\n",
        "l_model = SelectFromModel(lsvc, prefit=True)\n",
        "l1_set = l_model.transform(original_set)\n",
        "print(\"Dataset with \" + str(original_set.shape[1]) + \" features is reduced to \" + str(l1_set.shape[1])\n",
        "      + \" features after applying L1-based feature selection technique\")\n",
        "print(get_feature_names(l_model))\n",
        "\n",
        "#tree-based feature selection\n",
        "clf = ExtraTreesClassifier(n_estimators=50)\n",
        "clf = clf.fit(original_set, original_labels)\n",
        "tb_model = SelectFromModel(clf, prefit=True)\n",
        "tr_set = tb_model.transform(original_set)\n",
        "print(\"Dataset with \" + str(original_set.shape[1]) + \" features is reduced to \" + str(tr_set.shape[1])\n",
        "      + \" features after applying tree-based feature selection technique\")\n",
        "print(get_feature_names(tb_model))"
      ],
      "execution_count": 27,
      "outputs": [
        {
          "output_type": "stream",
          "text": [
            "/usr/local/lib/python3.6/dist-packages/sklearn/svm/base.py:929: ConvergenceWarning: Liblinear failed to converge, increase the number of iterations.\n",
            "  \"the number of iterations.\", ConvergenceWarning)\n"
          ],
          "name": "stderr"
        },
        {
          "output_type": "stream",
          "text": [
            "Dataset with 122 features is reduced to 9 features after applying L1-based feature selection technique\n",
            "['PROCESS_TIME', 'ANNUAL_SALARY', 'AGENT_REPRESENTING_EMPLOYER_Y', 'SOC_CODE_15', 'NAICS_CODE_54', 'FULL_TIME_POSITION_Y', 'H1B_DEPENDENT_Y', 'WILLFUL_VIOLATOR_N', 'SUPPORT_H1B_Y']\n",
            "Dataset with 122 features is reduced to 16 features after applying tree-based feature selection technique\n",
            "['TOTAL_WORKERS', 'NEW_EMPLOYMENT', 'CONTINUED_EMPLOYMENT', 'CHANGE_PREVIOUS_EMPLOYMENT', 'CHANGE_EMPLOYER', 'AMENDED_PETITION', 'EMP_PERIOD', 'PROCESS_TIME', 'ANNUAL_SALARY', 'AGENT_REPRESENTING_EMPLOYER_N', 'AGENT_REPRESENTING_EMPLOYER_Y', 'PW_WAGE_LEVEL_Level I', 'PW_WAGE_LEVEL_Level II', 'PW_WAGE_LEVEL_Level III', 'WORKSITE_STATE_CA', 'WORKSITE_STATE_NY']\n"
          ],
          "name": "stdout"
        }
      ]
    },
    {
      "cell_type": "markdown",
      "metadata": {
        "id": "ro4TXaI2sUx8",
        "colab_type": "text"
      },
      "source": [
        "### Deal with class imbalance"
      ]
    },
    {
      "cell_type": "code",
      "metadata": {
        "id": "Byix8507s90s",
        "colab_type": "code",
        "colab": {}
      },
      "source": [
        "import joblib\n",
        "from collections import Counter\n",
        "#load the datasets\n",
        "original_set = joblib.load(PROJECT_ROOT_DIR + 'Data/' + 'original_set.gz')\n",
        "boruta_set = joblib.load(PROJECT_ROOT_DIR + 'Data/' + 'boruta_set.gz')\n",
        "l1_set = joblib.load(PROJECT_ROOT_DIR + 'Data/' + 'l1_set.gz')\n",
        "tr_set = joblib.load(PROJECT_ROOT_DIR + 'Data/' + 'tr_set.gz')\n",
        "#load the labels\n",
        "original_labels = joblib.load(PROJECT_ROOT_DIR + 'Data/' + 'original_labels.gz')"
      ],
      "execution_count": 0,
      "outputs": []
    },
    {
      "cell_type": "markdown",
      "metadata": {
        "id": "XrTUV3A8tMC4",
        "colab_type": "text"
      },
      "source": [
        "Rebalance dataset with oversampling technique"
      ]
    },
    {
      "cell_type": "code",
      "metadata": {
        "id": "EmCKFngMtGM5",
        "colab_type": "code",
        "outputId": "49def03d-5048-43a3-cf19-84446ba11d02",
        "colab": {
          "base_uri": "https://localhost:8080/",
          "height": 125
        }
      },
      "source": [
        "from imblearn.over_sampling import RandomOverSampler\n",
        "\n",
        "#rebalance the dataset using oversampling (random oversampling)\n",
        "ros = RandomOverSampler(random_state=42)\n",
        "ros_boruta_set, ros_boruta_labels = ros.fit_resample(boruta_set, original_labels)\n",
        "print(\"Class distribution of oversampling with train_set_boruta \" + str(sorted(Counter(ros_boruta_labels).items())))\n",
        "\n",
        "ros_l1_set, ros_l1_labels = ros.fit_resample(l1_set, original_labels)\n",
        "print(\"Class distribution of oversampling with train_set_l1 \" + str(sorted(Counter(ros_l1_labels).items())))\n",
        "\n",
        "ros_tr_set, ros_tr_labels = ros.fit_resample(tr_set, original_labels)\n",
        "print(\"Class distribution of oversampling with train_set_tr \" + str(sorted(Counter(ros_tr_labels).items())))"
      ],
      "execution_count": 29,
      "outputs": [
        {
          "output_type": "stream",
          "text": [
            "Class distribution of oversampling with train_set_boruta [(0, 20058), (1, 20058)]\n",
            "Class distribution of oversampling with train_set_l1 [(0, 20058), (1, 20058)]\n",
            "Class distribution of oversampling with train_set_tr [(0, 20058), (1, 20058)]\n"
          ],
          "name": "stdout"
        },
        {
          "output_type": "stream",
          "text": [
            "/usr/local/lib/python3.6/dist-packages/sklearn/externals/six.py:31: DeprecationWarning: The module is deprecated in version 0.21 and will be removed in version 0.23 since we've dropped support for Python 2.7. Please rely on the official version of six (https://pypi.org/project/six/).\n",
            "  \"(https://pypi.org/project/six/).\", DeprecationWarning)\n"
          ],
          "name": "stderr"
        }
      ]
    },
    {
      "cell_type": "markdown",
      "metadata": {
        "id": "_Coxm_WJwpQh",
        "colab_type": "text"
      },
      "source": [
        "Rebalance dataset with under-sampling technique"
      ]
    },
    {
      "cell_type": "code",
      "metadata": {
        "id": "h2ypJeXqwuUY",
        "colab_type": "code",
        "outputId": "b0a8e726-c435-454a-9575-7529f7ffbcac",
        "colab": {
          "base_uri": "https://localhost:8080/",
          "height": 70
        }
      },
      "source": [
        "from imblearn.under_sampling import RepeatedEditedNearestNeighbours\n",
        "#rebalance the dataset using undersampling (nearest neightbours)\n",
        "renn = RepeatedEditedNearestNeighbours()\n",
        "renn_boruta_set, renn_boruta_labels = renn.fit_resample(boruta_set, original_labels)\n",
        "print(\"Class distribution of undersampling with boruta_set \" + str(sorted(Counter(renn_boruta_labels).items())))\n",
        "\n",
        "renn_l1_set, renn_l1_labels = renn.fit_resample(l1_set, original_labels)\n",
        "print(\"Class distribution of undersampling with l1_set \" + str(sorted(Counter(renn_l1_labels).items())))\n",
        "\n",
        "renn_tr_set, renn_tr_labels = renn.fit_resample(tr_set, original_labels)\n",
        "print(\"Class distribution of undersampling with tr_set \" + str(sorted(Counter(renn_tr_labels).items())))"
      ],
      "execution_count": 30,
      "outputs": [
        {
          "output_type": "stream",
          "text": [
            "Class distribution of undersampling with boruta_set [(0, 19484), (1, 269)]\n",
            "Class distribution of undersampling with l1_set [(0, 19548), (1, 269)]\n",
            "Class distribution of undersampling with tr_set [(0, 19606), (1, 269)]\n"
          ],
          "name": "stdout"
        }
      ]
    },
    {
      "cell_type": "markdown",
      "metadata": {
        "id": "x551OsAqwa1L",
        "colab_type": "text"
      },
      "source": [
        "Rebalance dataset with balanced sampling technique"
      ]
    },
    {
      "cell_type": "code",
      "metadata": {
        "id": "B59FGJ7zQNff",
        "colab_type": "code",
        "outputId": "d3e134b7-4c59-46ea-f077-56bf3ca82e5e",
        "colab": {
          "base_uri": "https://localhost:8080/",
          "height": 70
        }
      },
      "source": [
        "from imblearn.combine import SMOTEENN\n",
        "#rebalance the dataset using balanced sampling (SMOTEENN)\n",
        "smote_enn = SMOTEENN(random_state=0)\n",
        "smote_boruta_set, smote_boruta_labels = smote_enn.fit_resample(boruta_set, original_labels)\n",
        "print(\"Class distribution of balanced sampling with boruta_set \" + str(sorted(Counter(smote_boruta_labels).items())))\n",
        "\n",
        "smote_l1_set, smote_l1_labels = smote_enn.fit_resample(l1_set, original_labels)\n",
        "print(\"Class distribution of balanced sampling with l1_set \" + str(sorted(Counter(smote_l1_labels).items())))\n",
        "\n",
        "smote_tr_set, smote_tr_labels = smote_enn.fit_resample(tr_set, original_labels)\n",
        "print(\"Class distribution of balanced sampling with tr_set \" + str(sorted(Counter(smote_tr_labels).items())))"
      ],
      "execution_count": 31,
      "outputs": [
        {
          "output_type": "stream",
          "text": [
            "Class distribution of balanced sampling with boruta_set [(0, 16097), (1, 15546)]\n",
            "Class distribution of balanced sampling with l1_set [(0, 16067), (1, 16140)]\n",
            "Class distribution of balanced sampling with tr_set [(0, 19055), (1, 19077)]\n"
          ],
          "name": "stdout"
        }
      ]
    },
    {
      "cell_type": "markdown",
      "metadata": {
        "id": "LVWcMbSPU3A0",
        "colab_type": "text"
      },
      "source": [
        "### Split train and test set"
      ]
    },
    {
      "cell_type": "code",
      "metadata": {
        "id": "heKfDhlRvGy7",
        "colab_type": "code",
        "colab": {}
      },
      "source": [
        "#split the dataset into train and test set\n",
        "from sklearn.model_selection import train_test_split\n",
        "\n",
        "#1. split original_set and original_labels\n",
        "original_set_train, original_set_test, original_labels_train, original_labels_test = train_test_split(original_set,original_labels, test_size=0.2, random_state=42)\n",
        "\n",
        "#2. split ros_boruta_set and ros_boruta_labels\n",
        "ros_boruta_set_train, ros_boruta_set_test, ros_boruta_labels_train, ros_boruta_labels_test = train_test_split(ros_boruta_set,ros_boruta_labels, test_size=0.2, random_state=42)\n",
        "#3. split ros_l1_set and ros_l1_labels\n",
        "ros_l1_set_train, ros_l1_set_test, ros_l1_labels_train, ros_l1_labels_test = train_test_split(ros_l1_set,ros_l1_labels, test_size=0.2, random_state=42)\n",
        "#4. split ros_tr_set and ros_tr_labels\n",
        "ros_tr_set_train, ros_tr_set_test, ros_tr_labels_train, ros_tr_labels_test = train_test_split(ros_tr_set,ros_tr_labels, test_size=0.2, random_state=42)\n",
        "\n",
        "#5. split renn_boruta_set and renn_boruta_labels\n",
        "renn_boruta_set_train, renn_boruta_set_test, renn_boruta_labels_train, renn_boruta_labels_test = train_test_split(renn_boruta_set,renn_boruta_labels, test_size=0.2, random_state=42)\n",
        "#6. split renn_l1_set and renn_l1_labels\n",
        "renn_l1_set_train, renn_l1_set_test, renn_l1_labels_train, renn_l1_labels_test = train_test_split(renn_l1_set,renn_l1_labels, test_size=0.2, random_state=42)\n",
        "#7. split renn_tr_set and renn_tr_labels\n",
        "renn_tr_set_train, renn_tr_set_test, renn_tr_labels_train, renn_tr_labels_test = train_test_split(renn_tr_set,renn_tr_labels, test_size=0.2, random_state=42)\n",
        "\n",
        "#8. split smote_boruta_set and smote_boruta_labels\n",
        "smote_boruta_set_train, smote_boruta_set_test, smote_boruta_labels_train, smote_boruta_labels_test = train_test_split(smote_boruta_set,smote_boruta_labels, test_size=0.2, random_state=42)\n",
        "#9. split smote_l1_set and smote_l1_labels\n",
        "smote_l1_set_train, smote_l1_set_test, smote_l1_labels_train, smote_l1_labels_test = train_test_split(smote_l1_set,smote_l1_labels, test_size=0.2, random_state=42)\n",
        "#10. split smote_tr_set and smote_tr_labels\n",
        "smote_tr_set_train, smote_tr_set_test, smote_tr_labels_train, smote_tr_labels_test = train_test_split(smote_tr_set,smote_tr_labels, test_size=0.2, random_state=42)\n"
      ],
      "execution_count": 0,
      "outputs": []
    },
    {
      "cell_type": "markdown",
      "metadata": {
        "id": "qtzr6EtWU9cr",
        "colab_type": "text"
      },
      "source": [
        "### Dump the dataset"
      ]
    },
    {
      "cell_type": "code",
      "metadata": {
        "id": "srUNJLqWvLfH",
        "colab_type": "code",
        "outputId": "dfc02e87-7d3a-4972-e069-33e901951f51",
        "colab": {
          "base_uri": "https://localhost:8080/",
          "height": 34
        }
      },
      "source": [
        "#store original dataset\n",
        "joblib.dump(original_set_train, PROJECT_ROOT_DIR + 'ml_project_dataset/' + 'original_set_train' + '.gz', compress=('gzip', 3))\n",
        "joblib.dump(original_set_test, PROJECT_ROOT_DIR + 'ml_project_dataset/' + 'original_set_test' + '.gz', compress=('gzip', 3))\n",
        "joblib.dump(original_labels_train, PROJECT_ROOT_DIR + 'ml_project_dataset/' + 'original_labels_train' + '.gz', compress=('gzip', 3))\n",
        "joblib.dump(original_labels_test, PROJECT_ROOT_DIR + 'ml_project_dataset/' + 'original_labels_test' + '.gz', compress=('gzip', 3))\n",
        "\n",
        "#store ros_boruta dataset\n",
        "joblib.dump(ros_boruta_set_train, PROJECT_ROOT_DIR + 'ml_project_dataset/' + 'ros_boruta_set_train' + '.gz', compress=('gzip', 3))\n",
        "joblib.dump(ros_boruta_set_test, PROJECT_ROOT_DIR + 'ml_project_dataset/' + 'ros_boruta_set_test' + '.gz', compress=('gzip', 3))\n",
        "joblib.dump(ros_boruta_labels_train, PROJECT_ROOT_DIR + 'ml_project_dataset/' + 'ros_boruta_labels_train' + '.gz', compress=('gzip', 3))\n",
        "joblib.dump(ros_boruta_labels_test, PROJECT_ROOT_DIR + 'ml_project_dataset/' + 'ros_boruta_labels_test' + '.gz', compress=('gzip', 3))\n",
        "\n",
        "#store ros_l1 dataset\n",
        "joblib.dump(ros_l1_set_train, PROJECT_ROOT_DIR + 'ml_project_dataset/' + 'ros_l1_set_train' + '.gz', compress=('gzip', 3))\n",
        "joblib.dump(ros_l1_set_test, PROJECT_ROOT_DIR + 'ml_project_dataset/' + 'ros_l1_set_test' + '.gz', compress=('gzip', 3))\n",
        "joblib.dump(ros_l1_labels_train, PROJECT_ROOT_DIR + 'ml_project_dataset/' + 'ros_l1_labels_train' + '.gz', compress=('gzip', 3))\n",
        "joblib.dump(ros_l1_labels_test, PROJECT_ROOT_DIR + 'ml_project_dataset/' + 'ros_l1_labels_test' + '.gz', compress=('gzip', 3))\n",
        "\n",
        "#store ros_tr dataset\n",
        "joblib.dump(ros_tr_set_train, PROJECT_ROOT_DIR + 'ml_project_dataset/' + 'ros_tr_set_train' + '.gz', compress=('gzip', 3))\n",
        "joblib.dump(ros_tr_set_test, PROJECT_ROOT_DIR + 'ml_project_dataset/' + 'ros_tr_set_test' + '.gz', compress=('gzip', 3))\n",
        "joblib.dump(ros_tr_labels_train, PROJECT_ROOT_DIR + 'ml_project_dataset/' + 'ros_tr_labels_train' + '.gz', compress=('gzip', 3))\n",
        "joblib.dump(ros_tr_labels_test, PROJECT_ROOT_DIR + 'ml_project_dataset/' + 'ros_tr_labels_test' + '.gz', compress=('gzip', 3))\n",
        "\n",
        "#store renn_boruta dataset\n",
        "joblib.dump(renn_boruta_set_train, PROJECT_ROOT_DIR + 'ml_project_dataset/' + 'renn_boruta_set_train' + '.gz', compress=('gzip', 3))\n",
        "joblib.dump(renn_boruta_set_test, PROJECT_ROOT_DIR + 'ml_project_dataset/' + 'renn_boruta_set_test' + '.gz', compress=('gzip', 3))\n",
        "joblib.dump(renn_boruta_labels_train, PROJECT_ROOT_DIR + 'ml_project_dataset/' + 'renn_boruta_labels_train' + '.gz', compress=('gzip', 3))\n",
        "joblib.dump(renn_boruta_labels_test, PROJECT_ROOT_DIR + 'ml_project_dataset/' + 'renn_boruta_labels_test' + '.gz', compress=('gzip', 3))\n",
        "\n",
        "#store renn_l1 dataset\n",
        "joblib.dump(renn_l1_set_train, PROJECT_ROOT_DIR + 'ml_project_dataset/' + 'renn_l1_set_train' + '.gz', compress=('gzip', 3))\n",
        "joblib.dump(renn_l1_set_test, PROJECT_ROOT_DIR + 'ml_project_dataset/' + 'renn_l1_set_test' + '.gz', compress=('gzip', 3))\n",
        "joblib.dump(renn_l1_labels_train, PROJECT_ROOT_DIR + 'ml_project_dataset/' + 'renn_l1_labels_train' + '.gz', compress=('gzip', 3))\n",
        "joblib.dump(renn_l1_labels_test, PROJECT_ROOT_DIR + 'ml_project_dataset/' + 'renn_l1_labels_test' + '.gz', compress=('gzip', 3))\n",
        "\n",
        "#store renn_tr dataset\n",
        "joblib.dump(renn_tr_set_train, PROJECT_ROOT_DIR + 'ml_project_dataset/' + 'renn_tr_set_train' + '.gz', compress=('gzip', 3))\n",
        "joblib.dump(renn_tr_set_test, PROJECT_ROOT_DIR + 'ml_project_dataset/' + 'renn_tr_set_test' + '.gz', compress=('gzip', 3))\n",
        "joblib.dump(renn_tr_labels_train, PROJECT_ROOT_DIR + 'ml_project_dataset/' + 'renn_tr_labels_train' + '.gz', compress=('gzip', 3))\n",
        "joblib.dump(renn_tr_labels_test, PROJECT_ROOT_DIR + 'ml_project_dataset/' + 'renn_tr_labels_test' + '.gz', compress=('gzip', 3))\n",
        "\n",
        "#store smote_boruta dataset\n",
        "joblib.dump(smote_boruta_set_train, PROJECT_ROOT_DIR + 'ml_project_dataset/' + 'smote_boruta_set_train' + '.gz', compress=('gzip', 3))\n",
        "joblib.dump(smote_boruta_set_test, PROJECT_ROOT_DIR + 'ml_project_dataset/' + 'smote_boruta_set_test' + '.gz', compress=('gzip', 3))\n",
        "joblib.dump(smote_boruta_labels_train, PROJECT_ROOT_DIR + 'ml_project_dataset/' + 'smote_boruta_labels_train' + '.gz', compress=('gzip', 3))\n",
        "joblib.dump(smote_boruta_labels_test, PROJECT_ROOT_DIR + 'ml_project_dataset/' + 'smote_boruta_labels_test' + '.gz', compress=('gzip', 3))\n",
        "\n",
        "#store smote_l1 dataset\n",
        "joblib.dump(smote_l1_set_train, PROJECT_ROOT_DIR + 'ml_project_dataset/' + 'smote_l1_set_train' + '.gz', compress=('gzip', 3))\n",
        "joblib.dump(smote_l1_set_test, PROJECT_ROOT_DIR + 'ml_project_dataset/' + 'smote_l1_set_test' + '.gz', compress=('gzip', 3))\n",
        "joblib.dump(smote_l1_labels_train, PROJECT_ROOT_DIR + 'ml_project_dataset/' + 'smote_l1_labels_train' + '.gz', compress=('gzip', 3))\n",
        "joblib.dump(smote_l1_labels_test, PROJECT_ROOT_DIR + 'ml_project_dataset/' + 'smote_l1_labels_test' + '.gz', compress=('gzip', 3))\n",
        "\n",
        "#store smote_tr dataset\n",
        "joblib.dump(smote_tr_set_train, PROJECT_ROOT_DIR + 'ml_project_dataset/' + 'smote_tr_set_train' + '.gz', compress=('gzip', 3))\n",
        "joblib.dump(smote_tr_set_test, PROJECT_ROOT_DIR + 'ml_project_dataset/' + 'smote_tr_set_test' + '.gz', compress=('gzip', 3))\n",
        "joblib.dump(smote_tr_labels_train, PROJECT_ROOT_DIR + 'ml_project_dataset/' + 'smote_tr_labels_train' + '.gz', compress=('gzip', 3))\n",
        "joblib.dump(smote_tr_labels_test, PROJECT_ROOT_DIR + 'ml_project_dataset/' + 'smote_tr_labels_test' + '.gz', compress=('gzip', 3))"
      ],
      "execution_count": 33,
      "outputs": [
        {
          "output_type": "execute_result",
          "data": {
            "text/plain": [
              "['/content/drive/My Drive/ml_project_dataset/smote_tr_labels_test.gz']"
            ]
          },
          "metadata": {
            "tags": []
          },
          "execution_count": 33
        }
      ]
    },
    {
      "cell_type": "markdown",
      "metadata": {
        "id": "JafooTz4zkTT",
        "colab_type": "text"
      },
      "source": [
        "# Train the models"
      ]
    },
    {
      "cell_type": "markdown",
      "metadata": {
        "id": "vUEtbpP5Uxcg",
        "colab_type": "text"
      },
      "source": [
        "### Load the dataset"
      ]
    },
    {
      "cell_type": "code",
      "metadata": {
        "id": "gur5v8QEtPAj",
        "colab_type": "code",
        "colab": {}
      },
      "source": [
        "import joblib\n",
        "#load the 10 datasets\n",
        "#1. original dataset\n",
        "original_set_train = joblib.load(PROJECT_ROOT_DIR + 'ml_project_dataset/' + 'original_set_train' + '.gz')\n",
        "original_set_test = joblib.load(PROJECT_ROOT_DIR + 'ml_project_dataset/' + 'original_set_test' + '.gz')\n",
        "original_labels_train = joblib.load(PROJECT_ROOT_DIR + 'ml_project_dataset/' + 'original_labels_train' + '.gz')\n",
        "original_labels_test = joblib.load(PROJECT_ROOT_DIR + 'ml_project_dataset/' + 'original_labels_test' + '.gz')\n",
        "\n",
        "#2. ros_boruta dataset\n",
        "ros_boruta_set_train = joblib.load(PROJECT_ROOT_DIR + 'ml_project_dataset/' + 'ros_boruta_set_train' + '.gz')\n",
        "ros_boruta_set_test = joblib.load(PROJECT_ROOT_DIR + 'ml_project_dataset/' + 'ros_boruta_set_test' + '.gz')\n",
        "ros_boruta_labels_train = joblib.load(PROJECT_ROOT_DIR + 'ml_project_dataset/' + 'ros_boruta_labels_train' + '.gz')\n",
        "ros_boruta_labels_test = joblib.load(PROJECT_ROOT_DIR + 'ml_project_dataset/' + 'ros_boruta_labels_test' + '.gz')\n",
        "\n",
        "#3. ros_l1 dataset\n",
        "ros_l1_set_train = joblib.load(PROJECT_ROOT_DIR + 'ml_project_dataset/' + 'ros_l1_set_train' + '.gz')\n",
        "ros_l1_set_test = joblib.load(PROJECT_ROOT_DIR + 'ml_project_dataset/' + 'ros_l1_set_test' + '.gz')\n",
        "ros_l1_labels_train = joblib.load(PROJECT_ROOT_DIR + 'ml_project_dataset/' + 'ros_l1_labels_train' + '.gz')\n",
        "ros_l1_labels_test = joblib.load(PROJECT_ROOT_DIR + 'ml_project_dataset/' + 'ros_l1_labels_test' + '.gz')\n",
        "\n",
        "#4. ros_tr dataset\n",
        "ros_tr_set_train = joblib.load(PROJECT_ROOT_DIR + 'ml_project_dataset/' + 'ros_tr_set_train' + '.gz')\n",
        "ros_tr_set_test = joblib.load(PROJECT_ROOT_DIR + 'ml_project_dataset/' + 'ros_tr_set_test' + '.gz')\n",
        "ros_tr_labels_train = joblib.load(PROJECT_ROOT_DIR + 'ml_project_dataset/' + 'ros_tr_labels_train' + '.gz')\n",
        "ros_tr_labels_test = joblib.load(PROJECT_ROOT_DIR + 'ml_project_dataset/' + 'ros_tr_labels_test' + '.gz')\n",
        "\n",
        "#5. renn_boruta dataset\n",
        "renn_boruta_set_train = joblib.load(PROJECT_ROOT_DIR + 'ml_project_dataset/' + 'renn_boruta_set_train' + '.gz')\n",
        "renn_boruta_set_test = joblib.load(PROJECT_ROOT_DIR + 'ml_project_dataset/' + 'renn_boruta_set_test' + '.gz')\n",
        "renn_boruta_labels_train = joblib.load(PROJECT_ROOT_DIR + 'ml_project_dataset/' + 'renn_boruta_labels_train' + '.gz')\n",
        "renn_boruta_labels_test = joblib.load(PROJECT_ROOT_DIR + 'ml_project_dataset/' + 'renn_boruta_labels_test' + '.gz')\n",
        "\n",
        "#6. renn_l1 dataset\n",
        "renn_l1_set_train = joblib.load(PROJECT_ROOT_DIR + 'ml_project_dataset/' + 'renn_l1_set_train' + '.gz')\n",
        "renn_l1_set_test = joblib.load(PROJECT_ROOT_DIR + 'ml_project_dataset/' + 'renn_l1_set_test' + '.gz')\n",
        "renn_l1_labels_train = joblib.load(PROJECT_ROOT_DIR + 'ml_project_dataset/' + 'renn_l1_labels_train' + '.gz')\n",
        "renn_l1_labels_test = joblib.load(PROJECT_ROOT_DIR + 'ml_project_dataset/' + 'renn_l1_labels_test' + '.gz')\n",
        "\n",
        "#7. renn_tr dataset\n",
        "renn_tr_set_train = joblib.load(PROJECT_ROOT_DIR + 'ml_project_dataset/' + 'renn_tr_set_train' + '.gz')\n",
        "renn_tr_set_test = joblib.load(PROJECT_ROOT_DIR + 'ml_project_dataset/' + 'renn_tr_set_test' + '.gz')\n",
        "renn_tr_labels_train = joblib.load(PROJECT_ROOT_DIR + 'ml_project_dataset/' + 'renn_tr_labels_train' + '.gz')\n",
        "renn_tr_labels_test = joblib.load(PROJECT_ROOT_DIR + 'ml_project_dataset/' + 'renn_tr_labels_test' + '.gz')\n",
        "\n",
        "#8. smote_boruta dataset\n",
        "smote_boruta_set_train = joblib.load(PROJECT_ROOT_DIR + 'ml_project_dataset/' + 'smote_boruta_set_train' + '.gz')\n",
        "smote_boruta_set_test = joblib.load(PROJECT_ROOT_DIR + 'ml_project_dataset/' + 'smote_boruta_set_test' + '.gz')\n",
        "smote_boruta_labels_train = joblib.load(PROJECT_ROOT_DIR + 'ml_project_dataset/' + 'smote_boruta_labels_train' + '.gz')\n",
        "smote_boruta_labels_test = joblib.load(PROJECT_ROOT_DIR + 'ml_project_dataset/' + 'smote_boruta_labels_test' + '.gz')\n",
        "\n",
        "#9. smote_l1 dataset\n",
        "smote_l1_set_train = joblib.load(PROJECT_ROOT_DIR + 'ml_project_dataset/' + 'smote_l1_set_train' + '.gz')\n",
        "smote_l1_set_test = joblib.load(PROJECT_ROOT_DIR + 'ml_project_dataset/' + 'smote_l1_set_test' + '.gz')\n",
        "smote_l1_labels_train = joblib.load(PROJECT_ROOT_DIR + 'ml_project_dataset/' + 'smote_l1_labels_train' + '.gz')\n",
        "smote_l1_labels_test = joblib.load(PROJECT_ROOT_DIR + 'ml_project_dataset/' + 'smote_l1_labels_test' + '.gz')\n",
        "\n",
        "#10. smote_tr dataset\n",
        "smote_tr_set_train = joblib.load(PROJECT_ROOT_DIR + 'ml_project_dataset/' + 'smote_tr_set_train' + '.gz')\n",
        "smote_tr_set_test = joblib.load(PROJECT_ROOT_DIR + 'ml_project_dataset/' + 'smote_tr_set_test' + '.gz')\n",
        "smote_tr_labels_train = joblib.load(PROJECT_ROOT_DIR + 'ml_project_dataset/' + 'smote_tr_labels_train' + '.gz')\n",
        "smote_tr_labels_test = joblib.load(PROJECT_ROOT_DIR + 'ml_project_dataset/' + 'smote_tr_labels_test' + '.gz')\n",
        "\n",
        "#define the dateset list\n",
        "train_set_list = [original_set_train,ros_boruta_set_train,ros_l1_set_train,ros_tr_set_train, \\\n",
        "                 renn_boruta_set_train,renn_l1_set_train,renn_tr_set_train,smote_boruta_set_train,\\\n",
        "                 smote_l1_set_train,smote_tr_set_train]\n",
        "train_labels_list = [original_labels_train,ros_boruta_labels_train,ros_l1_labels_train, \\\n",
        "                    ros_tr_labels_train,renn_boruta_labels_train,renn_l1_labels_train \\\n",
        "                    ,renn_tr_labels_train,smote_boruta_labels_train,smote_l1_labels_train,smote_tr_labels_train]\n",
        "test_set_list = [original_set_test,ros_boruta_set_test,ros_l1_set_test,ros_tr_set_test,renn_boruta_set_test, \\\n",
        "                renn_l1_set_test,renn_tr_set_test,smote_boruta_set_test,smote_l1_set_test,smote_tr_set_test]\n",
        "test_labels_list = [original_labels_test,ros_boruta_labels_test,ros_l1_labels_test,ros_tr_labels_test, \\\n",
        "                  renn_boruta_labels_test,renn_l1_labels_test,renn_tr_labels_test,smote_boruta_labels_test, \\\n",
        "                  smote_l1_labels_test,smote_tr_labels_test]\n",
        "dataset_name_list = [\"original\",\"ros_boruta\",\"ros_l1\",\"ros_tr\",\"renn_boruta\", \\\n",
        "                     \"renn_l1\",\"renn_tr\",\"smote_boruta\",\"smote_l1\",\"smote_tr\"]"
      ],
      "execution_count": 0,
      "outputs": []
    },
    {
      "cell_type": "markdown",
      "metadata": {
        "id": "1u5G1rJAwPjE",
        "colab_type": "text"
      },
      "source": [
        "### Tree models"
      ]
    },
    {
      "cell_type": "code",
      "metadata": {
        "id": "6nPcrLv7pvUJ",
        "colab_type": "code",
        "colab": {}
      },
      "source": [
        "from sklearn.tree import DecisionTreeClassifier\n",
        "from sklearn.model_selection import cross_val_score\n",
        "from sklearn.model_selection import cross_val_predict\n",
        "from sklearn.metrics import fbeta_score, make_scorer\n",
        "from sklearn.metrics import confusion_matrix, accuracy_score, precision_score, recall_score,roc_auc_score, log_loss,roc_curve\n",
        "import time\n",
        "\n",
        "#apply ftwo score to evaluate models\n",
        "ftwo_scorer = make_scorer(fbeta_score, beta=2)\n",
        "dt_clf = DecisionTreeClassifier()"
      ],
      "execution_count": 0,
      "outputs": []
    },
    {
      "cell_type": "code",
      "metadata": {
        "id": "1VtsToVfJIfx",
        "colab_type": "code",
        "outputId": "d3e16bba-f3ff-4ef8-f9ca-2e672558c97a",
        "colab": {
          "base_uri": "https://localhost:8080/",
          "height": 1000
        }
      },
      "source": [
        "for i in range(10):\n",
        "  #train the model against 10 dataset\n",
        "  train_start_time = time.time()\n",
        "  cross_val_score(dt_clf, train_set_list[i], train_labels_list[i], scoring = ftwo_scorer, cv=10)\n",
        "  train_end_time = time.time()\n",
        "  train_duration = train_end_time - train_start_time\n",
        "  test_start_time = time.time()\n",
        "  prediction = cross_val_predict(dt_clf, test_set_list[i], test_labels_list[i], cv=10)\n",
        "  test_end_time = time.time()\n",
        "  test_duration = test_end_time - test_start_time\n",
        "\n",
        "  f2_score = fbeta_score(test_labels_list[i], prediction, average='macro', beta=2)\n",
        "  cfm = confusion_matrix(test_labels_list[i], prediction)\n",
        "  accuracy = accuracy_score(test_labels_list[i], prediction)\n",
        "  precision = precision_score(test_labels_list[i], prediction)\n",
        "  recall = recall_score(test_labels_list[i], prediction)\n",
        "  roc_auc = roc_auc_score(test_labels_list[i], prediction)\n",
        "  log_score = log_loss(test_labels_list[i], prediction)\n",
        "\n",
        "  print(\"The f2 score of model trained against \" + dataset_name_list[i] + \" is \" + str(f2_score))\n",
        "  print(\"The confusion matrix of model trained against \" + dataset_name_list[i] + \" is \" + str(cfm))\n",
        "  print(\"The accuracy of model trained against \" + dataset_name_list[i] + \" is \" + str(accuracy))\n",
        "  print(\"The precision score of model trained against \" + dataset_name_list[i] + \" is \" + str(precision))\n",
        "  print(\"The recall score of model trained against \" + dataset_name_list[i] + \" is \" + str(recall))\n",
        "  print(\"The auc score of model trained against \" + dataset_name_list[i] + \" is \" + str(roc_auc))\n",
        "  print(\"The log loss of model trained against \" + dataset_name_list[i] + \" is \" + str(log_score))\n",
        "  print(\"Time duration of model trained against \" + dataset_name_list[i] + \" is \" + str(train_duration))\n",
        "  print(\"Time duration of model test against \" + dataset_name_list[i] + \" is \" + str(test_duration))\n",
        "  print(\"--------------------------------------------------------------------------\")"
      ],
      "execution_count": 42,
      "outputs": [
        {
          "output_type": "stream",
          "text": [
            "The f2 score of model trained against original is 0.7769967214360824\n",
            "The confusion matrix of model trained against original is [[3993   26]\n",
            " [  20   27]]\n",
            "The accuracy of model trained against original is 0.9886866699458927\n",
            "The precision score of model trained against original is 0.5094339622641509\n",
            "The recall score of model trained against original is 0.574468085106383\n",
            "The auc score of model trained against original is 0.7839994070717284\n",
            "The log loss of model trained against original is 0.3907536900391245\n",
            "Time duration of model trained against original is 1.6076838970184326\n",
            "Time duration of model test against original is 0.21770739555358887\n",
            "--------------------------------------------------------------------------\n",
            "The f2 score of model trained against ros_boruta is 0.97592916514381\n",
            "The confusion matrix of model trained against ros_boruta is [[3874  151]\n",
            " [  42 3957]]\n",
            "The accuracy of model trained against ros_boruta is 0.9759471585244267\n",
            "The precision score of model trained against ros_boruta is 0.9632424537487828\n",
            "The recall score of model trained against ros_boruta is 0.9894973743435859\n",
            "The auc score of model trained against ros_boruta is 0.9759909231966377\n",
            "The log loss of model trained against ros_boruta is 0.8307707606467757\n",
            "Time duration of model trained against ros_boruta is 1.0773499011993408\n",
            "Time duration of model test against ros_boruta is 0.2397615909576416\n",
            "--------------------------------------------------------------------------\n",
            "The f2 score of model trained against ros_l1 is 0.9814011790802378\n",
            "The confusion matrix of model trained against ros_l1 is [[3887  138]\n",
            " [  11 3988]]\n",
            "The accuracy of model trained against ros_l1 is 0.9814307078763709\n",
            "The precision score of model trained against ros_l1 is 0.9665535627726611\n",
            "The recall score of model trained against ros_l1 is 0.997249312328082\n",
            "The auc score of model trained against ros_l1 is 0.9814817990211839\n",
            "The log loss of model trained against ros_l1 is 0.641374380270073\n",
            "Time duration of model trained against ros_l1 is 1.7173497676849365\n",
            "Time duration of model test against ros_l1 is 0.361325740814209\n",
            "--------------------------------------------------------------------------\n",
            "The f2 score of model trained against ros_tr is 0.9837669355227006\n",
            "The confusion matrix of model trained against ros_tr is [[3895  130]\n",
            " [   0 3999]]\n",
            "The accuracy of model trained against ros_tr is 0.9837986041874377\n",
            "The precision score of model trained against ros_tr is 0.9685153790263986\n",
            "The recall score of model trained against ros_tr is 1.0\n",
            "The auc score of model trained against ros_tr is 0.9838509316770186\n",
            "The log loss of model trained against ros_tr is 0.5595893418499902\n",
            "Time duration of model trained against ros_tr is 3.2251574993133545\n",
            "Time duration of model test against ros_tr is 0.6430082321166992\n",
            "--------------------------------------------------------------------------\n",
            "The f2 score of model trained against renn_boruta is 0.8441970686534626\n",
            "The confusion matrix of model trained against renn_boruta is [[3879   13]\n",
            " [  19   40]]\n",
            "The accuracy of model trained against renn_boruta is 0.9919007846114908\n",
            "The precision score of model trained against renn_boruta is 0.7547169811320755\n",
            "The recall score of model trained against renn_boruta is 0.6779661016949152\n",
            "The auc score of model trained against renn_boruta is 0.8373129583500271\n",
            "The log loss of model trained against renn_boruta is 0.27973962019836446\n",
            "Time duration of model trained against renn_boruta is 0.39157652854919434\n",
            "Time duration of model test against renn_boruta is 0.07027196884155273\n",
            "--------------------------------------------------------------------------\n",
            "The f2 score of model trained against renn_l1 is 0.7934829970635597\n",
            "The confusion matrix of model trained against renn_l1 is [[3888   22]\n",
            " [  22   32]]\n",
            "The accuracy of model trained against renn_l1 is 0.9889001009081736\n",
            "The precision score of model trained against renn_l1 is 0.5925925925925926\n",
            "The recall score of model trained against renn_l1 is 0.5925925925925926\n",
            "The auc score of model trained against renn_l1 is 0.7934829970635596\n",
            "The log loss of model trained against renn_l1 is 0.38338137046406107\n",
            "Time duration of model trained against renn_l1 is 0.5255000591278076\n",
            "Time duration of model test against renn_l1 is 0.09601259231567383\n",
            "--------------------------------------------------------------------------\n",
            "The f2 score of model trained against renn_tr is 0.8267998125719707\n",
            "The confusion matrix of model trained against renn_tr is [[3910   14]\n",
            " [  18   33]]\n",
            "The accuracy of model trained against renn_tr is 0.9919496855345912\n",
            "The precision score of model trained against renn_tr is 0.7021276595744681\n",
            "The recall score of model trained against renn_tr is 0.6470588235294118\n",
            "The auc score of model trained against renn_tr is 0.821745517778977\n",
            "The log loss of model trained against renn_tr is 0.2780508274216775\n",
            "Time duration of model trained against renn_tr is 0.8355090618133545\n",
            "Time duration of model test against renn_tr is 0.10990381240844727\n",
            "--------------------------------------------------------------------------\n",
            "The f2 score of model trained against smote_boruta is 0.986399543674192\n",
            "The confusion matrix of model trained against smote_boruta is [[3269   45]\n",
            " [  41 2974]]\n",
            "The accuracy of model trained against smote_boruta is 0.9864117554115974\n",
            "The precision score of model trained against smote_boruta is 0.9850944021199073\n",
            "The recall score of model trained against smote_boruta is 0.9864013266998342\n",
            "The auc score of model trained against smote_boruta is 0.9864112849552279\n",
            "The log loss of model trained against smote_boruta is 0.4693270266782562\n",
            "Time duration of model trained against smote_boruta is 0.6906833648681641\n",
            "Time duration of model test against smote_boruta is 0.14191150665283203\n",
            "--------------------------------------------------------------------------\n",
            "The f2 score of model trained against smote_l1 is 0.9785635214024253\n",
            "The confusion matrix of model trained against smote_l1 is [[3180   58]\n",
            " [  80 3124]]\n",
            "The accuracy of model trained against smote_l1 is 0.9785780813411984\n",
            "The precision score of model trained against smote_l1 is 0.9817724701445631\n",
            "The recall score of model trained against smote_l1 is 0.9750312109862672\n",
            "The auc score of model trained against smote_l1 is 0.9785594597241404\n",
            "The log loss of model trained against smote_l1 is 0.7398940576138826\n",
            "Time duration of model trained against smote_l1 is 1.147873878479004\n",
            "Time duration of model test against smote_l1 is 0.2311384677886963\n",
            "--------------------------------------------------------------------------\n",
            "The f2 score of model trained against smote_tr is 0.9820395015119863\n",
            "The confusion matrix of model trained against smote_tr is [[3754   73]\n",
            " [  64 3736]]\n",
            "The accuracy of model trained against smote_tr is 0.9820374983610857\n",
            "The precision score of model trained against smote_tr is 0.9808348647939091\n",
            "The recall score of model trained against smote_tr is 0.9831578947368421\n",
            "The auc score of model trained against smote_tr is 0.9820414506346871\n",
            "The log loss of model trained against smote_tr is 0.620410480754579\n",
            "Time duration of model trained against smote_tr is 2.232297420501709\n",
            "Time duration of model test against smote_tr is 0.5223290920257568\n",
            "--------------------------------------------------------------------------\n"
          ],
          "name": "stdout"
        }
      ]
    },
    {
      "cell_type": "markdown",
      "metadata": {
        "id": "ToG_GdIPEfsC",
        "colab_type": "text"
      },
      "source": [
        "### Linear models"
      ]
    },
    {
      "cell_type": "code",
      "metadata": {
        "id": "3n4TSUe_Et2A",
        "colab_type": "code",
        "colab": {}
      },
      "source": [
        "from sklearn.svm import LinearSVC\n",
        "from sklearn.model_selection import cross_val_score\n",
        "from sklearn.model_selection import cross_val_predict\n",
        "from sklearn.metrics import fbeta_score, make_scorer\n",
        "from sklearn.metrics import confusion_matrix, accuracy_score, precision_score, recall_score,roc_auc_score, log_loss,roc_curve\n",
        "import time\n",
        "\n",
        "#apply ftwo score to evaluate models\n",
        "ftwo_scorer = make_scorer(fbeta_score, beta=2)\n",
        "le_clf = LinearSVC(random_state=0, tol=1e-5)"
      ],
      "execution_count": 0,
      "outputs": []
    },
    {
      "cell_type": "code",
      "metadata": {
        "id": "ylBXCz-eSVPN",
        "colab_type": "code",
        "outputId": "77035b31-67a0-42e1-d172-fe3d1576955f",
        "colab": {
          "base_uri": "https://localhost:8080/",
          "height": 1000
        }
      },
      "source": [
        "for i in range(10):\n",
        "  #train the model against 10 dataset\n",
        "  train_start_time = time.time()\n",
        "  cross_val_score(le_clf, train_set_list[i], train_labels_list[i], scoring = ftwo_scorer, cv=10)\n",
        "  train_end_time = time.time()\n",
        "  train_duration = train_end_time - train_start_time\n",
        "  test_start_time = time.time()\n",
        "  prediction = cross_val_predict(le_clf, test_set_list[i], test_labels_list[i], cv=10)\n",
        "  test_end_time = time.time()\n",
        "  test_duration = test_end_time - test_start_time\n",
        "\n",
        "  f2_score = fbeta_score(test_labels_list[i], prediction, average='macro', beta=2)\n",
        "  cfm = confusion_matrix(test_labels_list[i], prediction)\n",
        "  accuracy = accuracy_score(test_labels_list[i], prediction)\n",
        "  precision = precision_score(test_labels_list[i], prediction)\n",
        "  recall = recall_score(test_labels_list[i], prediction)\n",
        "  roc_auc = roc_auc_score(test_labels_list[i], prediction)\n",
        "  log_score = log_loss(test_labels_list[i], prediction)\n",
        "\n",
        "  print(\"The f2 score of model trained against \" + dataset_name_list[i] + \" is \" + str(f2_score))\n",
        "  print(\"The confusion matrix of model trained against \" + dataset_name_list[i] + \" is \" + str(cfm))\n",
        "  print(\"The accuracy of model trained against \" + dataset_name_list[i] + \" is \" + str(accuracy))\n",
        "  print(\"The precision score of model trained against \" + dataset_name_list[i] + \" is \" + str(precision))\n",
        "  print(\"The recall score of model trained against \" + dataset_name_list[i] + \" is \" + str(recall))\n",
        "  print(\"The auc score of model trained against \" + dataset_name_list[i] + \" is \" + str(roc_auc))\n",
        "  print(\"The log loss of model trained against \" + dataset_name_list[i] + \" is \" + str(log_score))\n",
        "  print(\"Time duration of model trained against \" + dataset_name_list[i] + \" is \" + str(train_duration))\n",
        "  print(\"Time duration of model test against \" + dataset_name_list[i] + \" is \" + str(test_duration))\n",
        "  print(\"--------------------------------------------------------------------------\")"
      ],
      "execution_count": 43,
      "outputs": [
        {
          "output_type": "stream",
          "text": [
            "/usr/local/lib/python3.6/dist-packages/sklearn/svm/base.py:929: ConvergenceWarning: Liblinear failed to converge, increase the number of iterations.\n",
            "  \"the number of iterations.\", ConvergenceWarning)\n",
            "/usr/local/lib/python3.6/dist-packages/sklearn/svm/base.py:929: ConvergenceWarning: Liblinear failed to converge, increase the number of iterations.\n",
            "  \"the number of iterations.\", ConvergenceWarning)\n"
          ],
          "name": "stderr"
        },
        {
          "output_type": "stream",
          "text": [
            "The f2 score of model trained against original is 0.6581709251324499\n",
            "The confusion matrix of model trained against original is [[4016    3]\n",
            " [  34   13]]\n",
            "The accuracy of model trained against original is 0.9909001475651746\n",
            "The precision score of model trained against original is 0.8125\n",
            "The recall score of model trained against original is 0.2765957446808511\n",
            "The auc score of model trained against original is 0.6379246451694875\n",
            "The log loss of model trained against original is 0.3142983584367904\n",
            "Time duration of model trained against original is 4.0134289264678955\n",
            "Time duration of model test against original is 0.4033355712890625\n",
            "--------------------------------------------------------------------------\n"
          ],
          "name": "stdout"
        },
        {
          "output_type": "stream",
          "text": [
            "/usr/local/lib/python3.6/dist-packages/sklearn/svm/base.py:929: ConvergenceWarning: Liblinear failed to converge, increase the number of iterations.\n",
            "  \"the number of iterations.\", ConvergenceWarning)\n",
            "/usr/local/lib/python3.6/dist-packages/sklearn/svm/base.py:929: ConvergenceWarning: Liblinear failed to converge, increase the number of iterations.\n",
            "  \"the number of iterations.\", ConvergenceWarning)\n"
          ],
          "name": "stderr"
        },
        {
          "output_type": "stream",
          "text": [
            "The f2 score of model trained against ros_boruta is 0.852887885442009\n",
            "The confusion matrix of model trained against ros_boruta is [[3581  444]\n",
            " [ 733 3266]]\n",
            "The accuracy of model trained against ros_boruta is 0.8533150548354935\n",
            "The precision score of model trained against ros_boruta is 0.8803234501347709\n",
            "The recall score of model trained against ros_boruta is 0.816704176044011\n",
            "The auc score of model trained against ros_boruta is 0.8531968085188999\n",
            "The log loss of model trained against ros_boruta is 5.066362766459234\n",
            "Time duration of model trained against ros_boruta is 17.090715885162354\n",
            "Time duration of model test against ros_boruta is 3.1135120391845703\n",
            "--------------------------------------------------------------------------\n"
          ],
          "name": "stdout"
        },
        {
          "output_type": "stream",
          "text": [
            "/usr/local/lib/python3.6/dist-packages/sklearn/svm/base.py:929: ConvergenceWarning: Liblinear failed to converge, increase the number of iterations.\n",
            "  \"the number of iterations.\", ConvergenceWarning)\n",
            "/usr/local/lib/python3.6/dist-packages/sklearn/svm/base.py:929: ConvergenceWarning: Liblinear failed to converge, increase the number of iterations.\n",
            "  \"the number of iterations.\", ConvergenceWarning)\n"
          ],
          "name": "stderr"
        },
        {
          "output_type": "stream",
          "text": [
            "The f2 score of model trained against ros_l1 is 0.8272712983803792\n",
            "The confusion matrix of model trained against ros_l1 is [[3309  716]\n",
            " [ 670 3329]]\n",
            "The accuracy of model trained against ros_l1 is 0.8272681954137587\n",
            "The precision score of model trained against ros_l1 is 0.822991347342398\n",
            "The recall score of model trained against ros_l1 is 0.8324581145286322\n",
            "The auc score of model trained against ros_l1 is 0.8272849578854341\n",
            "The log loss of model trained against ros_l1 is 5.966016524813837\n",
            "Time duration of model trained against ros_l1 is 21.98363471031189\n",
            "Time duration of model test against ros_l1 is 4.407402038574219\n",
            "--------------------------------------------------------------------------\n"
          ],
          "name": "stdout"
        },
        {
          "output_type": "stream",
          "text": [
            "/usr/local/lib/python3.6/dist-packages/sklearn/svm/base.py:929: ConvergenceWarning: Liblinear failed to converge, increase the number of iterations.\n",
            "  \"the number of iterations.\", ConvergenceWarning)\n",
            "/usr/local/lib/python3.6/dist-packages/sklearn/svm/base.py:929: ConvergenceWarning: Liblinear failed to converge, increase the number of iterations.\n",
            "  \"the number of iterations.\", ConvergenceWarning)\n"
          ],
          "name": "stderr"
        },
        {
          "output_type": "stream",
          "text": [
            "The f2 score of model trained against ros_tr is 0.8090063433867388\n",
            "The confusion matrix of model trained against ros_tr is [[3349  676]\n",
            " [ 855 3144]]\n",
            "The accuracy of model trained against ros_tr is 0.80919740777667\n",
            "The precision score of model trained against ros_tr is 0.8230366492146597\n",
            "The recall score of model trained against ros_tr is 0.7861965491372843\n",
            "The auc score of model trained against ros_tr is 0.809123119289139\n",
            "The log loss of model trained against ros_tr is 6.590155432262097\n",
            "Time duration of model trained against ros_tr is 28.669178247451782\n",
            "Time duration of model test against ros_tr is 5.524988889694214\n",
            "--------------------------------------------------------------------------\n",
            "The f2 score of model trained against renn_boruta is 0.7033056967231599\n",
            "The confusion matrix of model trained against renn_boruta is [[3892    0]\n",
            " [  38   21]]\n",
            "The accuracy of model trained against renn_boruta is 0.9903821817261452\n",
            "The precision score of model trained against renn_boruta is 1.0\n",
            "The recall score of model trained against renn_boruta is 0.3559322033898305\n",
            "The auc score of model trained against renn_boruta is 0.6779661016949152\n",
            "The log loss of model trained against renn_boruta is 0.3321876747675549\n",
            "Time duration of model trained against renn_boruta is 1.3044466972351074\n",
            "Time duration of model test against renn_boruta is 0.2562136650085449\n",
            "--------------------------------------------------------------------------\n",
            "The f2 score of model trained against renn_l1 is 0.7206764198087077\n",
            "The confusion matrix of model trained against renn_l1 is [[3910    0]\n",
            " [  33   21]]\n",
            "The accuracy of model trained against renn_l1 is 0.9916750756811302\n",
            "The precision score of model trained against renn_l1 is 1.0\n",
            "The recall score of model trained against renn_l1 is 0.3888888888888889\n",
            "The auc score of model trained against renn_l1 is 0.6944444444444444\n",
            "The log loss of model trained against renn_l1 is 0.28753269955400007\n",
            "Time duration of model trained against renn_l1 is 1.8991467952728271\n",
            "Time duration of model test against renn_l1 is 0.27752017974853516\n",
            "--------------------------------------------------------------------------\n"
          ],
          "name": "stdout"
        },
        {
          "output_type": "stream",
          "text": [
            "/usr/local/lib/python3.6/dist-packages/sklearn/svm/base.py:929: ConvergenceWarning: Liblinear failed to converge, increase the number of iterations.\n",
            "  \"the number of iterations.\", ConvergenceWarning)\n",
            "/usr/local/lib/python3.6/dist-packages/sklearn/svm/base.py:929: ConvergenceWarning: Liblinear failed to converge, increase the number of iterations.\n",
            "  \"the number of iterations.\", ConvergenceWarning)\n"
          ],
          "name": "stderr"
        },
        {
          "output_type": "stream",
          "text": [
            "The f2 score of model trained against renn_tr is 0.6703171257965779\n",
            "The confusion matrix of model trained against renn_tr is [[3924    0]\n",
            " [  36   15]]\n",
            "The accuracy of model trained against renn_tr is 0.9909433962264151\n",
            "The precision score of model trained against renn_tr is 1.0\n",
            "The recall score of model trained against renn_tr is 0.29411764705882354\n",
            "The auc score of model trained against renn_tr is 0.6470588235294118\n",
            "The log loss of model trained against renn_tr is 0.31280401263315427\n",
            "Time duration of model trained against renn_tr is 3.3768258094787598\n",
            "Time duration of model test against renn_tr is 0.52420973777771\n",
            "--------------------------------------------------------------------------\n"
          ],
          "name": "stdout"
        },
        {
          "output_type": "stream",
          "text": [
            "/usr/local/lib/python3.6/dist-packages/sklearn/svm/base.py:929: ConvergenceWarning: Liblinear failed to converge, increase the number of iterations.\n",
            "  \"the number of iterations.\", ConvergenceWarning)\n"
          ],
          "name": "stderr"
        },
        {
          "output_type": "stream",
          "text": [
            "The f2 score of model trained against smote_boruta is 0.9221918540715213\n",
            "The confusion matrix of model trained against smote_boruta is [[3104  210]\n",
            " [ 279 2736]]\n",
            "The accuracy of model trained against smote_boruta is 0.9227366092589666\n",
            "The precision score of model trained against smote_boruta is 0.9287169042769857\n",
            "The recall score of model trained against smote_boruta is 0.9074626865671642\n",
            "The auc score of model trained against smote_boruta is 0.9220475774416992\n",
            "The log loss of model trained against smote_boruta is 2.668609507437458\n",
            "Time duration of model trained against smote_boruta is 6.212921380996704\n",
            "Time duration of model test against smote_boruta is 1.5230612754821777\n",
            "--------------------------------------------------------------------------\n"
          ],
          "name": "stdout"
        },
        {
          "output_type": "stream",
          "text": [
            "/usr/local/lib/python3.6/dist-packages/sklearn/svm/base.py:929: ConvergenceWarning: Liblinear failed to converge, increase the number of iterations.\n",
            "  \"the number of iterations.\", ConvergenceWarning)\n",
            "/usr/local/lib/python3.6/dist-packages/sklearn/svm/base.py:929: ConvergenceWarning: Liblinear failed to converge, increase the number of iterations.\n",
            "  \"the number of iterations.\", ConvergenceWarning)\n"
          ],
          "name": "stderr"
        },
        {
          "output_type": "stream",
          "text": [
            "The f2 score of model trained against smote_l1 is 0.8811728554591265\n",
            "The confusion matrix of model trained against smote_l1 is [[2891  347]\n",
            " [ 418 2786]]\n",
            "The accuracy of model trained against smote_l1 is 0.8812480596088171\n",
            "The precision score of model trained against smote_l1 is 0.8892435365464411\n",
            "The recall score of model trained against smote_l1 is 0.869538077403246\n",
            "The auc score of model trained against smote_l1 is 0.8811865803940256\n",
            "The log loss of model trained against smote_l1 is 4.10158978615569\n",
            "Time duration of model trained against smote_l1 is 11.057973384857178\n",
            "Time duration of model test against smote_l1 is 2.2915594577789307\n",
            "--------------------------------------------------------------------------\n"
          ],
          "name": "stdout"
        },
        {
          "output_type": "stream",
          "text": [
            "/usr/local/lib/python3.6/dist-packages/sklearn/svm/base.py:929: ConvergenceWarning: Liblinear failed to converge, increase the number of iterations.\n",
            "  \"the number of iterations.\", ConvergenceWarning)\n",
            "/usr/local/lib/python3.6/dist-packages/sklearn/svm/base.py:929: ConvergenceWarning: Liblinear failed to converge, increase the number of iterations.\n",
            "  \"the number of iterations.\", ConvergenceWarning)\n"
          ],
          "name": "stderr"
        },
        {
          "output_type": "stream",
          "text": [
            "The f2 score of model trained against smote_tr is 0.8312017755773644\n",
            "The confusion matrix of model trained against smote_tr is [[3222  605]\n",
            " [ 682 3118]]\n",
            "The accuracy of model trained against smote_tr is 0.831257375114724\n",
            "The precision score of model trained against smote_tr is 0.8374966424926135\n",
            "The recall score of model trained against smote_tr is 0.8205263157894737\n",
            "The auc score of model trained against smote_tr is 0.831219520580914\n",
            "The log loss of model trained against smote_tr is 5.8282272160345245\n",
            "Time duration of model trained against smote_tr is 28.62503147125244\n",
            "Time duration of model test against smote_tr is 5.096831560134888\n",
            "--------------------------------------------------------------------------\n"
          ],
          "name": "stdout"
        }
      ]
    },
    {
      "cell_type": "markdown",
      "metadata": {
        "id": "BSTmBtNGuXZy",
        "colab_type": "text"
      },
      "source": [
        "### Distance-based models"
      ]
    },
    {
      "cell_type": "code",
      "metadata": {
        "id": "smD8APfCusG_",
        "colab_type": "code",
        "colab": {}
      },
      "source": [
        "from sklearn import neighbors\n",
        "from sklearn.model_selection import cross_val_score\n",
        "from sklearn.model_selection import cross_val_predict\n",
        "from sklearn.metrics import fbeta_score, make_scorer\n",
        "from sklearn.metrics import confusion_matrix, accuracy_score, precision_score, recall_score,roc_auc_score, log_loss,roc_curve\n",
        "import time\n",
        "\n",
        "#apply ftwo score to evaluate models\n",
        "ftwo_scorer = make_scorer(fbeta_score, beta=2)\n",
        "n_neighbors = 3\n",
        "knn_clf = neighbors.KNeighborsClassifier(n_neighbors, weights='distance')"
      ],
      "execution_count": 0,
      "outputs": []
    },
    {
      "cell_type": "code",
      "metadata": {
        "id": "aqbZWupoMhyG",
        "colab_type": "code",
        "colab": {
          "base_uri": "https://localhost:8080/",
          "height": 1000
        },
        "outputId": "6d0cd097-0198-403a-aa93-cdc22c700ce9"
      },
      "source": [
        "for i in range(10):\n",
        "  #train the model against 10 dataset\n",
        "  train_start_time = time.time()\n",
        "  cross_val_score(knn_clf, train_set_list[i], train_labels_list[i], scoring = ftwo_scorer, cv=10)\n",
        "  train_end_time = time.time()\n",
        "  train_duration = train_end_time - train_start_time\n",
        "  test_start_time = time.time()\n",
        "  prediction = cross_val_predict(knn_clf, test_set_list[i], test_labels_list[i], cv=10)\n",
        "  test_end_time = time.time()\n",
        "  test_duration = test_end_time - test_start_time\n",
        "\n",
        "  f2_score = fbeta_score(test_labels_list[i], prediction, average='macro', beta=2)\n",
        "  cfm = confusion_matrix(test_labels_list[i], prediction)\n",
        "  accuracy = accuracy_score(test_labels_list[i], prediction)\n",
        "  precision = precision_score(test_labels_list[i], prediction)\n",
        "  recall = recall_score(test_labels_list[i], prediction)\n",
        "  roc_auc = roc_auc_score(test_labels_list[i], prediction)\n",
        "  log_score = log_loss(test_labels_list[i], prediction)\n",
        "\n",
        "  print(\"The f2 score of model trained against \" + dataset_name_list[i] + \" is \" + str(f2_score))\n",
        "  print(\"The confusion matrix of model trained against \" + dataset_name_list[i] + \" is \" + str(cfm))\n",
        "  print(\"The accuracy of model trained against \" + dataset_name_list[i] + \" is \" + str(accuracy))\n",
        "  print(\"The precision score of model trained against \" + dataset_name_list[i] + \" is \" + str(precision))\n",
        "  print(\"The recall score of model trained against \" + dataset_name_list[i] + \" is \" + str(recall))\n",
        "  print(\"The auc score of model trained against \" + dataset_name_list[i] + \" is \" + str(roc_auc))\n",
        "  print(\"The log loss of model trained against \" + dataset_name_list[i] + \" is \" + str(log_score))\n",
        "  print(\"Time duration of model trained against \" + dataset_name_list[i] + \" is \" + str(train_duration))\n",
        "  print(\"Time duration of model test against \" + dataset_name_list[i] + \" is \" + str(test_duration))\n",
        "  print(\"--------------------------------------------------------------------------\")"
      ],
      "execution_count": 45,
      "outputs": [
        {
          "output_type": "stream",
          "text": [
            "The f2 score of model trained against original is 0.6809456129280018\n",
            "The confusion matrix of model trained against original is [[4016    3]\n",
            " [  32   15]]\n",
            "The accuracy of model trained against original is 0.9913920314805705\n",
            "The precision score of model trained against original is 0.8333333333333334\n",
            "The recall score of model trained against original is 0.3191489361702128\n",
            "The auc score of model trained against original is 0.6592012409141683\n",
            "The log loss of model trained against original is 0.2973092898706759\n",
            "Time duration of model trained against original is 13.994706392288208\n",
            "Time duration of model test against original is 0.9218149185180664\n",
            "--------------------------------------------------------------------------\n",
            "The f2 score of model trained against ros_boruta is 0.968956446243028\n",
            "The confusion matrix of model trained against ros_boruta is [[3852  173]\n",
            " [  76 3923]]\n",
            "The accuracy of model trained against ros_boruta is 0.9689680957128615\n",
            "The precision score of model trained against ros_boruta is 0.957763671875\n",
            "The recall score of model trained against ros_boruta is 0.980995248812203\n",
            "The auc score of model trained against ros_boruta is 0.9690069411762878\n",
            "The log loss of model trained against ros_boruta is 1.0718212428574514\n",
            "Time duration of model trained against ros_boruta is 23.777456998825073\n",
            "Time duration of model test against ros_boruta is 1.5746486186981201\n",
            "--------------------------------------------------------------------------\n",
            "The f2 score of model trained against ros_l1 is 0.9710471952548965\n",
            "The confusion matrix of model trained against ros_l1 is [[3839  186]\n",
            " [  46 3953]]\n",
            "The accuracy of model trained against ros_l1 is 0.9710867397806581\n",
            "The precision score of model trained against ros_l1 is 0.9550616090843199\n",
            "The recall score of model trained against ros_l1 is 0.9884971242810703\n",
            "The auc score of model trained against ros_l1 is 0.9711429720784233\n",
            "The log loss of model trained against ros_l1 is 0.998647164598866\n",
            "Time duration of model trained against ros_l1 is 30.029909372329712\n",
            "Time duration of model test against ros_l1 is 2.0026237964630127\n",
            "--------------------------------------------------------------------------\n",
            "The f2 score of model trained against ros_tr is 0.9810320847578311\n",
            "The confusion matrix of model trained against ros_tr is [[3889  136]\n",
            " [  16 3983]]\n",
            "The accuracy of model trained against ros_tr is 0.9810568295114656\n",
            "The precision score of model trained against ros_tr is 0.9669822772517601\n",
            "The recall score of model trained against ros_tr is 0.9959989997499374\n",
            "The auc score of model trained against ros_tr is 0.9811050899370805\n",
            "The log loss of model trained against ros_tr is 0.6542874822129783\n",
            "Time duration of model trained against ros_tr is 38.58697199821472\n",
            "Time duration of model test against ros_tr is 2.5103397369384766\n",
            "--------------------------------------------------------------------------\n",
            "The f2 score of model trained against renn_boruta is 0.8485381511736529\n",
            "The confusion matrix of model trained against renn_boruta is [[3888    4]\n",
            " [  20   39]]\n",
            "The accuracy of model trained against renn_boruta is 0.9939255884586181\n",
            "The precision score of model trained against renn_boruta is 0.9069767441860465\n",
            "The recall score of model trained against renn_boruta is 0.6610169491525424\n",
            "The auc score of model trained against renn_boruta is 0.8299945999616771\n",
            "The log loss of model trained against renn_boruta is 0.20980355147243254\n",
            "Time duration of model trained against renn_boruta is 5.828948020935059\n",
            "Time duration of model test against renn_boruta is 0.4176218509674072\n",
            "--------------------------------------------------------------------------\n",
            "The f2 score of model trained against renn_l1 is 0.8104529917739529\n",
            "The confusion matrix of model trained against renn_l1 is [[3908    2]\n",
            " [  23   31]]\n",
            "The accuracy of model trained against renn_l1 is 0.9936932391523713\n",
            "The precision score of model trained against renn_l1 is 0.9393939393939394\n",
            "The recall score of model trained against renn_l1 is 0.5740740740740741\n",
            "The auc score of model trained against renn_l1 is 0.7867812825613336\n",
            "The log loss of model trained against renn_l1 is 0.21782820612200585\n",
            "Time duration of model trained against renn_l1 is 7.698303937911987\n",
            "Time duration of model test against renn_l1 is 0.5139069557189941\n",
            "--------------------------------------------------------------------------\n",
            "The f2 score of model trained against renn_tr is 0.7969813017289943\n",
            "The confusion matrix of model trained against renn_tr is [[3921    3]\n",
            " [  23   28]]\n",
            "The accuracy of model trained against renn_tr is 0.9934591194968554\n",
            "The precision score of model trained against renn_tr is 0.9032258064516129\n",
            "The recall score of model trained against renn_tr is 0.5490196078431373\n",
            "The auc score of model trained against renn_tr is 0.7741275409246268\n",
            "The log loss of model trained against renn_tr is 0.22591461259370366\n",
            "Time duration of model trained against renn_tr is 9.622105360031128\n",
            "Time duration of model test against renn_tr is 0.6389408111572266\n",
            "--------------------------------------------------------------------------\n",
            "The f2 score of model trained against smote_boruta is 0.9895301834139694\n",
            "The confusion matrix of model trained against smote_boruta is [[3283   31]\n",
            " [  35 2980]]\n",
            "The accuracy of model trained against smote_boruta is 0.9895718122926213\n",
            "The precision score of model trained against smote_boruta is 0.9897044171371637\n",
            "The recall score of model trained against smote_boruta is 0.988391376451078\n",
            "The auc score of model trained against smote_boruta is 0.9895185608869752\n",
            "The log loss of model trained against smote_boruta is 0.3601807599280214\n",
            "Time duration of model trained against smote_boruta is 14.825326919555664\n",
            "Time duration of model test against smote_boruta is 0.9673435688018799\n",
            "--------------------------------------------------------------------------\n",
            "The f2 score of model trained against smote_l1 is 0.9818161987013381\n",
            "The confusion matrix of model trained against smote_l1 is [[3195   43]\n",
            " [  74 3130]]\n",
            "The accuracy of model trained against smote_l1 is 0.9818379385284073\n",
            "The precision score of model trained against smote_l1 is 0.9864481563189411\n",
            "The recall score of model trained against smote_l1 is 0.9769038701622972\n",
            "The auc score of model trained against smote_l1 is 0.9818120339075846\n",
            "The log loss of model trained against smote_l1 is 0.6273007173073663\n",
            "Time duration of model trained against smote_l1 is 19.758087158203125\n",
            "Time duration of model test against smote_l1 is 1.28800368309021\n",
            "--------------------------------------------------------------------------\n",
            "The f2 score of model trained against smote_tr is 0.9825614432862246\n",
            "The confusion matrix of model trained against smote_tr is [[3761   66]\n",
            " [  67 3733]]\n",
            "The accuracy of model trained against smote_tr is 0.9825619509636817\n",
            "The precision score of model trained against smote_tr is 0.9826270071071335\n",
            "The recall score of model trained against smote_tr is 0.9823684210526316\n",
            "The auc score of model trained against smote_tr is 0.9825612682738988\n",
            "The log loss of model trained against smote_tr is 0.6022957957196171\n",
            "Time duration of model trained against smote_tr is 34.950692653656006\n",
            "Time duration of model test against smote_tr is 2.278109550476074\n",
            "--------------------------------------------------------------------------\n"
          ],
          "name": "stdout"
        }
      ]
    },
    {
      "cell_type": "markdown",
      "metadata": {
        "id": "hR9TjcKn8vcl",
        "colab_type": "text"
      },
      "source": [
        "### Probabilistic models"
      ]
    },
    {
      "cell_type": "code",
      "metadata": {
        "id": "yE-Df2mg81mB",
        "colab_type": "code",
        "colab": {}
      },
      "source": [
        "from sklearn.naive_bayes import GaussianNB\n",
        "from sklearn.model_selection import cross_val_score\n",
        "from sklearn.model_selection import cross_val_predict\n",
        "from sklearn.metrics import fbeta_score, make_scorer\n",
        "from sklearn.metrics import confusion_matrix, accuracy_score, precision_score, recall_score,roc_auc_score, log_loss,roc_curve\n",
        "import time\n",
        "\n",
        "#apply ftwo score to evaluate models\n",
        "ftwo_scorer = make_scorer(fbeta_score, beta=2)\n",
        "gnb_clf = GaussianNB()"
      ],
      "execution_count": 0,
      "outputs": []
    },
    {
      "cell_type": "code",
      "metadata": {
        "id": "Nt9rkbsMVdmJ",
        "colab_type": "code",
        "colab": {
          "base_uri": "https://localhost:8080/",
          "height": 1000
        },
        "outputId": "0c5e6987-639e-4acf-e928-418c53ba32eb"
      },
      "source": [
        "for i in range(10):\n",
        "  #train the model against 10 dataset\n",
        "  train_start_time = time.time()\n",
        "  cross_val_score(gnb_clf, train_set_list[i].toarray(), train_labels_list[i], scoring = ftwo_scorer, cv=10)\n",
        "  train_end_time = time.time()\n",
        "  train_duration = train_end_time - train_start_time\n",
        "  test_start_time = time.time()\n",
        "  prediction = cross_val_predict(gnb_clf, test_set_list[i].toarray(), test_labels_list[i], cv=10)\n",
        "  test_end_time = time.time()\n",
        "  test_duration = test_end_time - test_start_time\n",
        "\n",
        "  f2_score = fbeta_score(test_labels_list[i], prediction, average='macro', beta=2)\n",
        "  cfm = confusion_matrix(test_labels_list[i], prediction)\n",
        "  accuracy = accuracy_score(test_labels_list[i], prediction)\n",
        "  precision = precision_score(test_labels_list[i], prediction)\n",
        "  recall = recall_score(test_labels_list[i], prediction)\n",
        "  roc_auc = roc_auc_score(test_labels_list[i], prediction)\n",
        "  log_score = log_loss(test_labels_list[i], prediction)\n",
        "\n",
        "  print(\"The f2 score of model trained against \" + dataset_name_list[i] + \" is \" + str(f2_score))\n",
        "  print(\"The confusion matrix of model trained against \" + dataset_name_list[i] + \" is \" + str(cfm))\n",
        "  print(\"The accuracy of model trained against \" + dataset_name_list[i] + \" is \" + str(accuracy))\n",
        "  print(\"The precision score of model trained against \" + dataset_name_list[i] + \" is \" + str(precision))\n",
        "  print(\"The recall score of model trained against \" + dataset_name_list[i] + \" is \" + str(recall))\n",
        "  print(\"The auc score of model trained against \" + dataset_name_list[i] + \" is \" + str(roc_auc))\n",
        "  print(\"The log loss of model trained against \" + dataset_name_list[i] + \" is \" + str(log_score))\n",
        "  print(\"Time duration of model trained against \" + dataset_name_list[i] + \" is \" + str(train_duration))\n",
        "  print(\"Time duration of model test against \" + dataset_name_list[i] + \" is \" + str(test_duration))\n",
        "  print(\"--------------------------------------------------------------------------\")"
      ],
      "execution_count": 48,
      "outputs": [
        {
          "output_type": "stream",
          "text": [
            "The f2 score of model trained against original is 0.23766671705907808\n",
            "The confusion matrix of model trained against original is [[1499 2520]\n",
            " [  20   27]]\n",
            "The accuracy of model trained against original is 0.3753074274471225\n",
            "The precision score of model trained against original is 0.01060070671378092\n",
            "The recall score of model trained against original is 0.574468085106383\n",
            "The auc score of model trained against original is 0.4737232189652344\n",
            "The log loss of model trained against original is 21.576612648449885\n",
            "Time duration of model trained against original is 0.48027515411376953\n",
            "Time duration of model test against original is 0.08147215843200684\n",
            "--------------------------------------------------------------------------\n",
            "The f2 score of model trained against ros_boruta is 0.7014121119024469\n",
            "The confusion matrix of model trained against ros_boruta is [[4007   18]\n",
            " [2201 1798]]\n",
            "The accuracy of model trained against ros_boruta is 0.7234546360917248\n",
            "The precision score of model trained against ros_boruta is 0.9900881057268722\n",
            "The recall score of model trained against ros_boruta is 0.4496124031007752\n",
            "The auc score of model trained against ros_boruta is 0.722570176705667\n",
            "The log loss of model trained against ros_boruta is 9.551540280790196\n",
            "Time duration of model trained against ros_boruta is 0.11147665977478027\n",
            "Time duration of model test against ros_boruta is 0.03297233581542969\n",
            "--------------------------------------------------------------------------\n",
            "The f2 score of model trained against ros_l1 is 0.7865482815380613\n",
            "The confusion matrix of model trained against ros_l1 is [[3817  208]\n",
            " [1449 2550]]\n",
            "The accuracy of model trained against ros_l1 is 0.7934945164506481\n",
            "The precision score of model trained against ros_l1 is 0.9245830311820159\n",
            "The recall score of model trained against ros_l1 is 0.6376594148537135\n",
            "The auc score of model trained against ros_l1 is 0.7929911981100866\n",
            "The log loss of model trained against ros_l1 is 7.132467447985105\n",
            "Time duration of model trained against ros_l1 is 0.1297307014465332\n",
            "Time duration of model test against ros_l1 is 0.036773681640625\n",
            "--------------------------------------------------------------------------\n",
            "The f2 score of model trained against ros_tr is 0.6317521904610978\n",
            "The confusion matrix of model trained against ros_tr is [[3951   74]\n",
            " [2630 1369]]\n",
            "The accuracy of model trained against ros_tr is 0.6630109670987039\n",
            "The precision score of model trained against ros_tr is 0.9487179487179487\n",
            "The recall score of model trained against ros_tr is 0.342335583895974\n",
            "The auc score of model trained against ros_tr is 0.6619752453641361\n",
            "The log loss of model trained against ros_tr is 11.639196229068833\n",
            "Time duration of model trained against ros_tr is 0.14841246604919434\n",
            "Time duration of model test against ros_tr is 0.04252982139587402\n",
            "--------------------------------------------------------------------------\n",
            "The f2 score of model trained against renn_boruta is 0.8060243041711006\n",
            "The confusion matrix of model trained against renn_boruta is [[3892    0]\n",
            " [  26   33]]\n",
            "The accuracy of model trained against renn_boruta is 0.9934193874968362\n",
            "The precision score of model trained against renn_boruta is 1.0\n",
            "The recall score of model trained against renn_boruta is 0.559322033898305\n",
            "The auc score of model trained against renn_boruta is 0.7796610169491525\n",
            "The log loss of model trained against renn_boruta is 0.22728630378832737\n",
            "Time duration of model trained against renn_boruta is 0.0587005615234375\n",
            "Time duration of model test against renn_boruta is 0.021497726440429688\n",
            "--------------------------------------------------------------------------\n",
            "The f2 score of model trained against renn_l1 is 0.5667649710554388\n",
            "The confusion matrix of model trained against renn_l1 is [[3410  500]\n",
            " [  18   36]]\n",
            "The accuracy of model trained against renn_l1 is 0.8693239152371343\n",
            "The precision score of model trained against renn_l1 is 0.06716417910447761\n",
            "The recall score of model trained against renn_l1 is 0.6666666666666666\n",
            "The auc score of model trained against renn_l1 is 0.7693947144075021\n",
            "The log loss of model trained against renn_l1 is 4.51349292918235\n",
            "Time duration of model trained against renn_l1 is 0.06157660484313965\n",
            "Time duration of model test against renn_l1 is 0.021262645721435547\n",
            "--------------------------------------------------------------------------\n",
            "The f2 score of model trained against renn_tr is 0.4467616678051182\n",
            "The confusion matrix of model trained against renn_tr is [[2805 1119]\n",
            " [  14   37]]\n",
            "The accuracy of model trained against renn_tr is 0.7149685534591195\n",
            "The precision score of model trained against renn_tr is 0.03200692041522491\n",
            "The recall score of model trained against renn_tr is 0.7254901960784313\n",
            "The auc score of model trained against renn_tr is 0.7201610001798884\n",
            "The log loss of model trained against renn_tr is 9.844862491813382\n",
            "Time duration of model trained against renn_tr is 0.07773542404174805\n",
            "Time duration of model test against renn_tr is 0.026461362838745117\n",
            "--------------------------------------------------------------------------\n",
            "The f2 score of model trained against smote_boruta is 0.8020823538407438\n",
            "The confusion matrix of model trained against smote_boruta is [[3304   10]\n",
            " [1144 1871]]\n",
            "The accuracy of model trained against smote_boruta is 0.8176647179649233\n",
            "The precision score of model trained against smote_boruta is 0.9946836788942052\n",
            "The recall score of model trained against smote_boruta is 0.6205638474295191\n",
            "The auc score of model trained against smote_boruta is 0.8087731729603842\n",
            "The log loss of model trained against smote_boruta is 6.297638798499167\n",
            "Time duration of model trained against smote_boruta is 0.0939948558807373\n",
            "Time duration of model test against smote_boruta is 0.028162479400634766\n",
            "--------------------------------------------------------------------------\n",
            "The f2 score of model trained against smote_l1 is 0.8609279533087664\n",
            "The confusion matrix of model trained against smote_l1 is [[3044  194]\n",
            " [ 690 2514]]\n",
            "The accuracy of model trained against smote_l1 is 0.8627755355479665\n",
            "The precision score of model trained against smote_l1 is 0.9283604135893648\n",
            "The recall score of model trained against smote_l1 is 0.7846441947565543\n",
            "The auc score of model trained against smote_l1 is 0.8623653339440585\n",
            "The log loss of model trained against smote_l1 is 4.739589173393745\n",
            "Time duration of model trained against smote_l1 is 0.11323142051696777\n",
            "Time duration of model test against smote_l1 is 0.046280622482299805\n",
            "--------------------------------------------------------------------------\n",
            "The f2 score of model trained against smote_tr is 0.7185329679524726\n",
            "The confusion matrix of model trained against smote_tr is [[3763   64]\n",
            " [1945 1855]]\n",
            "The accuracy of model trained against smote_tr is 0.7365936803461387\n",
            "The precision score of model trained against smote_tr is 0.9666492965085982\n",
            "The recall score of model trained against smote_tr is 0.4881578947368421\n",
            "The auc score of model trained against smote_tr is 0.7357173063963803\n",
            "The log loss of model trained against smote_tr is 9.097738685146334\n",
            "Time duration of model trained against smote_tr is 0.13945293426513672\n",
            "Time duration of model test against smote_tr is 0.0410001277923584\n",
            "--------------------------------------------------------------------------\n"
          ],
          "name": "stdout"
        }
      ]
    },
    {
      "cell_type": "markdown",
      "metadata": {
        "id": "CpazRs8rVvLS",
        "colab_type": "text"
      },
      "source": [
        "### Ensemble models"
      ]
    },
    {
      "cell_type": "markdown",
      "metadata": {
        "id": "Dp0mF1tgWFIl",
        "colab_type": "text"
      },
      "source": [
        "####Bagging"
      ]
    },
    {
      "cell_type": "code",
      "metadata": {
        "id": "382padRyV1fF",
        "colab_type": "code",
        "colab": {}
      },
      "source": [
        "from sklearn.ensemble import RandomForestClassifier\n",
        "from sklearn.model_selection import cross_val_score\n",
        "from sklearn.model_selection import cross_val_predict\n",
        "from sklearn.metrics import fbeta_score, make_scorer\n",
        "from sklearn.metrics import confusion_matrix, accuracy_score, precision_score, recall_score,roc_auc_score, log_loss,roc_curve\n",
        "import time\n",
        "\n",
        "#apply ftwo score to evaluate models\n",
        "ftwo_scorer = make_scorer(fbeta_score, beta=2)\n",
        "rf_clf = RandomForestClassifier(n_estimators=100, random_state=0)"
      ],
      "execution_count": 0,
      "outputs": []
    },
    {
      "cell_type": "code",
      "metadata": {
        "id": "z1aL88-VV1rh",
        "colab_type": "code",
        "colab": {
          "base_uri": "https://localhost:8080/",
          "height": 1000
        },
        "outputId": "7ae7e098-fdfd-43e5-dada-5b811bd6fa91"
      },
      "source": [
        "for i in range(10):\n",
        "  #train the model against 10 dataset\n",
        "  train_start_time = time.time()\n",
        "  cross_val_score(rf_clf, train_set_list[i], train_labels_list[i], scoring = ftwo_scorer, cv=10)\n",
        "  train_end_time = time.time()\n",
        "  train_duration = train_end_time - train_start_time\n",
        "  test_start_time = time.time()\n",
        "  prediction = cross_val_predict(rf_clf, test_set_list[i], test_labels_list[i], cv=10)\n",
        "  test_end_time = time.time()\n",
        "  test_duration = test_end_time - test_start_time\n",
        "\n",
        "  f2_score = fbeta_score(test_labels_list[i], prediction, average='macro', beta=2)\n",
        "  cfm = confusion_matrix(test_labels_list[i], prediction)\n",
        "  accuracy = accuracy_score(test_labels_list[i], prediction)\n",
        "  precision = precision_score(test_labels_list[i], prediction)\n",
        "  recall = recall_score(test_labels_list[i], prediction)\n",
        "  roc_auc = roc_auc_score(test_labels_list[i], prediction)\n",
        "  log_score = log_loss(test_labels_list[i], prediction)\n",
        "\n",
        "  print(\"The f2 score of model trained against \" + dataset_name_list[i] + \" is \" + str(f2_score))\n",
        "  print(\"The confusion matrix of model trained against \" + dataset_name_list[i] + \" is \" + str(cfm))\n",
        "  print(\"The accuracy of model trained against \" + dataset_name_list[i] + \" is \" + str(accuracy))\n",
        "  print(\"The precision score of model trained against \" + dataset_name_list[i] + \" is \" + str(precision))\n",
        "  print(\"The recall score of model trained against \" + dataset_name_list[i] + \" is \" + str(recall))\n",
        "  print(\"The auc score of model trained against \" + dataset_name_list[i] + \" is \" + str(roc_auc))\n",
        "  print(\"The log loss of model trained against \" + dataset_name_list[i] + \" is \" + str(log_score))\n",
        "  print(\"Time duration of model trained against \" + dataset_name_list[i] + \" is \" + str(train_duration))\n",
        "  print(\"Time duration of model test against \" + dataset_name_list[i] + \" is \" + str(test_duration))\n",
        "  print(\"--------------------------------------------------------------------------\")"
      ],
      "execution_count": 52,
      "outputs": [
        {
          "output_type": "stream",
          "text": [
            "The f2 score of model trained against original is 0.7599427953440065\n",
            "The confusion matrix of model trained against original is [[4018    1]\n",
            " [  25   22]]\n",
            "The accuracy of model trained against original is 0.9936055090998525\n",
            "The precision score of model trained against original is 0.9565217391304348\n",
            "The recall score of model trained against original is 0.46808510638297873\n",
            "The auc score of model trained against original is 0.73391814413451\n",
            "The log loss of model trained against original is 0.2208580880140462\n",
            "Time duration of model trained against original is 32.48704671859741\n",
            "Time duration of model test against original is 5.140089750289917\n",
            "--------------------------------------------------------------------------\n",
            "The f2 score of model trained against ros_boruta is 0.976179554508792\n",
            "The confusion matrix of model trained against ros_boruta is [[3876  149]\n",
            " [  42 3957]]\n",
            "The accuracy of model trained against ros_boruta is 0.9761964107676969\n",
            "The precision score of model trained against ros_boruta is 0.9637116415002436\n",
            "The recall score of model trained against ros_boruta is 0.9894973743435859\n",
            "The auc score of model trained against ros_boruta is 0.9762393704016066\n",
            "The log loss of model trained against ros_boruta is 0.8221616938490834\n",
            "Time duration of model trained against ros_boruta is 54.0227735042572\n",
            "Time duration of model test against ros_boruta is 12.890155553817749\n",
            "--------------------------------------------------------------------------\n",
            "The f2 score of model trained against ros_l1 is 0.9798965787424994\n",
            "The confusion matrix of model trained against ros_l1 is [[3875  150]\n",
            " [  11 3988]]\n",
            "The accuracy of model trained against ros_l1 is 0.9799351944167497\n",
            "The precision score of model trained against ros_l1 is 0.9637506041565974\n",
            "The recall score of model trained against ros_l1 is 0.997249312328082\n",
            "The auc score of model trained against ros_l1 is 0.9799911157913703\n",
            "The log loss of model trained against ros_l1 is 0.6930287810562259\n",
            "Time duration of model trained against ros_l1 is 68.83931088447571\n",
            "Time duration of model test against ros_l1 is 15.771538019180298\n",
            "--------------------------------------------------------------------------\n",
            "The f2 score of model trained against ros_tr is 0.9912748662831834\n",
            "The confusion matrix of model trained against ros_tr is [[3955   70]\n",
            " [   0 3999]]\n",
            "The accuracy of model trained against ros_tr is 0.9912761714855434\n",
            "The precision score of model trained against ros_tr is 0.9827967559596953\n",
            "The recall score of model trained against ros_tr is 1.0\n",
            "The auc score of model trained against ros_tr is 0.9913043478260869\n",
            "The log loss of model trained against ros_tr is 0.30131733791922594\n",
            "Time duration of model trained against ros_tr is 95.61434650421143\n",
            "Time duration of model test against ros_tr is 21.08147692680359\n",
            "--------------------------------------------------------------------------\n",
            "The f2 score of model trained against renn_boruta is 0.8421131792491612\n",
            "The confusion matrix of model trained against renn_boruta is [[3889    3]\n",
            " [  21   38]]\n",
            "The accuracy of model trained against renn_boruta is 0.9939255884586181\n",
            "The precision score of model trained against renn_boruta is 0.926829268292683\n",
            "The recall score of model trained against renn_boruta is 0.6440677966101694\n",
            "The auc score of model trained against renn_boruta is 0.8216484923441393\n",
            "The log loss of model trained against renn_boruta is 0.20980334909393844\n",
            "Time duration of model trained against renn_boruta is 19.28948974609375\n",
            "Time duration of model test against renn_boruta is 4.053436994552612\n",
            "--------------------------------------------------------------------------\n",
            "The f2 score of model trained against renn_l1 is 0.8192335206949412\n",
            "The confusion matrix of model trained against renn_l1 is [[3908    2]\n",
            " [  22   32]]\n",
            "The accuracy of model trained against renn_l1 is 0.9939455095862765\n",
            "The precision score of model trained against renn_l1 is 0.9411764705882353\n",
            "The recall score of model trained against renn_l1 is 0.5925925925925926\n",
            "The auc score of model trained against renn_l1 is 0.796040541820593\n",
            "The log loss of model trained against renn_l1 is 0.20911509401430886\n",
            "Time duration of model trained against renn_l1 is 24.680732488632202\n",
            "Time duration of model test against renn_l1 is 4.450000524520874\n",
            "--------------------------------------------------------------------------\n",
            "The f2 score of model trained against renn_tr is 0.8369671432678313\n",
            "The confusion matrix of model trained against renn_tr is [[3923    1]\n",
            " [  19   32]]\n",
            "The accuracy of model trained against renn_tr is 0.9949685534591195\n",
            "The precision score of model trained against renn_tr is 0.9696969696969697\n",
            "The recall score of model trained against renn_tr is 0.6274509803921569\n",
            "The auc score of model trained against renn_tr is 0.8135980691970979\n",
            "The log loss of model trained against renn_tr is 0.1737802081750057\n",
            "Time duration of model trained against renn_tr is 30.68543291091919\n",
            "Time duration of model test against renn_tr is 4.901144981384277\n",
            "--------------------------------------------------------------------------\n",
            "The f2 score of model trained against smote_boruta is 0.9890960355516127\n",
            "The confusion matrix of model trained against smote_boruta is [[3277   37]\n",
            " [  32 2983]]\n",
            "The accuracy of model trained against smote_boruta is 0.9890978037604677\n",
            "The precision score of model trained against smote_boruta is 0.9877483443708609\n",
            "The recall score of model trained against smote_boruta is 0.9893864013266999\n",
            "The auc score of model trained against smote_boruta is 0.989110822872161\n",
            "The log loss of model trained against smote_boruta is 0.3765531926613621\n",
            "Time duration of model trained against smote_boruta is 31.834789514541626\n",
            "Time duration of model test against smote_boruta is 7.452404975891113\n",
            "--------------------------------------------------------------------------\n",
            "The f2 score of model trained against smote_l1 is 0.985866061012983\n",
            "The confusion matrix of model trained against smote_l1 is [[3199   39]\n",
            " [  52 3152]]\n",
            "The accuracy of model trained against smote_l1 is 0.9858739521887613\n",
            "The precision score of model trained against smote_l1 is 0.9877781259793168\n",
            "The recall score of model trained against smote_l1 is 0.9837702871410736\n",
            "The auc score of model trained against smote_l1 is 0.9858629076224207\n",
            "The log loss of model trained against smote_l1 is 0.48790124747541996\n",
            "Time duration of model trained against smote_l1 is 47.208229541778564\n",
            "Time duration of model test against smote_l1 is 10.284235715866089\n",
            "--------------------------------------------------------------------------\n",
            "The f2 score of model trained against smote_tr is 0.9925261713409137\n",
            "The confusion matrix of model trained against smote_tr is [[3799   28]\n",
            " [  29 3771]]\n",
            "The accuracy of model trained against smote_tr is 0.9925265504130064\n",
            "The precision score of model trained against smote_tr is 0.9926296393787839\n",
            "The recall score of model trained against smote_tr is 0.9923684210526316\n",
            "The auc score of model trained against smote_tr is 0.9925259926010479\n",
            "The log loss of model trained against smote_tr is 0.25812673964048266\n",
            "Time duration of model trained against smote_tr is 73.91095042228699\n",
            "Time duration of model test against smote_tr is 16.730690956115723\n",
            "--------------------------------------------------------------------------\n"
          ],
          "name": "stdout"
        }
      ]
    },
    {
      "cell_type": "markdown",
      "metadata": {
        "id": "NETM_zpze1IP",
        "colab_type": "text"
      },
      "source": [
        "#### Boosting"
      ]
    },
    {
      "cell_type": "code",
      "metadata": {
        "id": "LPl8SHP3e8OV",
        "colab_type": "code",
        "colab": {}
      },
      "source": [
        "from sklearn.ensemble import AdaBoostClassifier\n",
        "from sklearn.model_selection import cross_val_score\n",
        "from sklearn.model_selection import cross_val_predict\n",
        "from sklearn.metrics import fbeta_score, make_scorer\n",
        "from sklearn.metrics import confusion_matrix, accuracy_score, precision_score, recall_score,roc_auc_score, log_loss,roc_curve\n",
        "import time\n",
        "\n",
        "#apply ftwo score to evaluate models\n",
        "ftwo_scorer = make_scorer(fbeta_score, beta=2)\n",
        "ad_clf = AdaBoostClassifier(n_estimators=100)"
      ],
      "execution_count": 0,
      "outputs": []
    },
    {
      "cell_type": "code",
      "metadata": {
        "id": "K7rNpxXQV_95",
        "colab_type": "code",
        "colab": {
          "base_uri": "https://localhost:8080/",
          "height": 1000
        },
        "outputId": "7c9cfa2d-17dd-458d-af1a-1ab82a217b0b"
      },
      "source": [
        "for i in range(10):\n",
        "  #train the model against 10 dataset\n",
        "  train_start_time = time.time()\n",
        "  cross_val_score(ad_clf, train_set_list[i], train_labels_list[i], scoring = ftwo_scorer, cv=10)\n",
        "  train_end_time = time.time()\n",
        "  train_duration = train_end_time - train_start_time\n",
        "  test_start_time = time.time()\n",
        "  prediction = cross_val_predict(ad_clf, test_set_list[i], test_labels_list[i], cv=10)\n",
        "  test_end_time = time.time()\n",
        "  test_duration = test_end_time - test_start_time\n",
        "\n",
        "  f2_score = fbeta_score(test_labels_list[i], prediction, average='macro', beta=2)\n",
        "  cfm = confusion_matrix(test_labels_list[i], prediction)\n",
        "  accuracy = accuracy_score(test_labels_list[i], prediction)\n",
        "  precision = precision_score(test_labels_list[i], prediction)\n",
        "  recall = recall_score(test_labels_list[i], prediction)\n",
        "  roc_auc = roc_auc_score(test_labels_list[i], prediction)\n",
        "  log_score = log_loss(test_labels_list[i], prediction)\n",
        "\n",
        "  print(\"The f2 score of model trained against \" + dataset_name_list[i] + \" is \" + str(f2_score))\n",
        "  print(\"The confusion matrix of model trained against \" + dataset_name_list[i] + \" is \" + str(cfm))\n",
        "  print(\"The accuracy of model trained against \" + dataset_name_list[i] + \" is \" + str(accuracy))\n",
        "  print(\"The precision score of model trained against \" + dataset_name_list[i] + \" is \" + str(precision))\n",
        "  print(\"The recall score of model trained against \" + dataset_name_list[i] + \" is \" + str(recall))\n",
        "  print(\"The auc score of model trained against \" + dataset_name_list[i] + \" is \" + str(roc_auc))\n",
        "  print(\"The log loss of model trained against \" + dataset_name_list[i] + \" is \" + str(log_score))\n",
        "  print(\"Time duration of model trained against \" + dataset_name_list[i] + \" is \" + str(train_duration))\n",
        "  print(\"Time duration of model test against \" + dataset_name_list[i] + \" is \" + str(test_duration))\n",
        "  print(\"--------------------------------------------------------------------------\")"
      ],
      "execution_count": 54,
      "outputs": [
        {
          "output_type": "stream",
          "text": [
            "The f2 score of model trained against original is 0.7842444751265181\n",
            "The confusion matrix of model trained against original is [[4013    6]\n",
            " [  22   25]]\n",
            "The accuracy of model trained against original is 0.9931136251844564\n",
            "The precision score of model trained against original is 0.8064516129032258\n",
            "The recall score of model trained against original is 0.5319148936170213\n",
            "The auc score of model trained against original is 0.7652109924666346\n",
            "The log loss of model trained against original is 0.2378481398529474\n",
            "Time duration of model trained against original is 27.47443175315857\n",
            "Time duration of model test against original is 5.423798084259033\n",
            "--------------------------------------------------------------------------\n",
            "The f2 score of model trained against ros_boruta is 0.8964252476083332\n",
            "The confusion matrix of model trained against ros_boruta is [[3686  339]\n",
            " [ 491 3508]]\n",
            "The accuracy of model trained against ros_boruta is 0.8965603190428714\n",
            "The precision score of model trained against ros_boruta is 0.9118793865349623\n",
            "The recall score of model trained against ros_boruta is 0.8772193048262066\n",
            "The auc score of model trained against ros_boruta is 0.8964978511708673\n",
            "The log loss of model trained against ros_boruta is 3.5727137925354815\n",
            "Time duration of model trained against ros_boruta is 14.814233303070068\n",
            "Time duration of model test against ros_boruta is 5.076535940170288\n",
            "--------------------------------------------------------------------------\n",
            "The f2 score of model trained against ros_l1 is 0.8854252756493926\n",
            "The confusion matrix of model trained against ros_l1 is [[3652  373]\n",
            " [ 545 3454]]\n",
            "The accuracy of model trained against ros_l1 is 0.885593220338983\n",
            "The precision score of model trained against ros_l1 is 0.9025346224196499\n",
            "The recall score of model trained against ros_l1 is 0.8637159289822456\n",
            "The auc score of model trained against ros_l1 is 0.8855225607644147\n",
            "The log loss of model trained against ros_l1 is 3.9515073504947003\n",
            "Time duration of model trained against ros_l1 is 16.753474235534668\n",
            "Time duration of model test against ros_l1 is 5.557093143463135\n",
            "--------------------------------------------------------------------------\n",
            "The f2 score of model trained against ros_tr is 0.9003622193190122\n",
            "The confusion matrix of model trained against ros_tr is [[3718  307]\n",
            " [ 491 3508]]\n",
            "The accuracy of model trained against ros_tr is 0.9005483549351944\n",
            "The precision score of model trained against ros_tr is 0.9195281782437745\n",
            "The recall score of model trained against ros_tr is 0.8772193048262066\n",
            "The auc score of model trained against ros_tr is 0.9004730064503704\n",
            "The log loss of model trained against ros_tr is 3.4349687237724074\n",
            "Time duration of model trained against ros_tr is 33.33392786979675\n",
            "Time duration of model test against ros_tr is 6.575061082839966\n",
            "--------------------------------------------------------------------------\n",
            "The f2 score of model trained against renn_boruta is 0.8289773823343272\n",
            "The confusion matrix of model trained against renn_boruta is [[3891    1]\n",
            " [  23   36]]\n",
            "The accuracy of model trained against renn_boruta is 0.9939255884586181\n",
            "The precision score of model trained against renn_boruta is 0.972972972972973\n",
            "The recall score of model trained against renn_boruta is 0.6101694915254238\n",
            "The auc score of model trained against renn_boruta is 0.8049562771090634\n",
            "The log loss of model trained against renn_boruta is 0.2098029443369502\n",
            "Time duration of model trained against renn_boruta is 7.8576507568359375\n",
            "Time duration of model test against renn_boruta is 3.493281841278076\n",
            "--------------------------------------------------------------------------\n",
            "The f2 score of model trained against renn_l1 is 0.8279442911068181\n",
            "The confusion matrix of model trained against renn_l1 is [[3908    2]\n",
            " [  21   33]]\n",
            "The accuracy of model trained against renn_l1 is 0.9941977800201817\n",
            "The precision score of model trained against renn_l1 is 0.9428571428571428\n",
            "The recall score of model trained against renn_l1 is 0.6111111111111112\n",
            "The auc score of model trained against renn_l1 is 0.8052998010798523\n",
            "The log loss of model trained against renn_l1 is 0.20040198190661196\n",
            "Time duration of model trained against renn_l1 is 8.988751888275146\n",
            "Time duration of model test against renn_l1 is 3.725823402404785\n",
            "--------------------------------------------------------------------------\n",
            "The f2 score of model trained against renn_tr is 0.830957032364469\n",
            "The confusion matrix of model trained against renn_tr is [[3919    5]\n",
            " [  19   32]]\n",
            "The accuracy of model trained against renn_tr is 0.9939622641509434\n",
            "The precision score of model trained against renn_tr is 0.8648648648648649\n",
            "The recall score of model trained against renn_tr is 0.6274509803921569\n",
            "The auc score of model trained against renn_tr is 0.8130883852011752\n",
            "The log loss of model trained against renn_tr is 0.20853701420503423\n",
            "Time duration of model trained against renn_tr is 10.820123672485352\n",
            "Time duration of model test against renn_tr is 4.1726014614105225\n",
            "--------------------------------------------------------------------------\n",
            "The f2 score of model trained against smote_boruta is 0.9733680367125892\n",
            "The confusion matrix of model trained against smote_boruta is [[3233   81]\n",
            " [  87 2928]]\n",
            "The accuracy of model trained against smote_boruta is 0.9734555221993996\n",
            "The precision score of model trained against smote_boruta is 0.9730807577268196\n",
            "The recall score of model trained against smote_boruta is 0.9711442786069652\n",
            "The auc score of model trained against smote_boruta is 0.973351258193042\n",
            "The log loss of model trained against smote_boruta is 0.9168240167067223\n",
            "Time duration of model trained against smote_boruta is 13.133692979812622\n",
            "Time duration of model test against smote_boruta is 4.65685510635376\n",
            "--------------------------------------------------------------------------\n",
            "The f2 score of model trained against smote_l1 is 0.9617912011900163\n",
            "The confusion matrix of model trained against smote_l1 is [[3130  108]\n",
            " [ 138 3066]]\n",
            "The accuracy of model trained against smote_l1 is 0.9618131015212666\n",
            "The precision score of model trained against smote_l1 is 0.9659735349716446\n",
            "The recall score of model trained against smote_l1 is 0.9569288389513109\n",
            "The auc score of model trained against smote_l1 is 0.9617874583885646\n",
            "The log loss of model trained against smote_l1 is 1.3189421530069072\n",
            "Time duration of model trained against smote_l1 is 15.180935859680176\n",
            "Time duration of model test against smote_l1 is 5.115059852600098\n",
            "--------------------------------------------------------------------------\n",
            "The f2 score of model trained against smote_tr is 0.9689880444294872\n",
            "The confusion matrix of model trained against smote_tr is [[3758   69]\n",
            " [ 167 3633]]\n",
            "The accuracy of model trained against smote_tr is 0.9690572964468336\n",
            "The precision score of model trained against smote_tr is 0.9813614262560778\n",
            "The recall score of model trained against smote_tr is 0.9560526315789474\n",
            "The auc score of model trained against smote_tr is 0.9690114216164923\n",
            "The log loss of model trained against smote_tr is 1.068730352880767\n",
            "Time duration of model trained against smote_tr is 34.77451825141907\n",
            "Time duration of model test against smote_tr is 7.553541660308838\n",
            "--------------------------------------------------------------------------\n"
          ],
          "name": "stdout"
        }
      ]
    },
    {
      "cell_type": "markdown",
      "metadata": {
        "id": "sjNmEso5CN1R",
        "colab_type": "text"
      },
      "source": [
        "#### Hybrid"
      ]
    },
    {
      "cell_type": "code",
      "metadata": {
        "id": "hY4BxhrGCTmG",
        "colab_type": "code",
        "colab": {}
      },
      "source": [
        "from sklearn.tree import DecisionTreeClassifier\n",
        "from sklearn import neighbors\n",
        "from sklearn.naive_bayes import GaussianNB\n",
        "from sklearn.ensemble import VotingClassifier\n",
        "from sklearn.model_selection import cross_val_score\n",
        "from sklearn.model_selection import cross_val_predict\n",
        "from sklearn.metrics import fbeta_score, make_scorer\n",
        "from sklearn.metrics import confusion_matrix, accuracy_score, precision_score, recall_score,roc_auc_score, log_loss,roc_curve\n",
        "import time\n",
        "\n",
        "#apply ftwo score to evaluate models\n",
        "ftwo_scorer = make_scorer(fbeta_score, beta=2)\n",
        "dt_clf = DecisionTreeClassifier()\n",
        "n_neighbors = 3\n",
        "knn_clf = neighbors.KNeighborsClassifier(n_neighbors, weights='distance')\n",
        "gnb_clf = GaussianNB()\n",
        "vt_clf = VotingClassifier(estimators=[('dt', dt_clf), ('knn', knn_clf), ('gnb', gnb_clf)], voting='hard')"
      ],
      "execution_count": 0,
      "outputs": []
    },
    {
      "cell_type": "code",
      "metadata": {
        "id": "89eikCAlWdvL",
        "colab_type": "code",
        "colab": {
          "base_uri": "https://localhost:8080/",
          "height": 1000
        },
        "outputId": "0eedf49b-4f2b-447b-c521-7be0ddcc3281"
      },
      "source": [
        "for i in range(10):\n",
        "  #train the model against 10 dataset\n",
        "  train_start_time = time.time()\n",
        "  cross_val_score(vt_clf, train_set_list[i].toarray(), train_labels_list[i], scoring = ftwo_scorer, cv=10)\n",
        "  train_end_time = time.time()\n",
        "  train_duration = train_end_time - train_start_time\n",
        "  test_start_time = time.time()\n",
        "  prediction = cross_val_predict(vt_clf, test_set_list[i].toarray(), test_labels_list[i], cv=10)\n",
        "  test_end_time = time.time()\n",
        "  test_duration = test_end_time - test_start_time\n",
        "\n",
        "  f2_score = fbeta_score(test_labels_list[i], prediction, average='macro', beta=2)\n",
        "  cfm = confusion_matrix(test_labels_list[i], prediction)\n",
        "  accuracy = accuracy_score(test_labels_list[i], prediction)\n",
        "  precision = precision_score(test_labels_list[i], prediction)\n",
        "  recall = recall_score(test_labels_list[i], prediction)\n",
        "  roc_auc = roc_auc_score(test_labels_list[i], prediction)\n",
        "  log_score = log_loss(test_labels_list[i], prediction)\n",
        "\n",
        "  print(\"The f2 score of model trained against \" + dataset_name_list[i] + \" is \" + str(f2_score))\n",
        "  print(\"The confusion matrix of model trained against \" + dataset_name_list[i] + \" is \" + str(cfm))\n",
        "  print(\"The accuracy of model trained against \" + dataset_name_list[i] + \" is \" + str(accuracy))\n",
        "  print(\"The precision score of model trained against \" + dataset_name_list[i] + \" is \" + str(precision))\n",
        "  print(\"The recall score of model trained against \" + dataset_name_list[i] + \" is \" + str(recall))\n",
        "  print(\"The auc score of model trained against \" + dataset_name_list[i] + \" is \" + str(roc_auc))\n",
        "  print(\"The log loss of model trained against \" + dataset_name_list[i] + \" is \" + str(log_score))\n",
        "  print(\"Time duration of model trained against \" + dataset_name_list[i] + \" is \" + str(train_duration))\n",
        "  print(\"Time duration of model test against \" + dataset_name_list[i] + \" is \" + str(test_duration))\n",
        "  print(\"--------------------------------------------------------------------------\")"
      ],
      "execution_count": 56,
      "outputs": [
        {
          "output_type": "stream",
          "text": [
            "The f2 score of model trained against original is 0.6986442059790463\n",
            "The confusion matrix of model trained against original is [[3991   28]\n",
            " [  28   19]]\n",
            "The accuracy of model trained against original is 0.9862272503689129\n",
            "The precision score of model trained against original is 0.40425531914893614\n",
            "The recall score of model trained against original is 0.40425531914893614\n",
            "The auc score of model trained against original is 0.6986442059790463\n",
            "The log loss of model trained against original is 0.47569942617881145\n",
            "Time duration of model trained against original is 42.096699237823486\n",
            "Time duration of model test against original is 3.502889394760132\n",
            "--------------------------------------------------------------------------\n",
            "The f2 score of model trained against ros_boruta is 0.9780633155944145\n",
            "The confusion matrix of model trained against ros_boruta is [[3900  125]\n",
            " [  51 3948]]\n",
            "The accuracy of model trained against ros_boruta is 0.9780658025922233\n",
            "The precision score of model trained against ros_boruta is 0.9693100908421312\n",
            "The recall score of model trained against ros_boruta is 0.9872468117029257\n",
            "The auc score of model trained against ros_boruta is 0.9780954555409038\n",
            "The log loss of model trained against ros_boruta is 0.7575927960098532\n",
            "Time duration of model trained against ros_boruta is 2.1531527042388916\n",
            "Time duration of model test against ros_boruta is 0.3052558898925781\n",
            "--------------------------------------------------------------------------\n",
            "The f2 score of model trained against ros_l1 is 0.9820445465956926\n",
            "The confusion matrix of model trained against ros_l1 is [[3907  118]\n",
            " [  26 3973]]\n",
            "The accuracy of model trained against ros_l1 is 0.9820538384845464\n",
            "The precision score of model trained against ros_l1 is 0.971156196528966\n",
            "The recall score of model trained against ros_l1 is 0.9934983745936484\n",
            "The auc score of model trained against ros_l1 is 0.9820908022036564\n",
            "The log loss of model trained against ros_l1 is 0.6198502185149437\n",
            "Time duration of model trained against ros_l1 is 2.543147325515747\n",
            "Time duration of model test against ros_l1 is 0.3505880832672119\n",
            "--------------------------------------------------------------------------\n",
            "The f2 score of model trained against ros_tr is 0.9925235505176613\n",
            "The confusion matrix of model trained against ros_tr is [[3965   60]\n",
            " [   0 3999]]\n",
            "The accuracy of model trained against ros_tr is 0.9925224327018943\n",
            "The precision score of model trained against ros_tr is 0.9852180339985218\n",
            "The recall score of model trained against ros_tr is 1.0\n",
            "The auc score of model trained against ros_tr is 0.9925465838509318\n",
            "The log loss of model trained against ros_tr is 0.2582720039307652\n",
            "Time duration of model trained against ros_tr is 9.644096374511719\n",
            "Time duration of model test against ros_tr is 0.8407948017120361\n",
            "--------------------------------------------------------------------------\n",
            "The f2 score of model trained against renn_boruta is 0.8498979427127291\n",
            "The confusion matrix of model trained against renn_boruta is [[3889    3]\n",
            " [  20   39]]\n",
            "The accuracy of model trained against renn_boruta is 0.994178688939509\n",
            "The precision score of model trained against renn_boruta is 0.9285714285714286\n",
            "The recall score of model trained against renn_boruta is 0.6610169491525424\n",
            "The auc score of model trained against renn_boruta is 0.8301230686153257\n",
            "The log loss of model trained against renn_boruta is 0.20106156817900278\n",
            "Time duration of model trained against renn_boruta is 1.159773588180542\n",
            "Time duration of model test against renn_boruta is 0.2311413288116455\n",
            "--------------------------------------------------------------------------\n",
            "The f2 score of model trained against renn_l1 is 0.7999462377461145\n",
            "The confusion matrix of model trained against renn_l1 is [[3900   10]\n",
            " [  23   31]]\n",
            "The accuracy of model trained against renn_l1 is 0.9916750756811302\n",
            "The precision score of model trained against renn_l1 is 0.7560975609756098\n",
            "The recall score of model trained against renn_l1 is 0.5740740740740741\n",
            "The auc score of model trained against renn_l1 is 0.7857582646585204\n",
            "The log loss of model trained against renn_l1 is 0.2875347167019067\n",
            "Time duration of model trained against renn_l1 is 1.3903625011444092\n",
            "Time duration of model test against renn_l1 is 0.20546317100524902\n",
            "--------------------------------------------------------------------------\n",
            "The f2 score of model trained against renn_tr is 0.836943137777236\n",
            "The confusion matrix of model trained against renn_tr is [[3917    7]\n",
            " [  18   33]]\n",
            "The accuracy of model trained against renn_tr is 0.9937106918238994\n",
            "The precision score of model trained against renn_tr is 0.825\n",
            "The recall score of model trained against renn_tr is 0.6470588235294118\n",
            "The auc score of model trained against renn_tr is 0.8226374647718414\n",
            "The log loss of model trained against renn_tr is 0.2172264168691276\n",
            "Time duration of model trained against renn_tr is 3.1551923751831055\n",
            "Time duration of model test against renn_tr is 0.5304811000823975\n",
            "--------------------------------------------------------------------------\n",
            "The f2 score of model trained against smote_boruta is 0.9886774955091553\n",
            "The confusion matrix of model trained against smote_boruta is [[3287   27]\n",
            " [  44 2971]]\n",
            "The accuracy of model trained against smote_boruta is 0.9887817980723653\n",
            "The precision score of model trained against smote_boruta is 0.9909939959973315\n",
            "The recall score of model trained against smote_boruta is 0.9854063018242123\n",
            "The auc score of model trained against smote_boruta is 0.9886295238752927\n",
            "The log loss of model trained against smote_boruta is 0.3874663790755696\n",
            "Time duration of model trained against smote_boruta is 1.4500696659088135\n",
            "Time duration of model test against smote_boruta is 0.23680806159973145\n",
            "--------------------------------------------------------------------------\n",
            "The f2 score of model trained against smote_l1 is 0.9789953328899881\n",
            "The confusion matrix of model trained against smote_l1 is [[3199   39]\n",
            " [  96 3108]]\n",
            "The accuracy of model trained against smote_l1 is 0.9790437752250853\n",
            "The precision score of model trained against smote_l1 is 0.9876072449952336\n",
            "The recall score of model trained against smote_l1 is 0.9700374531835206\n",
            "The auc score of model trained against smote_l1 is 0.9789964906436441\n",
            "The log loss of model trained against smote_l1 is 0.723807202361491\n",
            "Time duration of model trained against smote_l1 is 1.8808445930480957\n",
            "Time duration of model test against smote_l1 is 0.2932581901550293\n",
            "--------------------------------------------------------------------------\n",
            "The f2 score of model trained against smote_tr is 0.9822582179491858\n",
            "The confusion matrix of model trained against smote_tr is [[3795   32]\n",
            " [ 103 3697]]\n",
            "The accuracy of model trained against smote_tr is 0.9822997246623837\n",
            "The precision score of model trained against smote_tr is 0.9914186108876374\n",
            "The recall score of model trained against smote_tr is 0.9728947368421053\n",
            "The auc score of model trained against smote_tr is 0.9822665479350322\n",
            "The log loss of model trained against smote_tr is 0.611349206821911\n",
            "Time duration of model trained against smote_tr is 9.724719285964966\n",
            "Time duration of model test against smote_tr is 1.0326049327850342\n",
            "--------------------------------------------------------------------------\n"
          ],
          "name": "stdout"
        }
      ]
    }
  ]
}