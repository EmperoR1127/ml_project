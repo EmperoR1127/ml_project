{
  "nbformat": 4,
  "nbformat_minor": 0,
  "metadata": {
    "colab": {
      "name": "h1b_prediction.ipynb",
      "provenance": [],
      "include_colab_link": true
    },
    "kernelspec": {
      "name": "python3",
      "display_name": "Python 3"
    }
  },
  "cells": [
    {
      "cell_type": "markdown",
      "metadata": {
        "id": "view-in-github",
        "colab_type": "text"
      },
      "source": [
        "<a href=\"https://colab.research.google.com/github/EmperoR1127/ml_project/blob/emperor/h1b_prediction.ipynb\" target=\"_parent\"><img src=\"https://colab.research.google.com/assets/colab-badge.svg\" alt=\"Open In Colab\"/></a>"
      ]
    },
    {
      "cell_type": "code",
      "metadata": {
        "id": "vdN3SMe673ZU",
        "colab_type": "code",
        "outputId": "8704d4d4-55c5-4448-d35b-4a61cf3985b4",
        "colab": {
          "base_uri": "https://localhost:8080/",
          "height": 54
        }
      },
      "source": [
        "from google.colab import drive\n",
        "drive.mount('/content/drive')"
      ],
      "execution_count": 23,
      "outputs": [
        {
          "output_type": "stream",
          "text": [
            "Drive already mounted at /content/drive; to attempt to forcibly remount, call drive.mount(\"/content/drive\", force_remount=True).\n"
          ],
          "name": "stdout"
        }
      ]
    },
    {
      "cell_type": "code",
      "metadata": {
        "id": "6lYqKPJ88EYh",
        "colab_type": "code",
        "outputId": "71e7b213-423c-445e-9373-e8431fc0ed74",
        "colab": {
          "base_uri": "https://localhost:8080/",
          "height": 72
        }
      },
      "source": [
        "# To support both python 2 and python 3\n",
        "from __future__ import division, print_function, unicode_literals\n",
        "\n",
        "# Common imports\n",
        "import numpy as np\n",
        "import os\n",
        "from scipy.io import arff\n",
        "import pandas as pd\n",
        "\n",
        "# to make this notebook's output stable across runs\n",
        "np.random.seed(42)\n",
        "\n",
        "# To plot pretty figures\n",
        "%matplotlib inline\n",
        "import matplotlib as mpl\n",
        "import matplotlib.pyplot as plt\n",
        "mpl.rc('axes', labelsize=14)\n",
        "mpl.rc('xtick', labelsize=12)\n",
        "mpl.rc('ytick', labelsize=12)\n",
        "\n",
        "# Where to save the figures\n",
        "PROJECT_ROOT_DIR = \"/content/drive/My Drive/Images\"\n",
        "\n",
        "def save_fig(fig_id, tight_layout=True):\n",
        "    path = os.path.join(PROJECT_ROOT_DIR, \"images\", fig_id + \".png\")\n",
        "    print(\"Saving figure\", fig_id)\n",
        "    if tight_layout:\n",
        "        plt.tight_layout()\n",
        "    plt.savefig(path, format='png', dpi=300)\n",
        "    \n",
        "#load the dataset\n",
        "path = \"/content/drive/My Drive/Data/H-1B_Disclosure_Data.csv\"\n",
        "df = pd.read_csv(path, encoding='utf-8')"
      ],
      "execution_count": 24,
      "outputs": [
        {
          "output_type": "stream",
          "text": [
            "/usr/local/lib/python3.6/dist-packages/IPython/core/interactiveshell.py:2718: DtypeWarning: Columns (0,1,2,3,4,5,6,7,8,9,10,11,12) have mixed types. Specify dtype option on import or set low_memory=False.\n",
            "  interactivity=interactivity, compiler=compiler, result=result)\n"
          ],
          "name": "stderr"
        }
      ]
    },
    {
      "cell_type": "code",
      "metadata": {
        "id": "i4yirt8CznNg",
        "colab_type": "code",
        "colab": {}
      },
      "source": [
        "#drop tailing blank rows, 449678 rows left\n",
        "df = df.drop(df.index[449679:462401])\n",
        "processed_data = df.copy()\n",
        "#-----------PROCESS BINARY-VALUE COLUMNS-----------#\n",
        "#fill missing values in columns of H-1B_DEPENDENT and FULL_TIME_POSITION with most frequent values\n",
        "processed_data = processed_data.fillna(processed_data['H-1B_DEPENDENT'].value_counts().index[0])\n",
        "processed_data = processed_data.fillna(processed_data['FULL_TIME_POSITION'].value_counts().index[0])\n",
        "#numericalize colums of CASE_STATUS, FULL_TIME_POSITION and H-1B_DEPENDENT\n",
        "numericalize_columns = {\"CASE_STATUS\":{\"CERTIFIED\":0, \"DENIED\":1}, \n",
        "                        \"FULL_TIME_POSITION\":{\"Y\":1, \"N\":0},\n",
        "                        \"H-1B_DEPENDENT\":{\"Y\":1, \"N\":0}}\n",
        "processed_data.replace(numericalize_columns, inplace=True)\n",
        "#-----------PROCESS TIME-VALUE COLUMNS-----------#\n",
        "#numericalize colums of DECISION_DATE, EMPLOYMENT_START_DATE and EMPLOYMENT_END_DATE\n",
        "processed_data['DECISION_DATE'] = pd.to_datetime(processed_data['DECISION_DATE'],infer_datetime_format=True,errors='coerce').map(lambda x: str(x)[:4])\n",
        "processed_data['EMPLOYMENT_START_DATE'] = pd.to_datetime(processed_data['EMPLOYMENT_START_DATE'],infer_datetime_format=True,errors='coerce').map(lambda x: str(x)[:4])\n",
        "processed_data['EMPLOYMENT_END_DATE'] = pd.to_datetime(processed_data['EMPLOYMENT_END_DATE'],infer_datetime_format=True,errors='coerce').map(lambda x: str(x)[:4])\n",
        "#drop NaT rows because we can't \"guess\" the specific date\n",
        "processed_data = processed_data[processed_data.DECISION_DATE != 'NaT']\n",
        "processed_data = processed_data[processed_data.EMPLOYMENT_START_DATE != 'NaT']\n",
        "processed_data = processed_data[processed_data.EMPLOYMENT_END_DATE != 'NaT']\n",
        "processed_data['DECISION_DATE'] = processed_data['DECISION_DATE'].astype(int)\n",
        "processed_data['EMPLOYMENT_START_DATE'] = processed_data['EMPLOYMENT_START_DATE'].astype(int)\n",
        "processed_data['EMPLOYMENT_END_DATE'] = processed_data['EMPLOYMENT_END_DATE'].astype(int)\n",
        "#add one column as EMP_PERIOD, and drop EMPLOYMENT_START_DATE and EMPLOYMENT_END_DATE\n",
        "processed_data['EMP_PERIOD'] = processed_data['EMPLOYMENT_END_DATE'] - processed_data['EMPLOYMENT_START_DATE']\n",
        "processed_data = processed_data.drop([\"EMPLOYMENT_START_DATE\", \"EMPLOYMENT_END_DATE\"], axis=1)\n",
        "#-----------PROCESS STRING-VALUE COLUMNS-----------#\n",
        "#numericalize colums of EMPLOYER_NAME\n",
        "processed_data['EMPLOYER_NAME'] = processed_data['EMPLOYER_NAME'].astype('category')\n",
        "#employer_name_dict stores the mapping of numerical values to categorical values of EMPLOYER_NAME, incase of further reference\n",
        "employer_name_dict = dict(zip(processed_data['EMPLOYER_NAME'].cat.codes, processed_data['EMPLOYER_NAME']))\n",
        "processed_data['EMPLOYER_NAME'] = processed_data['EMPLOYER_NAME'].cat.codes\n",
        "#numericalize colums of JOB_TITLE\n",
        "processed_data['JOB_TITLE'] = processed_data['JOB_TITLE'].astype('category')\n",
        "#employer_name_dict stores the mapping of numerical values to categorical values of JOB_TITLE, incase of further reference\n",
        "job_title_dict = dict(zip(processed_data['JOB_TITLE'].cat.codes, processed_data['JOB_TITLE']))\n",
        "processed_data['JOB_TITLE'] = processed_data['JOB_TITLE'].cat.codes\n",
        "#concatenate the first 2 digit of column SOC_CODE\n",
        "processed_data['SOC_CODE'] = processed_data['SOC_CODE'].map(lambda x: str(x)[:2])\n",
        "#remove impurity in the column\n",
        "processed_data = processed_data[processed_data.SOC_CODE != '<F']\n",
        "processed_data = processed_data[processed_data.SOC_CODE != 'N']\n",
        "processed_data = processed_data[processed_data.SOC_CODE != 'SO']\n",
        "processed_data = processed_data[processed_data.SOC_CODE != 'CO']\n",
        "processed_data['SOC_CODE'] = processed_data['SOC_CODE'].astype('int')\n",
        "#concatenate the first 2 digit of column NAIC_CODE\n",
        "processed_data['NAIC_CODE'] = processed_data['NAIC_CODE'].map(lambda x: str(x)[:2])\n",
        "#remove impurity in the column\n",
        "processed_data = processed_data[processed_data.NAIC_CODE != 'N']\n",
        "processed_data = processed_data[processed_data.NAIC_CODE != '&N']\n",
        "processed_data = processed_data[processed_data.NAIC_CODE != '0.']\n",
        "processed_data['NAIC_CODE'] = processed_data['NAIC_CODE'].astype('int')\n",
        "#numericalize colums of WORKSITE_STATE\n",
        "processed_data['WORKSITE_STATE'] = processed_data['WORKSITE_STATE'].astype('category')\n",
        "#worksite_state_dict stores the mapping of numerical values to categorical values of Worksite_STATE_full, incase of further reference\n",
        "worksite_state_dict = dict(zip(processed_data['WORKSITE_STATE'].cat.codes, processed_data['WORKSITE_STATE']))\n",
        "processed_data['WORKSITE_STATE'] = processed_data['WORKSITE_STATE'].cat.codes.astype('int')\n",
        "\n",
        "#-----------PROCESS FLOAT-VALUE COLUMNS-----------#\n",
        "#remove impurity in the column\n",
        "processed_data = processed_data[processed_data.PW_UNIT_OF_PAY != 'N']\n",
        "processed_data = processed_data[processed_data.PREVAILING_WAGE != 'N']\n",
        "#according to google, there are 2080 working hours per year\n",
        "pw_unit_column = {\"PW_UNIT_OF_PAY\":{\"Year\":1, \"Hour\":2080, \"Month\":12, \"Week\":52, \"Bi-Weekly\":26}}\n",
        "processed_data.replace(pw_unit_column, inplace=True)\n",
        "processed_data['PW_UNIT_OF_PAY'] = processed_data['PW_UNIT_OF_PAY'].astype('int')\n",
        "#remove ',' in the column value\n",
        "processed_data['PREVAILING_WAGE'] = processed_data['PREVAILING_WAGE'].astype('str')\n",
        "processed_data['PREVAILING_WAGE'] = processed_data.PREVAILING_WAGE.str.replace(',','')\n",
        "processed_data['PREVAILING_WAGE'] = processed_data['PREVAILING_WAGE'].astype('float')\n",
        "#add one column as ANNUAL_SALARY\n",
        "processed_data['ANNUAL_SALARY'] = processed_data['PREVAILING_WAGE'] * processed_data['PW_UNIT_OF_PAY']\n",
        "processed_data = processed_data.drop([\"PREVAILING_WAGE\", \"PW_UNIT_OF_PAY\"], axis=1)\n",
        "\n",
        "#-----------SET TRAIN_LABELS AND TRAIN_SET-----------#\n",
        "train_labels = processed_data.copy()['CASE_STATUS']\n",
        "train_set = processed_data.copy().drop([\"CASE_STATUS\"], axis=1)"
      ],
      "execution_count": 0,
      "outputs": []
    },
    {
      "cell_type": "code",
      "metadata": {
        "id": "pGAGEtu6y0hU",
        "colab_type": "code",
        "colab": {
          "base_uri": "https://localhost:8080/",
          "height": 210
        },
        "outputId": "1bcb5987-ebbb-4c1b-be77-68dcdc685280"
      },
      "source": [
        "train_labels.head(10)"
      ],
      "execution_count": 26,
      "outputs": [
        {
          "output_type": "execute_result",
          "data": {
            "text/plain": [
              "0    0\n",
              "1    0\n",
              "2    0\n",
              "3    0\n",
              "4    0\n",
              "5    0\n",
              "6    0\n",
              "7    0\n",
              "8    0\n",
              "9    0\n",
              "Name: CASE_STATUS, dtype: object"
            ]
          },
          "metadata": {
            "tags": []
          },
          "execution_count": 26
        }
      ]
    },
    {
      "cell_type": "code",
      "metadata": {
        "id": "z2YP0mgAHIwz",
        "colab_type": "code",
        "colab": {
          "base_uri": "https://localhost:8080/",
          "height": 380
        },
        "outputId": "817578a8-3bc6-4894-ea77-008fb4a0f520"
      },
      "source": [
        "train_set.head(10)"
      ],
      "execution_count": 27,
      "outputs": [
        {
          "output_type": "execute_result",
          "data": {
            "text/html": [
              "<div>\n",
              "<style scoped>\n",
              "    .dataframe tbody tr th:only-of-type {\n",
              "        vertical-align: middle;\n",
              "    }\n",
              "\n",
              "    .dataframe tbody tr th {\n",
              "        vertical-align: top;\n",
              "    }\n",
              "\n",
              "    .dataframe thead th {\n",
              "        text-align: right;\n",
              "    }\n",
              "</style>\n",
              "<table border=\"1\" class=\"dataframe\">\n",
              "  <thead>\n",
              "    <tr style=\"text-align: right;\">\n",
              "      <th></th>\n",
              "      <th>DECISION_DATE</th>\n",
              "      <th>EMPLOYER_NAME</th>\n",
              "      <th>JOB_TITLE</th>\n",
              "      <th>SOC_CODE</th>\n",
              "      <th>NAIC_CODE</th>\n",
              "      <th>FULL_TIME_POSITION</th>\n",
              "      <th>H-1B_DEPENDENT</th>\n",
              "      <th>WORKSITE_STATE</th>\n",
              "      <th>EMP_PERIOD</th>\n",
              "      <th>ANNUAL_SALARY</th>\n",
              "    </tr>\n",
              "  </thead>\n",
              "  <tbody>\n",
              "    <tr>\n",
              "      <th>0</th>\n",
              "      <td>2015</td>\n",
              "      <td>69399</td>\n",
              "      <td>17588</td>\n",
              "      <td>15</td>\n",
              "      <td>54</td>\n",
              "      <td>1</td>\n",
              "      <td>0</td>\n",
              "      <td>4</td>\n",
              "      <td>1</td>\n",
              "      <td>84094.0</td>\n",
              "    </tr>\n",
              "    <tr>\n",
              "      <th>1</th>\n",
              "      <td>2015</td>\n",
              "      <td>24172</td>\n",
              "      <td>19497</td>\n",
              "      <td>13</td>\n",
              "      <td>51</td>\n",
              "      <td>1</td>\n",
              "      <td>1</td>\n",
              "      <td>4</td>\n",
              "      <td>3</td>\n",
              "      <td>71414.0</td>\n",
              "    </tr>\n",
              "    <tr>\n",
              "      <th>2</th>\n",
              "      <td>2015</td>\n",
              "      <td>38583</td>\n",
              "      <td>37504</td>\n",
              "      <td>13</td>\n",
              "      <td>54</td>\n",
              "      <td>1</td>\n",
              "      <td>0</td>\n",
              "      <td>38</td>\n",
              "      <td>3</td>\n",
              "      <td>93475.0</td>\n",
              "    </tr>\n",
              "    <tr>\n",
              "      <th>3</th>\n",
              "      <td>2015</td>\n",
              "      <td>31004</td>\n",
              "      <td>78719</td>\n",
              "      <td>15</td>\n",
              "      <td>54</td>\n",
              "      <td>1</td>\n",
              "      <td>0</td>\n",
              "      <td>49</td>\n",
              "      <td>3</td>\n",
              "      <td>81869.0</td>\n",
              "    </tr>\n",
              "    <tr>\n",
              "      <th>4</th>\n",
              "      <td>2015</td>\n",
              "      <td>2807</td>\n",
              "      <td>25710</td>\n",
              "      <td>27</td>\n",
              "      <td>51</td>\n",
              "      <td>1</td>\n",
              "      <td>0</td>\n",
              "      <td>7</td>\n",
              "      <td>2</td>\n",
              "      <td>101982.0</td>\n",
              "    </tr>\n",
              "    <tr>\n",
              "      <th>5</th>\n",
              "      <td>2015</td>\n",
              "      <td>5955</td>\n",
              "      <td>1717</td>\n",
              "      <td>17</td>\n",
              "      <td>33</td>\n",
              "      <td>1</td>\n",
              "      <td>0</td>\n",
              "      <td>4</td>\n",
              "      <td>2</td>\n",
              "      <td>76648.0</td>\n",
              "    </tr>\n",
              "    <tr>\n",
              "      <th>6</th>\n",
              "      <td>2015</td>\n",
              "      <td>27988</td>\n",
              "      <td>29586</td>\n",
              "      <td>11</td>\n",
              "      <td>52</td>\n",
              "      <td>1</td>\n",
              "      <td>0</td>\n",
              "      <td>38</td>\n",
              "      <td>2</td>\n",
              "      <td>204090.0</td>\n",
              "    </tr>\n",
              "    <tr>\n",
              "      <th>7</th>\n",
              "      <td>2015</td>\n",
              "      <td>19165</td>\n",
              "      <td>64308</td>\n",
              "      <td>41</td>\n",
              "      <td>53</td>\n",
              "      <td>1</td>\n",
              "      <td>0</td>\n",
              "      <td>4</td>\n",
              "      <td>2</td>\n",
              "      <td>71802.0</td>\n",
              "    </tr>\n",
              "    <tr>\n",
              "      <th>8</th>\n",
              "      <td>2015</td>\n",
              "      <td>27342</td>\n",
              "      <td>30406</td>\n",
              "      <td>13</td>\n",
              "      <td>52</td>\n",
              "      <td>1</td>\n",
              "      <td>0</td>\n",
              "      <td>51</td>\n",
              "      <td>2</td>\n",
              "      <td>73861.0</td>\n",
              "    </tr>\n",
              "    <tr>\n",
              "      <th>9</th>\n",
              "      <td>2015</td>\n",
              "      <td>59924</td>\n",
              "      <td>31485</td>\n",
              "      <td>11</td>\n",
              "      <td>54</td>\n",
              "      <td>1</td>\n",
              "      <td>0</td>\n",
              "      <td>4</td>\n",
              "      <td>2</td>\n",
              "      <td>140005.0</td>\n",
              "    </tr>\n",
              "  </tbody>\n",
              "</table>\n",
              "</div>"
            ],
            "text/plain": [
              "   DECISION_DATE  EMPLOYER_NAME  ...  EMP_PERIOD  ANNUAL_SALARY\n",
              "0           2015          69399  ...           1        84094.0\n",
              "1           2015          24172  ...           3        71414.0\n",
              "2           2015          38583  ...           3        93475.0\n",
              "3           2015          31004  ...           3        81869.0\n",
              "4           2015           2807  ...           2       101982.0\n",
              "5           2015           5955  ...           2        76648.0\n",
              "6           2015          27988  ...           2       204090.0\n",
              "7           2015          19165  ...           2        71802.0\n",
              "8           2015          27342  ...           2        73861.0\n",
              "9           2015          59924  ...           2       140005.0\n",
              "\n",
              "[10 rows x 10 columns]"
            ]
          },
          "metadata": {
            "tags": []
          },
          "execution_count": 27
        }
      ]
    },
    {
      "cell_type": "code",
      "metadata": {
        "id": "wKv401asvQaZ",
        "colab_type": "code",
        "colab": {}
      },
      "source": [
        ""
      ],
      "execution_count": 0,
      "outputs": []
    }
  ]
}