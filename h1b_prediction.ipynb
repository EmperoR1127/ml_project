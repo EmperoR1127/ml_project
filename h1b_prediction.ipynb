{
  "nbformat": 4,
  "nbformat_minor": 0,
  "metadata": {
    "colab": {
      "name": "h1b_prediction.ipynb",
      "provenance": [],
      "include_colab_link": true
    },
    "kernelspec": {
      "name": "python3",
      "display_name": "Python 3"
    }
  },
  "cells": [
    {
      "cell_type": "markdown",
      "metadata": {
        "id": "view-in-github",
        "colab_type": "text"
      },
      "source": [
        "<a href=\"https://colab.research.google.com/github/EmperoR1127/ml_project/blob/emperor/h1b_prediction.ipynb\" target=\"_parent\"><img src=\"https://colab.research.google.com/assets/colab-badge.svg\" alt=\"Open In Colab\"/></a>"
      ]
    },
    {
      "cell_type": "code",
      "metadata": {
        "id": "FJ8MYgffGitr",
        "colab_type": "code",
        "outputId": "2ddcc9c2-9702-4723-d8b6-c6cf942fbdd2",
        "colab": {
          "base_uri": "https://localhost:8080/",
          "height": 125
        }
      },
      "source": [
        "from google.colab import drive\n",
        "drive.mount('/content/drive')"
      ],
      "execution_count": 1,
      "outputs": [
        {
          "output_type": "stream",
          "text": [
            "Go to this URL in a browser: https://accounts.google.com/o/oauth2/auth?client_id=947318989803-6bn6qk8qdgf4n4g3pfee6491hc0brc4i.apps.googleusercontent.com&redirect_uri=urn%3Aietf%3Awg%3Aoauth%3A2.0%3Aoob&scope=email%20https%3A%2F%2Fwww.googleapis.com%2Fauth%2Fdocs.test%20https%3A%2F%2Fwww.googleapis.com%2Fauth%2Fdrive%20https%3A%2F%2Fwww.googleapis.com%2Fauth%2Fdrive.photos.readonly%20https%3A%2F%2Fwww.googleapis.com%2Fauth%2Fpeopleapi.readonly&response_type=code\n",
            "\n",
            "Enter your authorization code:\n",
            "··········\n",
            "Mounted at /content/drive\n"
          ],
          "name": "stdout"
        }
      ]
    },
    {
      "cell_type": "code",
      "metadata": {
        "id": "P8zluK07MCXy",
        "colab_type": "code",
        "outputId": "49cc20ce-2749-4472-f0f0-227aa257d748",
        "colab": {
          "base_uri": "https://localhost:8080/",
          "height": 72
        }
      },
      "source": [
        "# To support both python 2 and python 3\n",
        "from __future__ import division, print_function, unicode_literals\n",
        "\n",
        "# Common imports\n",
        "import numpy as np\n",
        "import os\n",
        "from scipy.io import arff\n",
        "import pandas as pd\n",
        "\n",
        "# to make this notebook's output stable across runs\n",
        "np.random.seed(42)\n",
        "\n",
        "# To plot pretty figures\n",
        "%matplotlib inline\n",
        "import matplotlib as mpl\n",
        "import matplotlib.pyplot as plt\n",
        "mpl.rc('axes', labelsize=14)\n",
        "mpl.rc('xtick', labelsize=12)\n",
        "mpl.rc('ytick', labelsize=12)\n",
        "\n",
        "# Where to save the figures\n",
        "PROJECT_ROOT_DIR = \"/content/drive/My Drive/Images\"\n",
        "\n",
        "def save_fig(fig_id, tight_layout=True):\n",
        "    path = os.path.join(PROJECT_ROOT_DIR, \"images\", fig_id + \".png\")\n",
        "    print(\"Saving figure\", fig_id)\n",
        "    if tight_layout:\n",
        "        plt.tight_layout()\n",
        "    plt.savefig(path, format='png', dpi=300)\n",
        "    \n",
        "#load the dataset\n",
        "path_16 = \"/content/drive/My Drive/Data/H-1B_Disclosure_RAW_Data_FY16.csv\"\n",
        "path_17 = \"/content/drive/My Drive/Data/H-1B_Disclosure_RAW_Data_FY17.csv\"\n",
        "path_18 = \"/content/drive/My Drive/Data/H-1B_Disclosure_RAW_Data_FY18.csv\"\n",
        "df_16 = pd.read_csv(path_16, encoding='utf-8')\n",
        "df_17 = pd.read_csv(path_17, encoding='utf-8')\n",
        "df_18 = pd.read_csv(path_18, encoding='utf-8')\n",
        "#combine datesets and recalculate row index\n",
        "df = pd.concat([df_16, df_17, df_18], sort=False, axis=0).reset_index(drop=True)\n",
        "processed_data = df.copy()"
      ],
      "execution_count": 2,
      "outputs": [
        {
          "output_type": "stream",
          "text": [
            "/usr/local/lib/python3.6/dist-packages/IPython/core/interactiveshell.py:2718: DtypeWarning: Columns (7) have mixed types. Specify dtype option on import or set low_memory=False.\n",
            "  interactivity=interactivity, compiler=compiler, result=result)\n"
          ],
          "name": "stderr"
        }
      ]
    },
    {
      "cell_type": "code",
      "metadata": {
        "id": "TMVkwSFohUtz",
        "colab_type": "code",
        "colab": {}
      },
      "source": [
        "#-----------PROCESS BINARY-VALUE COLUMNS-----------#\n",
        "#fill missing values in columns of H-1B_DEPENDENT and FULL_TIME_POSITION with most frequent values\n",
        "processed_data = processed_data.fillna(processed_data['H-1B_DEPENDENT'].value_counts().index[0])\n",
        "processed_data = processed_data.fillna(processed_data['FULL_TIME_POSITION'].value_counts().index[0])\n",
        "#numericalize colums of CASE_STATUS, FULL_TIME_POSITION and H-1B_DEPENDENT\n",
        "numericalize_columns = {\"CASE_STATUS\":{\"CERTIFIED\":0, \"DENIED\":1}, \n",
        "                        \"FULL_TIME_POSITION\":{\"Y\":1, \"N\":0},\n",
        "                        \"H-1B_DEPENDENT\":{\"Y\":1, \"N\":0}}\n",
        "processed_data.replace(numericalize_columns, inplace=True)"
      ],
      "execution_count": 0,
      "outputs": []
    },
    {
      "cell_type": "code",
      "metadata": {
        "id": "ojTbCVgBhYPW",
        "colab_type": "code",
        "colab": {}
      },
      "source": [
        "#-----------PROCESS TIME-VALUE COLUMNS-----------#\n",
        "#numericalize colums of DECISION_DATE, EMPLOYMENT_START_DATE and EMPLOYMENT_END_DATE\n",
        "processed_data['DECISION_DATE'] = pd.to_datetime(processed_data['DECISION_DATE'],infer_datetime_format=True,errors='coerce').map(lambda x: str(x)[:4])\n",
        "processed_data['EMPLOYMENT_START_DATE'] = pd.to_datetime(processed_data['EMPLOYMENT_START_DATE'],infer_datetime_format=True,errors='coerce').map(lambda x: str(x)[:4])\n",
        "processed_data['EMPLOYMENT_END_DATE'] = pd.to_datetime(processed_data['EMPLOYMENT_END_DATE'],infer_datetime_format=True,errors='coerce').map(lambda x: str(x)[:4])\n",
        "#drop NaT rows because we can't \"guess\" the specific date\n",
        "processed_data = processed_data[processed_data.DECISION_DATE != 'NaT']\n",
        "processed_data = processed_data[processed_data.EMPLOYMENT_START_DATE != 'NaT']\n",
        "processed_data = processed_data[processed_data.EMPLOYMENT_END_DATE != 'NaT']\n",
        "processed_data['DECISION_DATE'] = processed_data['DECISION_DATE'].astype(int)\n",
        "processed_data['EMPLOYMENT_START_DATE'] = processed_data['EMPLOYMENT_START_DATE'].astype(int)\n",
        "processed_data['EMPLOYMENT_END_DATE'] = processed_data['EMPLOYMENT_END_DATE'].astype(int)\n",
        "#add one column as EMP_PERIOD, and drop EMPLOYMENT_START_DATE and EMPLOYMENT_END_DATE\n",
        "processed_data['EMP_PERIOD'] = processed_data['EMPLOYMENT_END_DATE'] - processed_data['EMPLOYMENT_START_DATE']\n",
        "processed_data = processed_data.drop([\"EMPLOYMENT_START_DATE\", \"EMPLOYMENT_END_DATE\"], axis=1)"
      ],
      "execution_count": 0,
      "outputs": []
    },
    {
      "cell_type": "code",
      "metadata": {
        "id": "7ZJrl2_rhcm2",
        "colab_type": "code",
        "colab": {}
      },
      "source": [
        "#-----------PROCESS STRING-VALUE COLUMNS-----------#\n",
        "#numericalize colums of EMPLOYER_NAME\n",
        "processed_data['EMPLOYER_NAME'] = processed_data['EMPLOYER_NAME'].astype('category')\n",
        "#employer_name_dict stores the mapping of numerical values to categorical values of EMPLOYER_NAME, incase of further reference\n",
        "employer_name_dict = dict(zip(processed_data['EMPLOYER_NAME'].cat.codes, processed_data['EMPLOYER_NAME']))\n",
        "processed_data['EMPLOYER_NAME'] = processed_data['EMPLOYER_NAME'].cat.codes\n",
        "#numericalize colums of JOB_TITLE\n",
        "processed_data['JOB_TITLE'] = processed_data['JOB_TITLE'].astype('category')\n",
        "#employer_name_dict stores the mapping of numerical values to categorical values of JOB_TITLE, incase of further reference\n",
        "job_title_dict = dict(zip(processed_data['JOB_TITLE'].cat.codes, processed_data['JOB_TITLE']))\n",
        "processed_data['JOB_TITLE'] = processed_data['JOB_TITLE'].cat.codes\n",
        "#concatenate the first 2 digit of column SOC_CODE\n",
        "processed_data['SOC_CODE'] = processed_data['SOC_CODE'].map(lambda x: str(x)[:2])\n",
        "#remove impurity in the column\n",
        "#processed_data['SOC_CODE'] = pd.to_numeric(processed_data.SOC_CODE, errors='coerce')\n",
        "processed_data = processed_data[processed_data.SOC_CODE != 'N']\n",
        "processed_data = processed_data[processed_data.SOC_CODE != 'na']\n",
        "processed_data = processed_data[processed_data.SOC_CODE != 'SO']\n",
        "processed_data = processed_data[processed_data.SOC_CODE != 'CO']\n",
        "processed_data = processed_data[processed_data.SOC_CODE != 'EL']\n",
        "processed_data = processed_data[processed_data.SOC_CODE != '1-']\n",
        "processed_data = processed_data[processed_data.SOC_CODE != 'EN']\n",
        "processed_data = processed_data[processed_data.SOC_CODE != 'AI']\n",
        "processed_data = processed_data[processed_data.SOC_CODE != 'ME']\n",
        "processed_data = processed_data[processed_data.SOC_CODE != 'AC']\n",
        "processed_data['SOC_CODE'] = processed_data['SOC_CODE'].astype('int')\n",
        "#concatenate the first 2 digit of column NAIC_CODE\n",
        "processed_data['NAIC_CODE'] = processed_data['NAIC_CODE'].map(lambda x: str(x)[:2])\n",
        "#remove impurity in the column\n",
        "processed_data = processed_data[processed_data.NAIC_CODE != 'N']\n",
        "processed_data = processed_data[processed_data.NAIC_CODE != '&N']\n",
        "#processed_data = processed_data[processed_data.NAIC_CODE != '0.']\n",
        "processed_data['NAIC_CODE'] = processed_data['NAIC_CODE'].astype('int')\n",
        "#numericalize colums of WORKSITE_STATE\n",
        "processed_data['WORKSITE_STATE'] = processed_data['WORKSITE_STATE'].astype('category')\n",
        "#worksite_state_dict stores the mapping of numerical values to categorical values of Worksite_STATE_full, incase of further reference\n",
        "worksite_state_dict = dict(zip(processed_data['WORKSITE_STATE'].cat.codes, processed_data['WORKSITE_STATE']))\n",
        "processed_data['WORKSITE_STATE'] = processed_data['WORKSITE_STATE'].cat.codes.astype('int')"
      ],
      "execution_count": 0,
      "outputs": []
    },
    {
      "cell_type": "code",
      "metadata": {
        "id": "piEBG-pYhfsA",
        "colab_type": "code",
        "colab": {}
      },
      "source": [
        "#-----------PROCESS FLOAT-VALUE COLUMNS-----------#\n",
        "#remove impurity in the column\n",
        "processed_data = processed_data[processed_data.PW_UNIT_OF_PAY != 'N']\n",
        "processed_data = processed_data[processed_data.PREVAILING_WAGE != 'N']\n",
        "#according to google, there are 2080 working hours per year\n",
        "pw_unit_column = {\"PW_UNIT_OF_PAY\":{\"Year\":1, \"Hour\":2080, \"Month\":12, \"Week\":52, \"Bi-Weekly\":26}}\n",
        "processed_data.replace(pw_unit_column, inplace=True)\n",
        "processed_data['PW_UNIT_OF_PAY'] = processed_data['PW_UNIT_OF_PAY'].astype('int')\n",
        "#remove ',' in the column value\n",
        "processed_data['PREVAILING_WAGE'] = processed_data['PREVAILING_WAGE'].astype('str')\n",
        "processed_data['PREVAILING_WAGE'] = processed_data.PREVAILING_WAGE.str.replace(',','')\n",
        "processed_data['PREVAILING_WAGE'] = processed_data['PREVAILING_WAGE'].astype('float')\n",
        "#add one column as ANNUAL_SALARY\n",
        "processed_data['ANNUAL_SALARY'] = processed_data['PREVAILING_WAGE'] * processed_data['PW_UNIT_OF_PAY']\n",
        "processed_data = processed_data.drop([\"PREVAILING_WAGE\", \"PW_UNIT_OF_PAY\"], axis=1)"
      ],
      "execution_count": 0,
      "outputs": []
    },
    {
      "cell_type": "code",
      "metadata": {
        "id": "bxQBHurnodLp",
        "colab_type": "code",
        "colab": {}
      },
      "source": [
        "#-----------SET TRAIN_LABELS AND TRAIN_SET-----------#\n",
        "train_labels = processed_data.copy()['CASE_STATUS']\n",
        "train_labels = train_labels.astype('category')\n",
        "train_set = processed_data.copy().drop([\"CASE_STATUS\"], axis=1)"
      ],
      "execution_count": 0,
      "outputs": []
    },
    {
      "cell_type": "code",
      "metadata": {
        "id": "iNKK3OPe5Ei2",
        "colab_type": "code",
        "outputId": "e6e41da9-1a06-43cf-b6a8-ba681bd33429",
        "colab": {
          "base_uri": "https://localhost:8080/",
          "height": 90
        }
      },
      "source": [
        "#deal with the curse of imbalance combining over- and under-sampling using SMOTE and Edited Nearest Neighbours\n",
        "from imblearn.combine import SMOTEENN\n",
        "from collections import Counter\n",
        "sme = SMOTEENN(random_state=42)\n",
        "train_set_res, train_labels_res = sme.fit_resample(train_set, train_labels)\n",
        "print(sorted(Counter(train_labels_res).items()))"
      ],
      "execution_count": 8,
      "outputs": [
        {
          "output_type": "stream",
          "text": [
            "/usr/local/lib/python3.6/dist-packages/sklearn/externals/six.py:31: DeprecationWarning: The module is deprecated in version 0.21 and will be removed in version 0.23 since we've dropped support for Python 2.7. Please rely on the official version of six (https://pypi.org/project/six/).\n",
            "  \"(https://pypi.org/project/six/).\", DeprecationWarning)\n"
          ],
          "name": "stderr"
        },
        {
          "output_type": "stream",
          "text": [
            "[(0, 1471563), (1, 1516668)]\n"
          ],
          "name": "stdout"
        }
      ]
    },
    {
      "cell_type": "code",
      "metadata": {
        "id": "Q1GZ0G1npob_",
        "colab_type": "code",
        "colab": {
          "base_uri": "https://localhost:8080/",
          "height": 246
        },
        "outputId": "43ace454-5295-476f-d5de-947bab5d2415"
      },
      "source": [
        "train_set_res"
      ],
      "execution_count": 12,
      "outputs": [
        {
          "output_type": "execute_result",
          "data": {
            "text/plain": [
              "array([[2.01500000e+03, 9.90870000e+04, 2.89780000e+04, ...,\n",
              "        4.00000000e+00, 3.00000000e+00, 1.87200000e+05],\n",
              "       [2.01500000e+03, 7.71590000e+04, 1.10901000e+05, ...,\n",
              "        5.20000000e+01, 2.00000000e+00, 2.41842000e+05],\n",
              "       [2.01500000e+03, 1.27160000e+05, 2.97370000e+04, ...,\n",
              "        4.00000000e+00, 2.00000000e+00, 9.99860000e+04],\n",
              "       ...,\n",
              "       [2.01621270e+03, 6.55126834e+04, 8.88224315e+03, ...,\n",
              "        3.15555873e+01, 1.57460499e+00, 4.96908418e+04],\n",
              "       [2.01716911e+03, 6.01872391e+04, 1.70194166e+05, ...,\n",
              "        4.93382127e+01, 2.83089363e+00, 6.01958480e+04],\n",
              "       [2.01700000e+03, 8.98500000e+04, 1.18312000e+05, ...,\n",
              "        9.00000000e+00, 3.00000000e+00, 6.65810000e+04]])"
            ]
          },
          "metadata": {
            "tags": []
          },
          "execution_count": 12
        }
      ]
    },
    {
      "cell_type": "code",
      "metadata": {
        "id": "5JwugtxUqOoI",
        "colab_type": "code",
        "colab": {
          "base_uri": "https://localhost:8080/",
          "height": 34
        },
        "outputId": "e5261abd-cc5f-4306-81de-ebeef554821b"
      },
      "source": [
        "#univariate feature selection\n",
        "from sklearn.feature_selection import SelectPercentile\n",
        "from sklearn.feature_selection import f_classif\n",
        "train_set_reduction = SelectPercentile(f_classif, percentile=90).fit_transform(train_set_res, train_labels_res)\n",
        "train_set_reduction.shape"
      ],
      "execution_count": 17,
      "outputs": [
        {
          "output_type": "execute_result",
          "data": {
            "text/plain": [
              "(2988231, 9)"
            ]
          },
          "metadata": {
            "tags": []
          },
          "execution_count": 17
        }
      ]
    },
    {
      "cell_type": "code",
      "metadata": {
        "id": "IWiG8klmq1-x",
        "colab_type": "code",
        "colab": {
          "base_uri": "https://localhost:8080/",
          "height": 34
        },
        "outputId": "e71d8bbf-d4e5-420a-887f-1133486a6ee8"
      },
      "source": [
        "#L1-based feature selection\n",
        "from sklearn.svm import LinearSVC\n",
        "from sklearn.feature_selection import SelectFromModel\n",
        "lsvc = LinearSVC(C=0.01, penalty=\"l1\", dual=False).fit(train_set_res, train_labels_res)\n",
        "model = SelectFromModel(lsvc, prefit=True)\n",
        "X_new = model.transform(train_set_res)\n",
        "X_new.shape"
      ],
      "execution_count": 18,
      "outputs": [
        {
          "output_type": "execute_result",
          "data": {
            "text/plain": [
              "(2988231, 7)"
            ]
          },
          "metadata": {
            "tags": []
          },
          "execution_count": 18
        }
      ]
    },
    {
      "cell_type": "code",
      "metadata": {
        "id": "uB1OM3latoOm",
        "colab_type": "code",
        "colab": {
          "base_uri": "https://localhost:8080/",
          "height": 34
        },
        "outputId": "56547f22-1968-4eb5-f3c6-eea6680a7f7b"
      },
      "source": [
        "#Tree-based feature selection\n",
        "from sklearn.ensemble import ExtraTreesClassifier\n",
        "from sklearn.feature_selection import SelectFromModel\n",
        "clf = ExtraTreesClassifier(n_estimators=50)\n",
        "clf = clf.fit(train_set_res, train_labels_res)\n",
        "clf.feature_importances_\n",
        "model = SelectFromModel(clf, prefit=True)\n",
        "X_new = model.transform(train_set_res)\n",
        "X_new.shape"
      ],
      "execution_count": 19,
      "outputs": [
        {
          "output_type": "execute_result",
          "data": {
            "text/plain": [
              "(2988231, 4)"
            ]
          },
          "metadata": {
            "tags": []
          },
          "execution_count": 19
        }
      ]
    },
    {
      "cell_type": "code",
      "metadata": {
        "id": "skbz3eV8uc05",
        "colab_type": "code",
        "colab": {}
      },
      "source": [
        ""
      ],
      "execution_count": 0,
      "outputs": []
    }
  ]
}