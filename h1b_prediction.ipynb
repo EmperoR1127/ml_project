{
  "nbformat": 4,
  "nbformat_minor": 0,
  "metadata": {
    "colab": {
      "name": "h1b prediction.ipynb",
      "provenance": []
    },
    "kernelspec": {
      "name": "python3",
      "display_name": "Python 3"
    }
  },
  "cells": [
    {
      "cell_type": "code",
      "metadata": {
        "id": "FJ8MYgffGitr",
        "colab_type": "code",
        "outputId": "d0faf3dd-311c-43ba-9d46-624f905c8a44",
        "colab": {
          "base_uri": "https://localhost:8080/",
          "height": 125
        }
      },
      "source": [
        "import pandas as pd\n",
        "from google.colab import drive\n",
        "drive.mount('/content/drive')"
      ],
      "execution_count": 0,
      "outputs": [
        {
          "output_type": "stream",
          "text": [
            "Go to this URL in a browser: https://accounts.google.com/o/oauth2/auth?client_id=947318989803-6bn6qk8qdgf4n4g3pfee6491hc0brc4i.apps.googleusercontent.com&redirect_uri=urn%3Aietf%3Awg%3Aoauth%3A2.0%3Aoob&scope=email%20https%3A%2F%2Fwww.googleapis.com%2Fauth%2Fdocs.test%20https%3A%2F%2Fwww.googleapis.com%2Fauth%2Fdrive%20https%3A%2F%2Fwww.googleapis.com%2Fauth%2Fdrive.photos.readonly%20https%3A%2F%2Fwww.googleapis.com%2Fauth%2Fpeopleapi.readonly&response_type=code\n",
            "\n",
            "Enter your authorization code:\n",
            "··········\n",
            "Mounted at /content/drive\n"
          ],
          "name": "stdout"
        }
      ]
    },
    {
      "cell_type": "code",
      "metadata": {
        "id": "P8zluK07MCXy",
        "colab_type": "code",
        "outputId": "34fe1f37-8852-4c31-f839-c160b74c85ae",
        "colab": {
          "base_uri": "https://localhost:8080/",
          "height": 72
        }
      },
      "source": [
        "# To support both python 2 and python 3\n",
        "from __future__ import division, print_function, unicode_literals\n",
        "\n",
        "# Common imports\n",
        "import numpy as np\n",
        "import os\n",
        "from scipy.io import arff\n",
        "import pandas as pd\n",
        "\n",
        "# to make this notebook's output stable across runs\n",
        "np.random.seed(42)\n",
        "\n",
        "# To plot pretty figures\n",
        "%matplotlib inline\n",
        "import matplotlib as mpl\n",
        "import matplotlib.pyplot as plt\n",
        "mpl.rc('axes', labelsize=14)\n",
        "mpl.rc('xtick', labelsize=12)\n",
        "mpl.rc('ytick', labelsize=12)\n",
        "\n",
        "# Where to save the figures\n",
        "PROJECT_ROOT_DIR = \"/content/drive/My Drive/Images\"\n",
        "\n",
        "def save_fig(fig_id, tight_layout=True):\n",
        "    path = os.path.join(PROJECT_ROOT_DIR, \"images\", fig_id + \".png\")\n",
        "    print(\"Saving figure\", fig_id)\n",
        "    if tight_layout:\n",
        "        plt.tight_layout()\n",
        "    plt.savefig(path, format='png', dpi=300)\n",
        "\n",
        "#load the dataset\n",
        "path = \"/content/drive/My Drive/Data/h1b-case-2016.csv\"\n",
        "df = pd.read_csv(path, encoding='utf-8')"
      ],
      "execution_count": 0,
      "outputs": [
        {
          "output_type": "stream",
          "text": [
            "/usr/local/lib/python3.6/dist-packages/IPython/core/interactiveshell.py:2718: DtypeWarning: Columns (12) have mixed types. Specify dtype option on import or set low_memory=False.\n",
            "  interactivity=interactivity, compiler=compiler, result=result)\n"
          ],
          "name": "stderr"
        }
      ]
    },
    {
      "cell_type": "code",
      "metadata": {
        "id": "U85xalHkr5RJ",
        "colab_type": "code",
        "colab": {}
      },
      "source": [
        "#Data processing\n",
        "\n",
        "#drop some columns\n",
        "processed_data = df.drop([\"CASE_NUMBER\", \"VISA_CLASS\", \"CASE_SUBMITTED\", \"DECISION_DATE\", \"EMPLOYER_CITY\", \"EMP_STATE_abb\", \"EMPLOYER_POSTAL_CODE\", \"EMPLOYER_COUNTRY\", \"EMPLOYER_PHONE\", \"AGENT_ATTORNEY_NAME\", \"AGENT_ATTORNEY_CITY\", \"AGENT_ATTORNEY_STATE\", \"JOB_TITLE\", \"SOC_NAME\", \"PREVAILING_WAGE\", \"PW_UNIT_OF_PAY\", \"WAGE_UNIT_OF_PAY\", \"WORKSITE_CITY\", \"WORKSITE_COUNTY\", \"Worksite_STATE_abb\", \"WORKSITE_POSTAL_CODE\", \"YEAR\", \"NAIC_CODE\", \"WAGE_RATE_OF_PAY\", \"EMP_STATE_full\", \"EMP_State_and_city\", \"Worksite_State_and_city\"], axis=1)\n",
        "\n",
        "#ignore the withdrawn cases\n",
        "processed_data = processed_data[processed_data.CASE_STATUS != 'WITHDRAWN']\n",
        "processed_data = processed_data[processed_data.CASE_STATUS != 'CERTIFIED-WITHDRAWN']\n",
        "\n",
        "#concatenate the first 2 digit of column SOC_CODE\n",
        "processed_data['SOC_CODE'] = processed_data['SOC_CODE'].map(lambda x: str(x)[:2])\n",
        "processed_data['SOC_CODE'] = processed_data['SOC_CODE'].astype('int')\n",
        "\n",
        "#Numericalize colums of CASE_STATUS and FULL_TIME_POSITION\n",
        "Numericalize_columns = {\"CASE_STATUS\":{\"CERTIFIED\":0, \"DENIED\":1}, \n",
        "                        \"FULL_TIME_POSITION\":{\"Y\":1, \"N\":0}}\n",
        "processed_data.replace(Numericalize_columns, inplace=True)\n",
        "\n",
        "#Numericalize colums of Worksite_STATE_full\n",
        "processed_data['Worksite_STATE_full'] = processed_data['Worksite_STATE_full'].astype('category')\n",
        "#worksite_state_dict stores the mapping of numerical values to categorical values of Worksite_STATE_full, incase of further reference\n",
        "worksite_state_dict = dict(zip(processed_data['Worksite_STATE_full'].cat.codes, processed_data['Worksite_STATE_full']))\n",
        "processed_data['Worksite_STATE_full'] = processed_data['Worksite_STATE_full'].cat.codes.astype('int')\n",
        "\n",
        "#Numericalize colums of EMPLOYMENT_START_DATE and EMPLOYMENT_END_DATE\n",
        "processed_data['EMPLOYMENT_START_DATE'] = pd.to_datetime(processed_data['EMPLOYMENT_START_DATE'],infer_datetime_format=True).map(lambda x: str(x)[:4])\n",
        "processed_data['EMPLOYMENT_END_DATE'] = pd.to_datetime(processed_data['EMPLOYMENT_END_DATE'],infer_datetime_format=True).map(lambda x: str(x)[:4])\n",
        "processed_data = processed_data[processed_data.EMPLOYMENT_START_DATE != 'NaT']\n",
        "processed_data = processed_data[processed_data.EMPLOYMENT_END_DATE != 'NaT']\n",
        "processed_data['EMPLOYMENT_START_DATE'] = processed_data['EMPLOYMENT_START_DATE'].astype(int)\n",
        "processed_data['EMPLOYMENT_END_DATE'] = processed_data['EMPLOYMENT_END_DATE'].astype(int)\n",
        "processed_data['EMP_PERIOD'] = processed_data['EMPLOYMENT_END_DATE'] - processed_data['EMPLOYMENT_START_DATE']\n",
        "processed_data = processed_data.drop([\"EMPLOYMENT_START_DATE\", \"EMPLOYMENT_END_DATE\"], axis=1)\n",
        "\n",
        "#Numericalize colums of EMPLOYER_NAME\n",
        "processed_data['EMPLOYER_NAME'] = processed_data['EMPLOYER_NAME'].astype('category')\n",
        "#employer_name_dict stores the mapping of numerical values to categorical values of EMPLOYER_NAME, incase of further reference\n",
        "employer_name_dict = dict(zip(processed_data['EMPLOYER_NAME'].cat.codes, processed_data['EMPLOYER_NAME']))\n",
        "processed_data['EMPLOYER_NAME'] = processed_data['EMPLOYER_NAME'].cat.codes"
      ],
      "execution_count": 0,
      "outputs": []
    },
    {
      "cell_type": "code",
      "metadata": {
        "id": "xoGZpLQMbpNm",
        "colab_type": "code",
        "colab": {
          "base_uri": "https://localhost:8080/",
          "height": 175
        },
        "outputId": "73f76bbc-6b19-44d5-df1e-d7361b574e4a"
      },
      "source": [
        "processed_data.dtypes"
      ],
      "execution_count": 169,
      "outputs": [
        {
          "output_type": "execute_result",
          "data": {
            "text/plain": [
              "CASE_STATUS              int64\n",
              "EMPLOYER_NAME            int32\n",
              "SOC_CODE                 int64\n",
              "FULL_TIME_POSITION       int64\n",
              "total_wage             float64\n",
              "Sector_data              int64\n",
              "Worksite_STATE_full      int64\n",
              "EMP_PERIOD               int64\n",
              "dtype: object"
            ]
          },
          "metadata": {
            "tags": []
          },
          "execution_count": 169
        }
      ]
    },
    {
      "cell_type": "code",
      "metadata": {
        "id": "Q9HbletBfdvc",
        "colab_type": "code",
        "colab": {}
      },
      "source": [
        ""
      ],
      "execution_count": 0,
      "outputs": []
    }
  ]
}