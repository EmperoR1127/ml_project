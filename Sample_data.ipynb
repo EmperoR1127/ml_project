{
  "nbformat": 4,
  "nbformat_minor": 0,
  "metadata": {
    "colab": {
      "name": "Sample_data.ipynb",
      "provenance": [],
      "machine_shape": "hm",
      "include_colab_link": true
    },
    "kernelspec": {
      "name": "python3",
      "display_name": "Python 3"
    }
  },
  "cells": [
    {
      "cell_type": "markdown",
      "metadata": {
        "id": "view-in-github",
        "colab_type": "text"
      },
      "source": [
        "<a href=\"https://colab.research.google.com/github/EmperoR1127/ml_project/blob/master/Sample_data.ipynb\" target=\"_parent\"><img src=\"https://colab.research.google.com/assets/colab-badge.svg\" alt=\"Open In Colab\"/></a>"
      ]
    },
    {
      "cell_type": "code",
      "metadata": {
        "id": "IdX1LuvDcngh",
        "colab_type": "code",
        "outputId": "9a85d6b0-f9cb-4b1a-c8e2-7b670cdf9b99",
        "colab": {
          "base_uri": "https://localhost:8080/",
          "height": 125
        }
      },
      "source": [
        "from google.colab import drive\n",
        "drive.mount('/content/drive')"
      ],
      "execution_count": 0,
      "outputs": [
        {
          "output_type": "stream",
          "text": [
            "Go to this URL in a browser: https://accounts.google.com/o/oauth2/auth?client_id=947318989803-6bn6qk8qdgf4n4g3pfee6491hc0brc4i.apps.googleusercontent.com&redirect_uri=urn%3aietf%3awg%3aoauth%3a2.0%3aoob&response_type=code&scope=email%20https%3a%2f%2fwww.googleapis.com%2fauth%2fdocs.test%20https%3a%2f%2fwww.googleapis.com%2fauth%2fdrive%20https%3a%2f%2fwww.googleapis.com%2fauth%2fdrive.photos.readonly%20https%3a%2f%2fwww.googleapis.com%2fauth%2fpeopleapi.readonly\n",
            "\n",
            "Enter your authorization code:\n",
            "··········\n",
            "Mounted at /content/drive\n"
          ],
          "name": "stdout"
        }
      ]
    },
    {
      "cell_type": "code",
      "metadata": {
        "id": "gBbCMgB5crs4",
        "colab_type": "code",
        "outputId": "536e3407-eb57-4989-a562-45ec7f6025e6",
        "colab": {
          "base_uri": "https://localhost:8080/",
          "height": 72
        }
      },
      "source": [
        "# To support both python 2 and python 3\n",
        "from __future__ import division, print_function, unicode_literals\n",
        "\n",
        "# Common imports\n",
        "import numpy as np\n",
        "import os\n",
        "from scipy.io import arff\n",
        "import pandas as pd\n",
        "\n",
        "# to make this notebook's output stable across runs\n",
        "np.random.seed(42)\n",
        "# Where to save the figures\n",
        "PROJECT_ROOT_DIR = \"/content/drive/My Drive/\"\n",
        "\n",
        "#load the dataset\n",
        "path = PROJECT_ROOT_DIR + \"Data/H-1B_Disclosure_FY18_RAW_Data.csv\"\n",
        "df = pd.read_csv(path, encoding='utf-8')\n",
        "raw_df = df.copy()\n",
        "\n",
        "#randomly select 20058 approved cases and 269 denied cases\n",
        "df_approved = df[df['CASE_STATUS'] == \"CERTIFIED\"].sample(n = 2006, random_state = 42)\n",
        "df_denied = df[df['CASE_STATUS'] != \"CERTIFIED\"].sample(n = 27, random_state = 42)\n",
        "df = pd.concat([df_approved, df_denied], sort=False, axis=0).reset_index(drop=True)\n",
        "df.to_csv(path_or_buf= PROJECT_ROOT_DIR + \"ml_project_dataset/H-1B_Disclosure_RAW_Data.csv\")"
      ],
      "execution_count": 0,
      "outputs": [
        {
          "output_type": "stream",
          "text": [
            "/usr/local/lib/python3.6/dist-packages/IPython/core/interactiveshell.py:2718: DtypeWarning: Columns (15,16) have mixed types. Specify dtype option on import or set low_memory=False.\n",
            "  interactivity=interactivity, compiler=compiler, result=result)\n"
          ],
          "name": "stderr"
        }
      ]
    },
    {
      "cell_type": "code",
      "metadata": {
        "id": "2CoylCrbNKz5",
        "colab_type": "code",
        "outputId": "ef5580c0-87fa-428c-a71c-996d03636dc4",
        "colab": {
          "base_uri": "https://localhost:8080/",
          "height": 34
        }
      },
      "source": [
        "df.shape"
      ],
      "execution_count": 0,
      "outputs": [
        {
          "output_type": "execute_result",
          "data": {
            "text/plain": [
              "(2033, 52)"
            ]
          },
          "metadata": {
            "tags": []
          },
          "execution_count": 11
        }
      ]
    },
    {
      "cell_type": "code",
      "metadata": {
        "id": "CDUAnXCjNU6X",
        "colab_type": "code",
        "colab": {}
      },
      "source": [
        "raw_df = raw_df.drop([\"CASE_NUMBER\", \"VISA_CLASS\", \n",
        "                                        \"EMPLOYER_NAME\", \"EMPLOYER_STATE\",\"EMPLOYER_POSTAL_CODE\", \n",
        "                                        \"EMPLOYER_CITY\", \"EMPLOYER_BUSINESS_DBA\", \n",
        "                                        \"EMPLOYER_COUNTRY\", \"EMPLOYER_PROVINCE\", \"EMPLOYER_ADDRESS\", \n",
        "                                        \"EMPLOYER_PHONE\", \"EMPLOYER_PHONE_EXT\", \n",
        "                                        \"AGENT_ATTORNEY_NAME\", \"AGENT_ATTORNEY_CITY\", \"AGENT_ATTORNEY_STATE\",\n",
        "                                        \"JOB_TITLE\", \"SOC_NAME\",\n",
        "                                        \"PW_SOURCE\", \"PW_SOURCE_YEAR\", \"PW_SOURCE_OTHER\", \"WAGE_RATE_OF_PAY_FROM\",\n",
        "                                        \"WAGE_RATE_OF_PAY_TO\", \"WAGE_UNIT_OF_PAY\",\n",
        "                                        \"WORKSITE_CITY\", \"WORKSITE_COUNTY\", \"WORKSITE_POSTAL_CODE\", \n",
        "                                        \"ORIGINAL_CERT_DATE\", \"PUBLIC_DISCLOSURE_LOCATION\"], axis=1)\n",
        "#format EMPLOYMENT_START_DATE and EMPLOYMENT_END_DATE\n",
        "raw_df['CASE_SUBMITTED'] = pd.to_datetime(raw_df['CASE_SUBMITTED'],infer_datetime_format=True,errors='coerce')\n",
        "raw_df['DECISION_DATE'] = pd.to_datetime(raw_df['DECISION_DATE'],infer_datetime_format=True,errors='coerce')\n",
        "raw_df['EMPLOYMENT_START_DATE'] = pd.to_datetime(raw_df['EMPLOYMENT_START_DATE'],infer_datetime_format=True,errors='coerce')\n",
        "raw_df['EMPLOYMENT_END_DATE'] = pd.to_datetime(raw_df['EMPLOYMENT_END_DATE'],infer_datetime_format=True,errors='coerce')\n",
        "#drop NaT rows because we can't \"guess\" the specific date\n",
        "raw_df = raw_df[raw_df.CASE_SUBMITTED != 'NaT']\n",
        "raw_df = raw_df[raw_df.DECISION_DATE != 'NaT']\n",
        "raw_df = raw_df[raw_df.EMPLOYMENT_START_DATE != 'NaT']\n",
        "raw_df = raw_df[raw_df.EMPLOYMENT_END_DATE != 'NaT']\n",
        "#add one column as EMP_PERIOD, and drop EMPLOYMENT_START_DATE and EMPLOYMENT_END_DATE\n",
        "raw_df['EMP_PERIOD'] = raw_df['EMPLOYMENT_END_DATE'] - raw_df['EMPLOYMENT_START_DATE']\n",
        "raw_df['EMP_PERIOD'] = raw_df['EMP_PERIOD']/np.timedelta64(1,'Y')\n",
        "#train_set = train_set[train_set.EMP_PERIOD != '-']\n",
        "raw_df['EMP_PERIOD'] = raw_df['EMP_PERIOD'].astype(float)\n",
        "#add one column as PROCESS_TIME, indicating processing time of visa application\n",
        "raw_df['PROCESS_TIME'] = raw_df['DECISION_DATE'] - raw_df['CASE_SUBMITTED']\n",
        "raw_df['PROCESS_TIME'] = raw_df['PROCESS_TIME'].map(lambda x: str(x)[:1])\n",
        "raw_df['PROCESS_TIME'] = raw_df['PROCESS_TIME'].astype(float)\n",
        "raw_df = raw_df.drop([\"EMPLOYMENT_START_DATE\", \"EMPLOYMENT_END_DATE\"], axis=1)\n",
        "raw_df = raw_df.drop([\"CASE_SUBMITTED\", \"DECISION_DATE\"], axis=1)\n",
        "\n",
        "#concatenate the first 2 digit of column SOC_CODE and NAIC_CODE\n",
        "raw_df['SOC_CODE'] = raw_df['SOC_CODE'].map(lambda x: str(x)[:2])\n",
        "raw_df['NAICS_CODE'] = raw_df['NAICS_CODE'].map(lambda x: str(x)[:2])\n",
        "#remove impurity in the column\n",
        "raw_df = raw_df[raw_df.PW_UNIT_OF_PAY != 'N']\n",
        "raw_df = raw_df[raw_df.PREVAILING_WAGE != 'N']\n",
        "#according to google, there are 2080 working hours per year\n",
        "pw_unit_column = {\"Year\":1, \"Hour\":2080, \"Month\":12, \"Week\":52, \"Bi-Weekly\":26}\n",
        "raw_df['PW_UNIT_OF_PAY'] = raw_df['PW_UNIT_OF_PAY'].replace(pw_unit_column)\n",
        "#remove ',' in the column value\n",
        "raw_df['PREVAILING_WAGE'] = raw_df['PREVAILING_WAGE'].astype('str')\n",
        "raw_df['PREVAILING_WAGE'] = raw_df.PREVAILING_WAGE.str.replace(',','')\n",
        "raw_df['PREVAILING_WAGE'] = raw_df['PREVAILING_WAGE'].astype('float')\n",
        "#add one column as ANNUAL_SALARY\n",
        "raw_df['ANNUAL_SALARY'] = raw_df['PREVAILING_WAGE'] * raw_df['PW_UNIT_OF_PAY']\n",
        "raw_df = raw_df.drop([\"PREVAILING_WAGE\", \"PW_UNIT_OF_PAY\"], axis=1)\n"
      ],
      "execution_count": 0,
      "outputs": []
    },
    {
      "cell_type": "code",
      "metadata": {
        "id": "RlHW_mcbbDY1",
        "colab_type": "code",
        "outputId": "c0725fd7-5799-4552-f093-9df8c518c38f",
        "colab": {
          "base_uri": "https://localhost:8080/",
          "height": 72
        }
      },
      "source": [
        "from sklearn.pipeline import Pipeline\n",
        "from sklearn.impute import SimpleImputer\n",
        "from sklearn.preprocessing import StandardScaler\n",
        "from sklearn.preprocessing import OneHotEncoder\n",
        "from sklearn.preprocessing import LabelEncoder\n",
        "from sklearn.compose import ColumnTransformer\n",
        "raw_set = raw_df.drop([\"CASE_STATUS\"], axis=1)\n",
        "raw_labels = raw_df[[\"CASE_STATUS\"]].copy()\n",
        "raw_set_num = raw_set.drop([\"AGENT_REPRESENTING_EMPLOYER\", \"SOC_CODE\", \"NAICS_CODE\",\n",
        "                                \"FULL_TIME_POSITION\", \"PW_WAGE_LEVEL\", \"H1B_DEPENDENT\", \"WILLFUL_VIOLATOR\",\n",
        "                                \"SUPPORT_H1B\", \"LABOR_CON_AGREE\", \"WORKSITE_STATE\"], axis=1)\n",
        "raw_set_cat = raw_set.drop([\"TOTAL_WORKERS\",\"NEW_EMPLOYMENT\",\"CONTINUED_EMPLOYMENT\",\n",
        "                                \"CHANGE_PREVIOUS_EMPLOYMENT\", \"NEW_CONCURRENT_EMP\", \"CHANGE_EMPLOYER\",\n",
        "                                \"AMENDED_PETITION\", \"EMP_PERIOD\", \"PROCESS_TIME\",\n",
        "                                \"ANNUAL_SALARY\"], axis=1)\n",
        "#build the pipeline\n",
        "num_pipeline = Pipeline([('imputer', SimpleImputer(strategy=\"median\")),('std_scaler', StandardScaler()),])\n",
        "cat_pipeline = Pipeline([('imputer', SimpleImputer(strategy=\"most_frequent\")),('cat', OneHotEncoder()),])\n",
        "full_pipeline = ColumnTransformer([(\"num\", num_pipeline, list(raw_set_num)),(\"cat\", cat_pipeline, list(raw_set_cat)),])\n",
        "\n",
        "#prepare the data\n",
        "raw_set = full_pipeline.fit_transform(raw_set)\n",
        "\n",
        "#prepare the target\n",
        "encoder = LabelEncoder()\n",
        "raw_labels = encoder.fit_transform(raw_labels)"
      ],
      "execution_count": 0,
      "outputs": [
        {
          "output_type": "stream",
          "text": [
            "/usr/local/lib/python3.6/dist-packages/sklearn/preprocessing/label.py:235: DataConversionWarning: A column-vector y was passed when a 1d array was expected. Please change the shape of y to (n_samples, ), for example using ravel().\n",
            "  y = column_or_1d(y, warn=True)\n"
          ],
          "name": "stderr"
        }
      ]
    },
    {
      "cell_type": "code",
      "metadata": {
        "id": "qDI1fvOWbMn3",
        "colab_type": "code",
        "outputId": "e5747844-220d-46c6-a5a0-b286893ebfce",
        "colab": {
          "base_uri": "https://localhost:8080/",
          "height": 34
        }
      },
      "source": [
        "raw_labels.shape"
      ],
      "execution_count": 0,
      "outputs": [
        {
          "output_type": "execute_result",
          "data": {
            "text/plain": [
              "(574522,)"
            ]
          },
          "metadata": {
            "tags": []
          },
          "execution_count": 14
        }
      ]
    },
    {
      "cell_type": "code",
      "metadata": {
        "id": "yDUxGVoik-cX",
        "colab_type": "code",
        "outputId": "76fd3260-5acb-47c7-d4d1-7dbfa809a2ac",
        "colab": {
          "base_uri": "https://localhost:8080/",
          "height": 34
        }
      },
      "source": [
        "import joblib\n",
        "joblib.dump(raw_set, PROJECT_ROOT_DIR + 'ml_project_dataset/' + 'raw_set' + '.gz', compress=('gzip', 3))\n",
        "joblib.dump(raw_labels, PROJECT_ROOT_DIR + 'ml_project_dataset/' + 'raw_labels' + '.gz', compress=('gzip', 3))"
      ],
      "execution_count": 0,
      "outputs": [
        {
          "output_type": "execute_result",
          "data": {
            "text/plain": [
              "['/content/drive/My Drive/ml_project_dataset/raw_labels.gz']"
            ]
          },
          "metadata": {
            "tags": []
          },
          "execution_count": 16
        }
      ]
    },
    {
      "cell_type": "code",
      "metadata": {
        "id": "AdPRnXkilPnL",
        "colab_type": "code",
        "colab": {}
      },
      "source": [
        "import joblib\n",
        "raw_set = joblib.load(PROJECT_ROOT_DIR + 'ml_project_dataset/' + 'raw_set' + '.gz')"
      ],
      "execution_count": 0,
      "outputs": []
    },
    {
      "cell_type": "code",
      "metadata": {
        "id": "QtXBto1F_1Zz",
        "colab_type": "code",
        "outputId": "d2bf6d12-2515-415d-dc64-5bb79688ea00",
        "colab": {
          "base_uri": "https://localhost:8080/",
          "height": 34
        }
      },
      "source": [
        "raw_set.shape"
      ],
      "execution_count": 0,
      "outputs": [
        {
          "output_type": "execute_result",
          "data": {
            "text/plain": [
              "(574522, 139)"
            ]
          },
          "metadata": {
            "tags": []
          },
          "execution_count": 5
        }
      ]
    },
    {
      "cell_type": "code",
      "metadata": {
        "id": "Ax_FT_nd_51U",
        "colab_type": "code",
        "colab": {}
      },
      "source": [
        ""
      ],
      "execution_count": 0,
      "outputs": []
    }
  ]
}